{
 "nbformat": 4,
 "nbformat_minor": 0,
 "metadata": {
  "colab": {
   "provenance": []
  },
  "kernelspec": {
   "name": "python3",
   "display_name": "Python 3"
  },
  "language_info": {
   "name": "python"
  }
 },
 "cells": [
  {
   "cell_type": "markdown",
   "source": [
    "# Convolutional Neural Networks for Image Classification"
   ],
   "metadata": {
    "id": "fdy8GknH4h4Z"
   }
  },
  {
   "cell_type": "markdown",
   "source": [
    "## Objectives:\n",
    "- Recall the basics of Convolutional Neural Networks (CNNs)\n",
    "- Learn how to build and train a simple CNN for image classification\n",
    "- Evaluate the performance of the trained model on a test dataset"
   ],
   "metadata": {
    "id": "fNkOaLhh4ohc"
   }
  },
  {
   "cell_type": "markdown",
   "source": [
    "## Convolutional Neural Network\n",
    "A Convolutional Neural Network (CNN) is a type of deep learning model that is specifically designed for processing data with a grid-like topology, such as images, video, and audio. The architecture of a CNN consists of multiple layers of learnable filters or kernels that are applied to the input data in a sliding window fashion to extract local features at different scales and resolutions. The filters are learned through backpropagation and gradient descent to optimize the performance of the network on a specific task, such as image classification, object detection, or segmentation. By stacking multiple convolutional layers, pooling layers, and fully connected layers, CNNs can learn increasingly complex features from the input, and achieve state-of-the-art performance on various computer vision tasks"
   ],
   "metadata": {
    "id": "xfPrB6yl4uyG"
   }
  },
  {
   "cell_type": "markdown",
   "source": [
    "## TensorFlow\n",
    "\n",
    "TensorFlow is an open-source deep learning framework developed by Google. It is designed to enable efficient computation and optimization of large-scale neural networks. It has become one of the most widely used deep learning frameworks, and has been used to develop a wide range of applications, such as image and speech recognition, natural language processing, and robotics."
   ],
   "metadata": {
    "id": "I1YmVKTb403W"
   }
  },
  {
   "cell_type": "markdown",
   "source": [
    "we can import it in your Python code using the following command:"
   ],
   "metadata": {
    "id": "hUXpXGCO45G0"
   }
  },
  {
   "cell_type": "code",
   "source": [
    "import tensorflow as tf"
   ],
   "metadata": {
    "id": "-6ZnTgA942ss",
    "ExecuteTime": {
     "end_time": "2025-08-17T19:59:10.468285Z",
     "start_time": "2025-08-17T19:59:08.410673Z"
    }
   },
   "outputs": [],
   "execution_count": 1
  },
  {
   "cell_type": "markdown",
   "source": [
    "### MNIST Dataset\n",
    "\n",
    "- MNIST (Modified National Institute of Standards and Technology) is a popular dataset of handwritten digits used for training and testing machine learning models, especially for image classification. The dataset consists of 70,000 grayscale images of size 28x28 pixels, with 60,000 images for training and 10,000 images for testing.\n",
    "\n",
    "- The MNIST dataset is often used as a starting point for learning about image classification and deep learning, and has been used to demonstrate the effectiveness of CNNs for image classification. The dataset is available for download from various sources, including the TensorFlow "
   ],
   "metadata": {
    "id": "ThPyHsmB5Gxl"
   }
  },
  {
   "cell_type": "code",
   "source": [
    "from tensorflow.keras.datasets import mnist\n",
    "\n",
    "# Load the MNIST dataset\n",
    "(x_train, y_train), (x_test, y_test) = mnist.load_data()\n",
    "\n",
    "print(f\"training data and labels before one-hot encoding:\")\n",
    "print(f\"{x_train.shape=}\")\n",
    "print(f\"{y_train.shape=}\")\n",
    "print(f\"{x_test[0][0]=}\")\n",
    "print(f\"{y_test[0:10]=}\")\n",
    "\n",
    "# Normalize the pixel values to a range of 0 to 1\n",
    "x_train = x_train / 255.0\n",
    "x_test = x_test / 255.0\n",
    "\n",
    "# Reshape the input data to a 4D tensor (batch_size, height, width, channels)\n",
    "x_train = x_train.reshape(x_train.shape[0], 28, 28, 1)\n",
    "x_test = x_test.reshape(x_test.shape[0], 28, 28, 1)\n",
    "\n",
    "# Convert the target labels to one-hot encoding\n",
    "y_train = tf.keras.utils.to_categorical(y_train, num_classes=10)\n",
    "y_test = tf.keras.utils.to_categorical(y_test, num_classes=10)\n",
    "\n",
    "# Print the shapes of the input and target data\n",
    "print(f\"training data and labels after one-hot encoding:\")\n",
    "print('Training data shape:', x_train.shape, y_train.shape)\n",
    "print('Test data shape:', x_test.shape, y_test.shape)\n",
    "print(f\"{y_test[0]=}\")"
   ],
   "metadata": {
    "colab": {
     "base_uri": "https://localhost:8080/"
    },
    "id": "r3OQsPe55DKI",
    "outputId": "68a29b2c-bd5e-44f3-fb30-28bbee290c6d",
    "ExecuteTime": {
     "end_time": "2025-08-17T19:59:10.560956Z",
     "start_time": "2025-08-17T19:59:10.476888Z"
    }
   },
   "outputs": [
    {
     "name": "stdout",
     "output_type": "stream",
     "text": [
      "training data and labels before one-hot encoding:\n",
      "x_train.shape=(60000, 28, 28)\n",
      "y_train.shape=(60000,)\n",
      "x_test[0][0]=array([0, 0, 0, 0, 0, 0, 0, 0, 0, 0, 0, 0, 0, 0, 0, 0, 0, 0, 0, 0, 0, 0,\n",
      "       0, 0, 0, 0, 0, 0], dtype=uint8)\n",
      "y_test[0:10]=array([7, 2, 1, 0, 4, 1, 4, 9, 5, 9], dtype=uint8)\n",
      "training data and labels after one-hot encoding:\n",
      "Training data shape: (60000, 28, 28, 1) (60000, 10)\n",
      "Test data shape: (10000, 28, 28, 1) (10000, 10)\n",
      "y_test[0]=array([0., 0., 0., 0., 0., 0., 0., 1., 0., 0.])\n"
     ]
    }
   ],
   "execution_count": 2
  },
  {
   "cell_type": "markdown",
   "source": [
    "To get more information about the dataset, let's plot some of the digits."
   ],
   "metadata": {
    "id": "3AHIEIUI5tie"
   }
  },
  {
   "cell_type": "code",
   "source": [
    "import matplotlib.pyplot as plt\n",
    "import numpy as np\n",
    "# Display the first 10 digits in the training set\n",
    "for i in range(10):\n",
    "    plt.subplot(2, 5, i+1)\n",
    "    plt.imshow(x_train[i], cmap='gray')\n",
    "    index_of_one = np.argmax(y_train[i])\n",
    "    plt.title(f\"Label: {index_of_one}\")\n",
    "    plt.axis('off')\n",
    "plt.show()"
   ],
   "metadata": {
    "colab": {
     "base_uri": "https://localhost:8080/",
     "height": 223
    },
    "id": "A1m8pasH5Lp_",
    "outputId": "15002a2f-e16f-4fbf-f566-f6bb0f3b55ea",
    "ExecuteTime": {
     "end_time": "2025-08-17T19:59:10.778309Z",
     "start_time": "2025-08-17T19:59:10.634449Z"
    }
   },
   "outputs": [
    {
     "data": {
      "text/plain": [
       "<Figure size 640x480 with 10 Axes>"
      ],
      "image/png": "[encoded data removed]"
     },
     "metadata": {},
     "output_type": "display_data"
    }
   ],
   "execution_count": 3
  },
  {
   "cell_type": "markdown",
   "source": [
    "Now, let's create the sequental model of the keras for adding the layers of the CNN one by one.\n",
    "\n",
    "The Sequential model should have the following architecture:\n",
    "-> Input with shape  [128×128×1]\n",
    " \n",
    "-> Conv2D (32 filters; kernel size is  [3×3]\n",
    " ; activation function is relu )\n",
    "\n",
    "\n",
    "-> MaxPooling2D layer with pool size  [2×2]\n",
    " \n",
    "-> Conv2D (64 filters; kernel size is  [3×3]\n",
    " ; activation function is relu )\n",
    "\n",
    "-> MaxPooling2D layer with pool size  [2×2]\n",
    " \n",
    "-> Flatten\n",
    "\n",
    "-> Dropout layer with the 50% rate\n",
    "\n",
    "-> Dense layer with the softmax activation function (you should also specify the number of output classes)"
   ],
   "metadata": {
    "id": "L-zShgSU9FW1"
   }
  },
  {
   "cell_type": "code",
   "source": [
    "# implement the CNN model with the given architecture above\n",
    "from tensorflow import keras\n",
    "from tensorflow.keras import datasets, layers, models, losses\n",
    "\n",
    "num_classes = 10\n",
    "input_shape = (28, 28, 1)\n",
    "\n",
    "model = keras.Sequential(\n",
    "    [\n",
    "        keras.Input(shape=input_shape),\n",
    "        layers.Conv2D(32, kernel_size=(3, 3), activation=\"relu\"),\n",
    "        layers.MaxPooling2D(pool_size=(2, 2)),\n",
    "        layers.Conv2D(64, kernel_size=(3, 3), activation=\"relu\"),\n",
    "        layers.MaxPooling2D(pool_size=(2, 2)),\n",
    "        layers.Flatten(),\n",
    "        layers.Dropout(0.5),\n",
    "        layers.Dense(num_classes, activation=\"softmax\"),\n",
    "    ]\n",
    ")\n",
    "\n",
    "model.summary()"
   ],
   "metadata": {
    "colab": {
     "base_uri": "https://localhost:8080/"
    },
    "id": "zotHMamL8KO0",
    "outputId": "88060919-ffe4-40d1-fe35-9a3586cdf498",
    "ExecuteTime": {
     "end_time": "2025-08-17T19:59:10.818852Z",
     "start_time": "2025-08-17T19:59:10.786804Z"
    }
   },
   "outputs": [
    {
     "data": {
      "text/plain": [
       "\u001B[1mModel: \"sequential\"\u001B[0m\n"
      ],
      "text/html": [
       "<pre style=\"white-space:pre;overflow-x:auto;line-height:normal;font-family:Menlo,'DejaVu Sans Mono',consolas,'Courier New',monospace\"><span style=\"font-weight: bold\">Model: \"sequential\"</span>\n",
       "</pre>\n"
      ]
     },
     "metadata": {},
     "output_type": "display_data"
    },
    {
     "data": {
      "text/plain": [
       "┏━━━━━━━━━━━━━━━━━━━━━━━━━━━━━━━━━┳━━━━━━━━━━━━━━━━━━━━━━━━┳━━━━━━━━━━━━━━━┓\n",
       "┃\u001B[1m \u001B[0m\u001B[1mLayer (type)                   \u001B[0m\u001B[1m \u001B[0m┃\u001B[1m \u001B[0m\u001B[1mOutput Shape          \u001B[0m\u001B[1m \u001B[0m┃\u001B[1m \u001B[0m\u001B[1m      Param #\u001B[0m\u001B[1m \u001B[0m┃\n",
       "┡━━━━━━━━━━━━━━━━━━━━━━━━━━━━━━━━━╇━━━━━━━━━━━━━━━━━━━━━━━━╇━━━━━━━━━━━━━━━┩\n",
       "│ conv2d (\u001B[38;5;33mConv2D\u001B[0m)                 │ (\u001B[38;5;45mNone\u001B[0m, \u001B[38;5;34m26\u001B[0m, \u001B[38;5;34m26\u001B[0m, \u001B[38;5;34m32\u001B[0m)     │           \u001B[38;5;34m320\u001B[0m │\n",
       "├─────────────────────────────────┼────────────────────────┼───────────────┤\n",
       "│ max_pooling2d (\u001B[38;5;33mMaxPooling2D\u001B[0m)    │ (\u001B[38;5;45mNone\u001B[0m, \u001B[38;5;34m13\u001B[0m, \u001B[38;5;34m13\u001B[0m, \u001B[38;5;34m32\u001B[0m)     │             \u001B[38;5;34m0\u001B[0m │\n",
       "├─────────────────────────────────┼────────────────────────┼───────────────┤\n",
       "│ conv2d_1 (\u001B[38;5;33mConv2D\u001B[0m)               │ (\u001B[38;5;45mNone\u001B[0m, \u001B[38;5;34m11\u001B[0m, \u001B[38;5;34m11\u001B[0m, \u001B[38;5;34m64\u001B[0m)     │        \u001B[38;5;34m18,496\u001B[0m │\n",
       "├─────────────────────────────────┼────────────────────────┼───────────────┤\n",
       "│ max_pooling2d_1 (\u001B[38;5;33mMaxPooling2D\u001B[0m)  │ (\u001B[38;5;45mNone\u001B[0m, \u001B[38;5;34m5\u001B[0m, \u001B[38;5;34m5\u001B[0m, \u001B[38;5;34m64\u001B[0m)       │             \u001B[38;5;34m0\u001B[0m │\n",
       "├─────────────────────────────────┼────────────────────────┼───────────────┤\n",
       "│ flatten (\u001B[38;5;33mFlatten\u001B[0m)               │ (\u001B[38;5;45mNone\u001B[0m, \u001B[38;5;34m1600\u001B[0m)           │             \u001B[38;5;34m0\u001B[0m │\n",
       "├─────────────────────────────────┼────────────────────────┼───────────────┤\n",
       "│ dropout (\u001B[38;5;33mDropout\u001B[0m)               │ (\u001B[38;5;45mNone\u001B[0m, \u001B[38;5;34m1600\u001B[0m)           │             \u001B[38;5;34m0\u001B[0m │\n",
       "├─────────────────────────────────┼────────────────────────┼───────────────┤\n",
       "│ dense (\u001B[38;5;33mDense\u001B[0m)                   │ (\u001B[38;5;45mNone\u001B[0m, \u001B[38;5;34m10\u001B[0m)             │        \u001B[38;5;34m16,010\u001B[0m │\n",
       "└─────────────────────────────────┴────────────────────────┴───────────────┘\n"
      ],
      "text/html": [
       "<pre style=\"white-space:pre;overflow-x:auto;line-height:normal;font-family:Menlo,'DejaVu Sans Mono',consolas,'Courier New',monospace\">┏━━━━━━━━━━━━━━━━━━━━━━━━━━━━━━━━━┳━━━━━━━━━━━━━━━━━━━━━━━━┳━━━━━━━━━━━━━━━┓\n",
       "┃<span style=\"font-weight: bold\"> Layer (type)                    </span>┃<span style=\"font-weight: bold\"> Output Shape           </span>┃<span style=\"font-weight: bold\">       Param # </span>┃\n",
       "┡━━━━━━━━━━━━━━━━━━━━━━━━━━━━━━━━━╇━━━━━━━━━━━━━━━━━━━━━━━━╇━━━━━━━━━━━━━━━┩\n",
       "│ conv2d (<span style=\"color: #0087ff; text-decoration-color: #0087ff\">Conv2D</span>)                 │ (<span style=\"color: #00d7ff; text-decoration-color: #00d7ff\">None</span>, <span style=\"color: #00af00; text-decoration-color: #00af00\">26</span>, <span style=\"color: #00af00; text-decoration-color: #00af00\">26</span>, <span style=\"color: #00af00; text-decoration-color: #00af00\">32</span>)     │           <span style=\"color: #00af00; text-decoration-color: #00af00\">320</span> │\n",
       "├─────────────────────────────────┼────────────────────────┼───────────────┤\n",
       "│ max_pooling2d (<span style=\"color: #0087ff; text-decoration-color: #0087ff\">MaxPooling2D</span>)    │ (<span style=\"color: #00d7ff; text-decoration-color: #00d7ff\">None</span>, <span style=\"color: #00af00; text-decoration-color: #00af00\">13</span>, <span style=\"color: #00af00; text-decoration-color: #00af00\">13</span>, <span style=\"color: #00af00; text-decoration-color: #00af00\">32</span>)     │             <span style=\"color: #00af00; text-decoration-color: #00af00\">0</span> │\n",
       "├─────────────────────────────────┼────────────────────────┼───────────────┤\n",
       "│ conv2d_1 (<span style=\"color: #0087ff; text-decoration-color: #0087ff\">Conv2D</span>)               │ (<span style=\"color: #00d7ff; text-decoration-color: #00d7ff\">None</span>, <span style=\"color: #00af00; text-decoration-color: #00af00\">11</span>, <span style=\"color: #00af00; text-decoration-color: #00af00\">11</span>, <span style=\"color: #00af00; text-decoration-color: #00af00\">64</span>)     │        <span style=\"color: #00af00; text-decoration-color: #00af00\">18,496</span> │\n",
       "├─────────────────────────────────┼────────────────────────┼───────────────┤\n",
       "│ max_pooling2d_1 (<span style=\"color: #0087ff; text-decoration-color: #0087ff\">MaxPooling2D</span>)  │ (<span style=\"color: #00d7ff; text-decoration-color: #00d7ff\">None</span>, <span style=\"color: #00af00; text-decoration-color: #00af00\">5</span>, <span style=\"color: #00af00; text-decoration-color: #00af00\">5</span>, <span style=\"color: #00af00; text-decoration-color: #00af00\">64</span>)       │             <span style=\"color: #00af00; text-decoration-color: #00af00\">0</span> │\n",
       "├─────────────────────────────────┼────────────────────────┼───────────────┤\n",
       "│ flatten (<span style=\"color: #0087ff; text-decoration-color: #0087ff\">Flatten</span>)               │ (<span style=\"color: #00d7ff; text-decoration-color: #00d7ff\">None</span>, <span style=\"color: #00af00; text-decoration-color: #00af00\">1600</span>)           │             <span style=\"color: #00af00; text-decoration-color: #00af00\">0</span> │\n",
       "├─────────────────────────────────┼────────────────────────┼───────────────┤\n",
       "│ dropout (<span style=\"color: #0087ff; text-decoration-color: #0087ff\">Dropout</span>)               │ (<span style=\"color: #00d7ff; text-decoration-color: #00d7ff\">None</span>, <span style=\"color: #00af00; text-decoration-color: #00af00\">1600</span>)           │             <span style=\"color: #00af00; text-decoration-color: #00af00\">0</span> │\n",
       "├─────────────────────────────────┼────────────────────────┼───────────────┤\n",
       "│ dense (<span style=\"color: #0087ff; text-decoration-color: #0087ff\">Dense</span>)                   │ (<span style=\"color: #00d7ff; text-decoration-color: #00d7ff\">None</span>, <span style=\"color: #00af00; text-decoration-color: #00af00\">10</span>)             │        <span style=\"color: #00af00; text-decoration-color: #00af00\">16,010</span> │\n",
       "└─────────────────────────────────┴────────────────────────┴───────────────┘\n",
       "</pre>\n"
      ]
     },
     "metadata": {},
     "output_type": "display_data"
    },
    {
     "data": {
      "text/plain": [
       "\u001B[1m Total params: \u001B[0m\u001B[38;5;34m34,826\u001B[0m (136.04 KB)\n"
      ],
      "text/html": [
       "<pre style=\"white-space:pre;overflow-x:auto;line-height:normal;font-family:Menlo,'DejaVu Sans Mono',consolas,'Courier New',monospace\"><span style=\"font-weight: bold\"> Total params: </span><span style=\"color: #00af00; text-decoration-color: #00af00\">34,826</span> (136.04 KB)\n",
       "</pre>\n"
      ]
     },
     "metadata": {},
     "output_type": "display_data"
    },
    {
     "data": {
      "text/plain": [
       "\u001B[1m Trainable params: \u001B[0m\u001B[38;5;34m34,826\u001B[0m (136.04 KB)\n"
      ],
      "text/html": [
       "<pre style=\"white-space:pre;overflow-x:auto;line-height:normal;font-family:Menlo,'DejaVu Sans Mono',consolas,'Courier New',monospace\"><span style=\"font-weight: bold\"> Trainable params: </span><span style=\"color: #00af00; text-decoration-color: #00af00\">34,826</span> (136.04 KB)\n",
       "</pre>\n"
      ]
     },
     "metadata": {},
     "output_type": "display_data"
    },
    {
     "data": {
      "text/plain": [
       "\u001B[1m Non-trainable params: \u001B[0m\u001B[38;5;34m0\u001B[0m (0.00 B)\n"
      ],
      "text/html": [
       "<pre style=\"white-space:pre;overflow-x:auto;line-height:normal;font-family:Menlo,'DejaVu Sans Mono',consolas,'Courier New',monospace\"><span style=\"font-weight: bold\"> Non-trainable params: </span><span style=\"color: #00af00; text-decoration-color: #00af00\">0</span> (0.00 B)\n",
       "</pre>\n"
      ]
     },
     "metadata": {},
     "output_type": "display_data"
    }
   ],
   "execution_count": 4
  },
  {
   "cell_type": "markdown",
   "source": [
    "### What is the \"Flatten\" layer?\n",
    "\n",
    "- In a CNN, the convolutional layers perform feature extraction by applying filters to the input image. The output of these layers is a 3D tensor that contains the spatial information of the image, as well as the extracted features. However, in order to feed this output to a fully connected layer, we need to convert it into a 1D tensor, which can be achieved using the flatten layer.\n",
    "\n",
    "- The flatten layer takes the 3D tensor output of the last convolutional layer and converts it into a 1D tensor by reshaping it. This process does not modify the data, but rather rearranges it into a linear sequence. This linear sequence can then be fed to the fully connected layers, which can then learn to classify the image."
   ],
   "metadata": {
    "id": "jYvQG9DSAIHi"
   }
  },
  {
   "cell_type": "markdown",
   "source": [
    "Let's start the training process.  Before that, we should config the model with losses and metrics with model.compile()."
   ],
   "metadata": {
    "id": "a9r99_-b-FJm"
   }
  },
  {
   "cell_type": "code",
   "source": [
    "batch_size = 128\n",
    "epochs = 10\n",
    "\n",
    "model.compile(loss=\"categorical_crossentropy\", optimizer=\"adam\", metrics=[\"accuracy\"])\n",
    "\n",
    "history = model.fit(x_train, y_train, batch_size=batch_size, epochs=epochs, validation_split=0.1)\n",
    "\n"
   ],
   "metadata": {
    "colab": {
     "base_uri": "https://localhost:8080/"
    },
    "id": "rzDZd12a9lFn",
    "outputId": "b7f5bb48-0c11-4caf-9104-abb04aaaafdd",
    "ExecuteTime": {
     "end_time": "2025-08-17T19:59:41.106875Z",
     "start_time": "2025-08-17T19:59:10.838792Z"
    }
   },
   "outputs": [
    {
     "name": "stdout",
     "output_type": "stream",
     "text": [
      "Epoch 1/10\n",
      "\u001B[1m422/422\u001B[0m \u001B[32m━━━━━━━━━━━━━━━━━━━━\u001B[0m\u001B[37m\u001B[0m \u001B[1m3s\u001B[0m 7ms/step - accuracy: 0.8878 - loss: 0.3653 - val_accuracy: 0.9775 - val_loss: 0.0825\n",
      "Epoch 2/10\n",
      "\u001B[1m422/422\u001B[0m \u001B[32m━━━━━━━━━━━━━━━━━━━━\u001B[0m\u001B[37m\u001B[0m \u001B[1m3s\u001B[0m 7ms/step - accuracy: 0.9642 - loss: 0.1171 - val_accuracy: 0.9837 - val_loss: 0.0556\n",
      "Epoch 3/10\n",
      "\u001B[1m422/422\u001B[0m \u001B[32m━━━━━━━━━━━━━━━━━━━━\u001B[0m\u001B[37m\u001B[0m \u001B[1m3s\u001B[0m 7ms/step - accuracy: 0.9731 - loss: 0.0859 - val_accuracy: 0.9848 - val_loss: 0.0513\n",
      "Epoch 4/10\n",
      "\u001B[1m422/422\u001B[0m \u001B[32m━━━━━━━━━━━━━━━━━━━━\u001B[0m\u001B[37m\u001B[0m \u001B[1m3s\u001B[0m 7ms/step - accuracy: 0.9762 - loss: 0.0739 - val_accuracy: 0.9875 - val_loss: 0.0426\n",
      "Epoch 5/10\n",
      "\u001B[1m422/422\u001B[0m \u001B[32m━━━━━━━━━━━━━━━━━━━━\u001B[0m\u001B[37m\u001B[0m \u001B[1m3s\u001B[0m 7ms/step - accuracy: 0.9800 - loss: 0.0631 - val_accuracy: 0.9880 - val_loss: 0.0400\n",
      "Epoch 6/10\n",
      "\u001B[1m422/422\u001B[0m \u001B[32m━━━━━━━━━━━━━━━━━━━━\u001B[0m\u001B[37m\u001B[0m \u001B[1m3s\u001B[0m 7ms/step - accuracy: 0.9821 - loss: 0.0576 - val_accuracy: 0.9890 - val_loss: 0.0371\n",
      "Epoch 7/10\n",
      "\u001B[1m422/422\u001B[0m \u001B[32m━━━━━━━━━━━━━━━━━━━━\u001B[0m\u001B[37m\u001B[0m \u001B[1m3s\u001B[0m 7ms/step - accuracy: 0.9835 - loss: 0.0529 - val_accuracy: 0.9885 - val_loss: 0.0377\n",
      "Epoch 8/10\n",
      "\u001B[1m422/422\u001B[0m \u001B[32m━━━━━━━━━━━━━━━━━━━━\u001B[0m\u001B[37m\u001B[0m \u001B[1m3s\u001B[0m 7ms/step - accuracy: 0.9845 - loss: 0.0504 - val_accuracy: 0.9903 - val_loss: 0.0340\n",
      "Epoch 9/10\n",
      "\u001B[1m422/422\u001B[0m \u001B[32m━━━━━━━━━━━━━━━━━━━━\u001B[0m\u001B[37m\u001B[0m \u001B[1m3s\u001B[0m 7ms/step - accuracy: 0.9852 - loss: 0.0463 - val_accuracy: 0.9892 - val_loss: 0.0344\n",
      "Epoch 10/10\n",
      "\u001B[1m422/422\u001B[0m \u001B[32m━━━━━━━━━━━━━━━━━━━━\u001B[0m\u001B[37m\u001B[0m \u001B[1m3s\u001B[0m 7ms/step - accuracy: 0.9857 - loss: 0.0445 - val_accuracy: 0.9910 - val_loss: 0.0347\n"
     ]
    }
   ],
   "execution_count": 5
  },
  {
   "cell_type": "markdown",
   "source": [
    "Let's plot the diagram which shows the progress in loss of the model during the train:"
   ],
   "metadata": {
    "id": "sSe0qcAW_O_a"
   }
  },
  {
   "cell_type": "code",
   "source": [
    "plt.plot(history.history['loss'])\n",
    "plt.plot(history.history['val_loss'])\n",
    "plt.title('model loss')\n",
    "plt.ylabel('loss')\n",
    "plt.xlabel('epoch')\n",
    "plt.legend(['train', 'val'], loc='upper left')\n",
    "plt.show()"
   ],
   "metadata": {
    "colab": {
     "base_uri": "https://localhost:8080/",
     "height": 295
    },
    "id": "a3X56knI-NHN",
    "outputId": "2af23ec4-8b96-4299-fed8-79adaea01fa3",
    "ExecuteTime": {
     "end_time": "2025-08-17T19:59:53.257553Z",
     "start_time": "2025-08-17T19:59:53.213281Z"
    }
   },
   "outputs": [
    {
     "data": {
      "text/plain": [
       "<Figure size 640x480 with 1 Axes>"
      ],
      "image/png": "[encoded data removed]"
     },
     "metadata": {},
     "output_type": "display_data"
    }
   ],
   "execution_count": 9
  },
  {
   "cell_type": "markdown",
   "source": [
    "We can also plot the diagram which shows the progress of the model with regard to its accuracy."
   ],
   "metadata": {
    "id": "M3jeIOVs_UcB"
   }
  },
  {
   "cell_type": "code",
   "source": [
    "plt.plot(history.history['accuracy'])\n",
    "plt.plot(history.history['val_accuracy'])\n",
    "plt.title('model accuracy')\n",
    "plt.ylabel('accuracy')\n",
    "plt.xlabel('epoch')\n",
    "plt.legend(['train', 'val'], loc='upper left')\n",
    "plt.show()"
   ],
   "metadata": {
    "colab": {
     "base_uri": "https://localhost:8080/",
     "height": 295
    },
    "id": "RcS4V6cr_Rsf",
    "outputId": "549a1146-97dd-45bf-e4d3-a0e76725b343",
    "ExecuteTime": {
     "end_time": "2025-08-17T20:00:03.016943Z",
     "start_time": "2025-08-17T20:00:02.974948Z"
    }
   },
   "outputs": [
    {
     "data": {
      "text/plain": [
       "<Figure size 640x480 with 1 Axes>"
      ],
      "image/png": "[encoded data removed]"
     },
     "metadata": {},
     "output_type": "display_data"
    }
   ],
   "execution_count": 10
  },
  {
   "cell_type": "markdown",
   "source": [
    "Finally, let's evaluate our CNN on the test set"
   ],
   "metadata": {
    "id": "nsiAR6LP_c8X"
   }
  },
  {
   "cell_type": "code",
   "source": [
    "score = model.evaluate(x_test, y_test, verbose=0)\n",
    "print(\"Test loss:\", score[0])\n",
    "print(\"Test accuracy:\", score[1])"
   ],
   "metadata": {
    "colab": {
     "base_uri": "https://localhost:8080/"
    },
    "id": "Ebga6Gzq_Z1U",
    "outputId": "8ff3b55f-e4c7-4217-9919-78ed4a670a61",
    "ExecuteTime": {
     "end_time": "2025-08-17T20:00:12.693489Z",
     "start_time": "2025-08-17T20:00:12.361663Z"
    }
   },
   "outputs": [
    {
     "name": "stdout",
     "output_type": "stream",
     "text": [
      "Test loss: 0.02922002226114273\n",
      "Test accuracy: 0.9907000064849854\n"
     ]
    }
   ],
   "execution_count": 11
  },
  {
   "cell_type": "markdown",
   "source": [
    "## Challenge Activity"
   ],
   "metadata": {
    "id": "lmw1RttZr6zp"
   }
  },
  {
   "cell_type": "markdown",
   "source": [
    "The CNN we built has a **Dropout** layer. \n",
    "\n",
    "1. Read the original dropout paper by Geoffrey Hinton et al., \"Dropout: A Simple Way to Prevent Neural Networks from Overfitting\" (2014), to understand the importance of DropOut. \n",
    "\n",
    "2. Finally, create a new CNN without Dropout layer, train and test it the same way as above to see  impact on performance."
   ],
   "metadata": {
    "id": "DwnoEnf1sOZa"
   }
  },
  {
   "cell_type": "code",
   "source": [],
   "metadata": {
    "id": "d9_V0FSJulOP",
    "ExecuteTime": {
     "end_time": "2025-08-17T19:59:41.524297Z",
     "start_time": "2025-08-17T19:59:41.522971Z"
    }
   },
   "outputs": [],
   "execution_count": null
  }
 ]
}
