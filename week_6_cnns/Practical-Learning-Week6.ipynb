{
  "nbformat": 4,
  "nbformat_minor": 0,
  "metadata": {
    "colab": {
      "provenance": []
    },
    "kernelspec": {
      "name": "python3",
      "display_name": "Python 3"
    },
    "language_info": {
      "name": "python"
    }
  },
  "cells": [
    {
      "cell_type": "markdown",
      "source": [
        "# Convolutional Neural Networks for Image Classification"
      ],
      "metadata": {
        "id": "fdy8GknH4h4Z"
      }
    },
    {
      "cell_type": "markdown",
      "source": [
        "## Objectives:\n",
        "- Recall the basics of Convolutional Neural Networks (CNNs)\n",
        "- Learn how to build and train a simple CNN for image classification\n",
        "- Evaluate the performance of the trained model on a test dataset"
      ],
      "metadata": {
        "id": "fNkOaLhh4ohc"
      }
    },
    {
      "cell_type": "markdown",
      "source": [
        "## Convolutional Neural Network\n",
        "A Convolutional Neural Network (CNN) is a type of deep learning model that is specifically designed for processing data with a grid-like topology, such as images, video, and audio. The architecture of a CNN consists of multiple layers of learnable filters or kernels that are applied to the input data in a sliding window fashion to extract local features at different scales and resolutions. The filters are learned through backpropagation and gradient descent to optimize the performance of the network on a specific task, such as image classification, object detection, or segmentation. By stacking multiple convolutional layers, pooling layers, and fully connected layers, CNNs can learn increasingly complex features from the input, and achieve state-of-the-art performance on various computer vision tasks"
      ],
      "metadata": {
        "id": "xfPrB6yl4uyG"
      }
    },
    {
      "cell_type": "markdown",
      "source": [
        "## TensorFlow\n",
        "\n",
        "TensorFlow is an open-source deep learning framework developed by Google. It is designed to enable efficient computation and optimization of large-scale neural networks. It has become one of the most widely used deep learning frameworks, and has been used to develop a wide range of applications, such as image and speech recognition, natural language processing, and robotics."
      ],
      "metadata": {
        "id": "I1YmVKTb403W"
      }
    },
    {
      "cell_type": "markdown",
      "source": [
        "we can import it in your Python code using the following command:"
      ],
      "metadata": {
        "id": "hUXpXGCO45G0"
      }
    },
    {
      "cell_type": "code",
      "source": [
        "import tensorflow as tf"
      ],
      "metadata": {
        "id": "-6ZnTgA942ss"
      },
      "execution_count": null,
      "outputs": []
    },
    {
      "cell_type": "markdown",
      "source": [
        "### MNIST Dataset\n",
        "\n",
        "- MNIST (Modified National Institute of Standards and Technology) is a popular dataset of handwritten digits used for training and testing machine learning models, especially for image classification. The dataset consists of 70,000 grayscale images of size 28x28 pixels, with 60,000 images for training and 10,000 images for testing.\n",
        "\n",
        "- The MNIST dataset is often used as a starting point for learning about image classification and deep learning, and has been used to demonstrate the effectiveness of CNNs for image classification. The dataset is available for download from various sources, including the TensorFlow "
      ],
      "metadata": {
        "id": "ThPyHsmB5Gxl"
      }
    },
    {
      "cell_type": "code",
      "source": [
        "from tensorflow.keras.datasets import mnist\n",
        "\n",
        "# Load the MNIST dataset\n",
        "(x_train, y_train), (x_test, y_test) = mnist.load_data()\n",
        "\n",
        "# Normalize the pixel values to a range of 0 to 1\n",
        "x_train = x_train / 255.0\n",
        "x_test = x_test / 255.0\n",
        "\n",
        "# Reshape the input data to a 4D tensor (batch_size, height, width, channels)\n",
        "x_train = x_train.reshape(x_train.shape[0], 28, 28, 1)\n",
        "x_test = x_test.reshape(x_test.shape[0], 28, 28, 1)\n",
        "\n",
        "# Convert the target labels to one-hot encoding\n",
        "y_train = tf.keras.utils.to_categorical(y_train, num_classes=10)\n",
        "y_test = tf.keras.utils.to_categorical(y_test, num_classes=10)\n",
        "\n",
        "# Print the shapes of the input and target data\n",
        "print('Training data shape:', x_train.shape, y_train.shape)\n",
        "print('Test data shape:', x_test.shape, y_test.shape)"
      ],
      "metadata": {
        "colab": {
          "base_uri": "https://localhost:8080/"
        },
        "id": "r3OQsPe55DKI",
        "outputId": "68a29b2c-bd5e-44f3-fb30-28bbee290c6d"
      },
      "execution_count": null,
      "outputs": [
        {
          "output_type": "stream",
          "name": "stdout",
          "text": [
            "Downloading data from https://storage.googleapis.com/tensorflow/tf-keras-datasets/mnist.npz\n",
            "11490434/11490434 [==============================] - 0s 0us/step\n",
            "Training data shape: (60000, 28, 28, 1) (60000, 10)\n",
            "Test data shape: (10000, 28, 28, 1) (10000, 10)\n"
          ]
        }
      ]
    },
    {
      "cell_type": "markdown",
      "source": [
        "To get more information about the dataset, let's plot some of the digits."
      ],
      "metadata": {
        "id": "3AHIEIUI5tie"
      }
    },
    {
      "cell_type": "code",
      "source": [
        "import matplotlib.pyplot as plt\n",
        "import numpy as np\n",
        "# Display the first 10 digits in the training set\n",
        "for i in range(10):\n",
        "    plt.subplot(2, 5, i+1)\n",
        "    plt.imshow(x_train[i], cmap='gray')\n",
        "    index_of_one = np.argmax(y_train[i])\n",
        "    plt.title(f\"Label: {index_of_one}\")\n",
        "    plt.axis('off')\n",
        "plt.show()"
      ],
      "metadata": {
        "colab": {
          "base_uri": "https://localhost:8080/",
          "height": 223
        },
        "id": "A1m8pasH5Lp_",
        "outputId": "15002a2f-e16f-4fbf-f566-f6bb0f3b55ea"
      },
      "execution_count": null,
      "outputs": [
        {
          "output_type": "display_data",
          "data": {
            "text/plain": [
              "<Figure size 432x288 with 10 Axes>"
            ],
            "image/png": "[encoded data removed]"
          },
          "metadata": {
            "needs_background": "light"
          }
        }
      ]
    },
    {
      "cell_type": "markdown",
      "source": [
        "Now, let's create the sequental model of the keras for adding the layers of the CNN one by one.\n",
        "\n",
        "The Sequential model should have the following architecture:\n",
        "-> Input with shape  [128×128×1]\n",
        " \n",
        "-> Conv2D (32 filters; kernel size is  [3×3]\n",
        " ; activation function is relu )\n",
        "\n",
        "\n",
        "-> MaxPooling2D layer with pool size  [2×2]\n",
        " \n",
        "-> Conv2D (64 filters; kernel size is  [3×3]\n",
        " ; activation function is relu )\n",
        "\n",
        "-> MaxPooling2D layer with pool size  [2×2]\n",
        " \n",
        "-> Flatten\n",
        "\n",
        "-> Dropout layer with the 50% rate\n",
        "\n",
        "-> Dense layer with the softmax activation function (you should also specify the number of output classes)"
      ],
      "metadata": {
        "id": "L-zShgSU9FW1"
      }
    },
    {
      "cell_type": "code",
      "source": [
        "# implement the CNN model with the given architecture above\n",
        "from tensorflow import keras\n",
        "from tensorflow.keras import datasets, layers, models, losses\n",
        "\n",
        "num_classes = 10\n",
        "input_shape = (28, 28, 1)\n",
        "\n",
        "model = keras.Sequential(\n",
        "    [\n",
        "        keras.Input(shape=input_shape),\n",
        "        layers.Conv2D(32, kernel_size=(3, 3), activation=\"relu\"),\n",
        "        layers.MaxPooling2D(pool_size=(2, 2)),\n",
        "        layers.Conv2D(64, kernel_size=(3, 3), activation=\"relu\"),\n",
        "        layers.MaxPooling2D(pool_size=(2, 2)),\n",
        "        layers.Flatten(),\n",
        "        layers.Dropout(0.5),\n",
        "        layers.Dense(num_classes, activation=\"softmax\"),\n",
        "    ]\n",
        ")\n",
        "\n",
        "model.summary()"
      ],
      "metadata": {
        "colab": {
          "base_uri": "https://localhost:8080/"
        },
        "id": "zotHMamL8KO0",
        "outputId": "88060919-ffe4-40d1-fe35-9a3586cdf498"
      },
      "execution_count": null,
      "outputs": [
        {
          "output_type": "stream",
          "name": "stdout",
          "text": [
            "Model: \"sequential\"\n",
            "_________________________________________________________________\n",
            " Layer (type)                Output Shape              Param #   \n",
            "=================================================================\n",
            " conv2d (Conv2D)             (None, 26, 26, 32)        320       \n",
            "                                                                 \n",
            " max_pooling2d (MaxPooling2D  (None, 13, 13, 32)       0         \n",
            " )                                                               \n",
            "                                                                 \n",
            " conv2d_1 (Conv2D)           (None, 11, 11, 64)        18496     \n",
            "                                                                 \n",
            " max_pooling2d_1 (MaxPooling  (None, 5, 5, 64)         0         \n",
            " 2D)                                                             \n",
            "                                                                 \n",
            " flatten (Flatten)           (None, 1600)              0         \n",
            "                                                                 \n",
            " dropout (Dropout)           (None, 1600)              0         \n",
            "                                                                 \n",
            " dense (Dense)               (None, 10)                16010     \n",
            "                                                                 \n",
            "=================================================================\n",
            "Total params: 34,826\n",
            "Trainable params: 34,826\n",
            "Non-trainable params: 0\n",
            "_________________________________________________________________\n"
          ]
        }
      ]
    },
    {
      "cell_type": "markdown",
      "source": [
        "### What is the \"Flatten\" layer?\n",
        "\n",
        "- In a CNN, the convolutional layers perform feature extraction by applying filters to the input image. The output of these layers is a 3D tensor that contains the spatial information of the image, as well as the extracted features. However, in order to feed this output to a fully connected layer, we need to convert it into a 1D tensor, which can be achieved using the flatten layer.\n",
        "\n",
        "- The flatten layer takes the 3D tensor output of the last convolutional layer and converts it into a 1D tensor by reshaping it. This process does not modify the data, but rather rearranges it into a linear sequence. This linear sequence can then be fed to the fully connected layers, which can then learn to classify the image."
      ],
      "metadata": {
        "id": "jYvQG9DSAIHi"
      }
    },
    {
      "cell_type": "markdown",
      "source": [
        "Let's start the training process.  Before that, we should config the model with losses and metrics with model.compile()."
      ],
      "metadata": {
        "id": "a9r99_-b-FJm"
      }
    },
    {
      "cell_type": "code",
      "source": [
        "batch_size = 128\n",
        "epochs = 5\n",
        "\n",
        "model.compile(loss=\"categorical_crossentropy\", optimizer=\"adam\", metrics=[\"accuracy\"])\n",
        "\n",
        "history = model.fit(x_train, y_train, batch_size=batch_size, epochs=epochs, validation_split=0.1)\n",
        "\n"
      ],
      "metadata": {
        "colab": {
          "base_uri": "https://localhost:8080/"
        },
        "id": "rzDZd12a9lFn",
        "outputId": "b7f5bb48-0c11-4caf-9104-abb04aaaafdd"
      },
      "execution_count": null,
      "outputs": [
        {
          "output_type": "stream",
          "name": "stdout",
          "text": [
            "Epoch 1/5\n",
            "422/422 [==============================] - 51s 118ms/step - loss: 0.3625 - accuracy: 0.8905 - val_loss: 0.0782 - val_accuracy: 0.9793\n",
            "Epoch 2/5\n",
            "422/422 [==============================] - 48s 113ms/step - loss: 0.1101 - accuracy: 0.9675 - val_loss: 0.0560 - val_accuracy: 0.9852\n",
            "Epoch 3/5\n",
            "422/422 [==============================] - 50s 119ms/step - loss: 0.0855 - accuracy: 0.9731 - val_loss: 0.0462 - val_accuracy: 0.9862\n",
            "Epoch 4/5\n",
            "422/422 [==============================] - 49s 116ms/step - loss: 0.0705 - accuracy: 0.9780 - val_loss: 0.0397 - val_accuracy: 0.9887\n",
            "Epoch 5/5\n",
            "422/422 [==============================] - 49s 116ms/step - loss: 0.0628 - accuracy: 0.9804 - val_loss: 0.0378 - val_accuracy: 0.9892\n"
          ]
        }
      ]
    },
    {
      "cell_type": "markdown",
      "source": [
        "Let's plot the diagram which shows the progress in loss of the model during the train:"
      ],
      "metadata": {
        "id": "sSe0qcAW_O_a"
      }
    },
    {
      "cell_type": "code",
      "source": [
        "plt.plot(history.history['loss'])\n",
        "plt.plot(history.history['val_loss'])\n",
        "plt.title('model loss')\n",
        "plt.ylabel('loss')\n",
        "plt.xlabel('epoch')\n",
        "plt.legend(['train', 'val'], loc='upper left')\n",
        "plt.show()"
      ],
      "metadata": {
        "colab": {
          "base_uri": "https://localhost:8080/",
          "height": 295
        },
        "id": "a3X56knI-NHN",
        "outputId": "2af23ec4-8b96-4299-fed8-79adaea01fa3"
      },
      "execution_count": null,
      "outputs": [
        {
          "output_type": "display_data",
          "data": {
            "text/plain": [
              "<Figure size 432x288 with 1 Axes>"
            ],
            "image/png": "[encoded data removed]"
          },
          "metadata": {
            "needs_background": "light"
          }
        }
      ]
    },
    {
      "cell_type": "markdown",
      "source": [
        "We can also plot the diagram which shows the progress of the model with regard to its accuracy."
      ],
      "metadata": {
        "id": "M3jeIOVs_UcB"
      }
    },
    {
      "cell_type": "code",
      "source": [
        "plt.plot(history.history['accuracy'])\n",
        "plt.plot(history.history['val_accuracy'])\n",
        "plt.title('model accuracy')\n",
        "plt.ylabel('accuracy')\n",
        "plt.xlabel('epoch')\n",
        "plt.legend(['train', 'val'], loc='upper left')\n",
        "plt.show()"
      ],
      "metadata": {
        "colab": {
          "base_uri": "https://localhost:8080/",
          "height": 295
        },
        "id": "RcS4V6cr_Rsf",
        "outputId": "549a1146-97dd-45bf-e4d3-a0e76725b343"
      },
      "execution_count": null,
      "outputs": [
        {
          "output_type": "display_data",
          "data": {
            "text/plain": [
              "<Figure size 432x288 with 1 Axes>"
            ],
            "image/png": "[encoded data removed]"
          },
          "metadata": {
            "needs_background": "light"
          }
        }
      ]
    },
    {
      "cell_type": "markdown",
      "source": [
        "Finally, let's evaluate our CNN on the test set"
      ],
      "metadata": {
        "id": "nsiAR6LP_c8X"
      }
    },
    {
      "cell_type": "code",
      "source": [
        "score = model.evaluate(x_test, y_test, verbose=0)\n",
        "print(\"Test loss:\", score[0])\n",
        "print(\"Test accuracy:\", score[1])"
      ],
      "metadata": {
        "colab": {
          "base_uri": "https://localhost:8080/"
        },
        "id": "Ebga6Gzq_Z1U",
        "outputId": "8ff3b55f-e4c7-4217-9919-78ed4a670a61"
      },
      "execution_count": null,
      "outputs": [
        {
          "output_type": "stream",
          "name": "stdout",
          "text": [
            "Test loss: 0.03467285633087158\n",
            "Test accuracy: 0.9882000088691711\n"
          ]
        }
      ]
    },
    {
      "cell_type": "markdown",
      "source": [
        "## Challenge Activity"
      ],
      "metadata": {
        "id": "lmw1RttZr6zp"
      }
    },
    {
      "cell_type": "markdown",
      "source": [
        "The CNN we built has a **Dropout** layer. \n",
        "\n",
        "1. Read the original dropout paper by Geoffrey Hinton et al., \"Dropout: A Simple Way to Prevent Neural Networks from Overfitting\" (2014), to understand the importance of DropOut. \n",
        "\n",
        "2. Finally, create a new CNN without Dropout layer, train and test it the same way as above to see  impact on performance."
      ],
      "metadata": {
        "id": "DwnoEnf1sOZa"
      }
    },
    {
      "cell_type": "code",
      "source": [],
      "metadata": {
        "id": "d9_V0FSJulOP"
      },
      "execution_count": null,
      "outputs": []
    }
  ]
}