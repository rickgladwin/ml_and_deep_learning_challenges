{
 "cells": [
  {
   "metadata": {},
   "id": "24064713",
   "cell_type": "markdown",
   "source": "\n## Regression\n\n### Introduction\n\nThe primary goal of this activity is to guide you about how to implement linear and polynomial regression models in Python. As you implement these models, you will also learn how to prepare the dataset for machine learning tasks.\n\n### Objectives\nThe sub-tasks include:\n- Data exploration\n- Data preparation\n- Fitting a Linear Regression model to data\n- Encoding Categorical Data (Converting categorical data to numbers)\n- Data Scaling\n- Fitting a Polynomial Regression model to data\n- Fitting Multiple linear regression to data (this will be part of your challenge activity)\n"
  },
  {
   "metadata": {},
   "id": "67d4f406",
   "cell_type": "markdown",
   "source": "###  In this  problem we will train a model to predict the percentage of marks that a student is expected to score based upon the number of hours they studied. We will assume that the relationship between the expected score (label) and the numer of hours studied (features) is linear. \n\nThus we are dealing with a simple linear regression task because of the linearity assumption and having just one feature.\n\n### Linear Regression\n\n</span>\nLinear Regression is a supervised Machine Learning model in which the model finds the best (linear) line that best describes the relationship between the features and a continuous/real-valued response (label) variable.\n\n\n"
  },
  {
   "metadata": {},
   "id": "0709f23e",
   "cell_type": "markdown",
   "source": "#### We will start by importing important libraries\n"
  },
  {
   "metadata": {
    "trusted": false,
    "ExecuteTime": {
     "end_time": "2025-06-06T03:57:47.850292Z",
     "start_time": "2025-06-06T03:57:47.847109Z"
    }
   },
   "id": "c963974d",
   "cell_type": "code",
   "source": "import pandas as pd\nimport numpy as np\nimport seaborn as sns\nimport matplotlib.pyplot as plt\n%matplotlib inline",
   "outputs": [],
   "execution_count": 179
  },
  {
   "metadata": {},
   "id": "156980ca",
   "cell_type": "markdown",
   "source": "#### Load and explore the data, and see how many rows and columns does our data have"
  },
  {
   "metadata": {
    "trusted": false,
    "ExecuteTime": {
     "end_time": "2025-06-06T03:57:47.876674Z",
     "start_time": "2025-06-06T03:57:47.872327Z"
    }
   },
   "id": "08a7452a",
   "cell_type": "code",
   "source": "dataset = pd.read_csv('data/student_scores-1.csv')\ndataset.shape",
   "outputs": [
    {
     "data": {
      "text/plain": [
       "(25, 2)"
      ]
     },
     "execution_count": 180,
     "metadata": {},
     "output_type": "execute_result"
    }
   ],
   "execution_count": 180
  },
  {
   "metadata": {},
   "id": "c3c781cc",
   "cell_type": "markdown",
   "source": "#### Print the first five rows to see what they look like"
  },
  {
   "metadata": {
    "scrolled": true,
    "trusted": false,
    "ExecuteTime": {
     "end_time": "2025-06-06T03:57:47.907198Z",
     "start_time": "2025-06-06T03:57:47.903364Z"
    }
   },
   "id": "e7b32131",
   "cell_type": "code",
   "source": "dataset.head(5)",
   "outputs": [
    {
     "data": {
      "text/plain": [
       "   Hours  Scores\n",
       "0    2.5      21\n",
       "1    5.1      47\n",
       "2    3.2      27\n",
       "3    8.5      75\n",
       "4    3.5      30"
      ],
      "text/html": [
       "<div>\n",
       "<style scoped>\n",
       "    .dataframe tbody tr th:only-of-type {\n",
       "        vertical-align: middle;\n",
       "    }\n",
       "\n",
       "    .dataframe tbody tr th {\n",
       "        vertical-align: top;\n",
       "    }\n",
       "\n",
       "    .dataframe thead th {\n",
       "        text-align: right;\n",
       "    }\n",
       "</style>\n",
       "<table border=\"1\" class=\"dataframe\">\n",
       "  <thead>\n",
       "    <tr style=\"text-align: right;\">\n",
       "      <th></th>\n",
       "      <th>Hours</th>\n",
       "      <th>Scores</th>\n",
       "    </tr>\n",
       "  </thead>\n",
       "  <tbody>\n",
       "    <tr>\n",
       "      <th>0</th>\n",
       "      <td>2.5</td>\n",
       "      <td>21</td>\n",
       "    </tr>\n",
       "    <tr>\n",
       "      <th>1</th>\n",
       "      <td>5.1</td>\n",
       "      <td>47</td>\n",
       "    </tr>\n",
       "    <tr>\n",
       "      <th>2</th>\n",
       "      <td>3.2</td>\n",
       "      <td>27</td>\n",
       "    </tr>\n",
       "    <tr>\n",
       "      <th>3</th>\n",
       "      <td>8.5</td>\n",
       "      <td>75</td>\n",
       "    </tr>\n",
       "    <tr>\n",
       "      <th>4</th>\n",
       "      <td>3.5</td>\n",
       "      <td>30</td>\n",
       "    </tr>\n",
       "  </tbody>\n",
       "</table>\n",
       "</div>"
      ]
     },
     "execution_count": 181,
     "metadata": {},
     "output_type": "execute_result"
    }
   ],
   "execution_count": 181
  },
  {
   "metadata": {},
   "id": "16b314af",
   "cell_type": "markdown",
   "source": "#### It is always useful to print a description of the data in the DataFrame"
  },
  {
   "metadata": {
    "trusted": false,
    "ExecuteTime": {
     "end_time": "2025-06-06T03:57:47.974354Z",
     "start_time": "2025-06-06T03:57:47.968022Z"
    }
   },
   "id": "5450b215",
   "cell_type": "code",
   "source": "dataset.describe()",
   "outputs": [
    {
     "data": {
      "text/plain": [
       "           Hours     Scores\n",
       "count  25.000000  25.000000\n",
       "mean    5.012000  51.480000\n",
       "std     2.525094  25.286887\n",
       "min     1.100000  17.000000\n",
       "25%     2.700000  30.000000\n",
       "50%     4.800000  47.000000\n",
       "75%     7.400000  75.000000\n",
       "max     9.200000  95.000000"
      ],
      "text/html": [
       "<div>\n",
       "<style scoped>\n",
       "    .dataframe tbody tr th:only-of-type {\n",
       "        vertical-align: middle;\n",
       "    }\n",
       "\n",
       "    .dataframe tbody tr th {\n",
       "        vertical-align: top;\n",
       "    }\n",
       "\n",
       "    .dataframe thead th {\n",
       "        text-align: right;\n",
       "    }\n",
       "</style>\n",
       "<table border=\"1\" class=\"dataframe\">\n",
       "  <thead>\n",
       "    <tr style=\"text-align: right;\">\n",
       "      <th></th>\n",
       "      <th>Hours</th>\n",
       "      <th>Scores</th>\n",
       "    </tr>\n",
       "  </thead>\n",
       "  <tbody>\n",
       "    <tr>\n",
       "      <th>count</th>\n",
       "      <td>25.000000</td>\n",
       "      <td>25.000000</td>\n",
       "    </tr>\n",
       "    <tr>\n",
       "      <th>mean</th>\n",
       "      <td>5.012000</td>\n",
       "      <td>51.480000</td>\n",
       "    </tr>\n",
       "    <tr>\n",
       "      <th>std</th>\n",
       "      <td>2.525094</td>\n",
       "      <td>25.286887</td>\n",
       "    </tr>\n",
       "    <tr>\n",
       "      <th>min</th>\n",
       "      <td>1.100000</td>\n",
       "      <td>17.000000</td>\n",
       "    </tr>\n",
       "    <tr>\n",
       "      <th>25%</th>\n",
       "      <td>2.700000</td>\n",
       "      <td>30.000000</td>\n",
       "    </tr>\n",
       "    <tr>\n",
       "      <th>50%</th>\n",
       "      <td>4.800000</td>\n",
       "      <td>47.000000</td>\n",
       "    </tr>\n",
       "    <tr>\n",
       "      <th>75%</th>\n",
       "      <td>7.400000</td>\n",
       "      <td>75.000000</td>\n",
       "    </tr>\n",
       "    <tr>\n",
       "      <th>max</th>\n",
       "      <td>9.200000</td>\n",
       "      <td>95.000000</td>\n",
       "    </tr>\n",
       "  </tbody>\n",
       "</table>\n",
       "</div>"
      ]
     },
     "execution_count": 182,
     "metadata": {},
     "output_type": "execute_result"
    }
   ],
   "execution_count": 182
  },
  {
   "metadata": {},
   "id": "a54cabbc",
   "cell_type": "markdown",
   "source": "### Task for you to complete"
  },
  {
   "metadata": {},
   "id": "aa80511d",
   "cell_type": "markdown",
   "source": "#### the describe function call returned some useful statistics about our data. Study about this funciton at https://pandas.pydata.org/docs/reference/api/pandas.DataFrame.describe.html and then explain in your own words below what each of the above statistic mean."
  },
  {
   "metadata": {},
   "id": "9123314a",
   "cell_type": "markdown",
   "source": [
    "### Write your answers here.\n",
    "- count: number of rows in the dataset\n",
    "- mean: arithmetic mean for all values in each column\n",
    "- std: standard deviation of all values in each column\n",
    "- min: minimum value in each col\n",
    "- 25%: the 25th percentile, the value of the threshold where 25% of the data falls at or below this value\n",
    "- 50%: as above, 50% of the data points fall below or above this value (this is the same as the median)\n",
    "- 75%: as above, 75% of the data points fall above this value.\n",
    "- max: largest value in each column\n"
   ]
  },
  {
   "metadata": {},
   "id": "0ac4aae5",
   "cell_type": "markdown",
   "source": "##### Data Plotting:\nIt is always helpful to plot your data to get some ingihts. So let's plot the data points on 2-D graph to eyeball our dataset and see if we can manually find any relationship between the data:"
  },
  {
   "metadata": {
    "trusted": false,
    "ExecuteTime": {
     "end_time": "2025-06-06T03:57:48.130073Z",
     "start_time": "2025-06-06T03:57:48.062722Z"
    }
   },
   "id": "fa483276",
   "cell_type": "code",
   "source": [
    "# dark mode\n",
    "plt.style.use('dark_background')\n",
    "dataset.plot(x='Hours', y='Scores', style='o')\n",
    "plt.title('Hours of study vs Percentage score')\n",
    "plt.xlabel('Hours Studied')\n",
    "plt.ylabel('Percentage Score')\n",
    "plt.show()"
   ],
   "outputs": [
    {
     "data": {
      "text/plain": [
       "<Figure size 640x480 with 1 Axes>"
      ],
      "image/png": "[encoded data removed]"
     },
     "metadata": {},
     "output_type": "display_data"
    }
   ],
   "execution_count": 183
  },
  {
   "metadata": {},
   "id": "c1f6cb98",
   "cell_type": "markdown",
   "source": "The above plot shows that our linearity assumption is not bad because the data does seem to be lie along a straight line. "
  },
  {
   "metadata": {},
   "id": "e7a53558",
   "cell_type": "markdown",
   "source": "### As a first step towards building our linear regression model, we will split our data into train and test sets"
  },
  {
   "metadata": {
    "trusted": false,
    "ExecuteTime": {
     "end_time": "2025-06-06T03:57:48.171573Z",
     "start_time": "2025-06-06T03:57:48.168585Z"
    }
   },
   "id": "0b83dbe4",
   "cell_type": "code",
   "source": "from sklearn.model_selection import train_test_split\n\n# [all rows, columns from index 0 to second last]\nX = dataset.iloc[:, :-1].values\n# [all rows, col index 1 (second column)]\ny = dataset.iloc[:, 1].values\n\n",
   "outputs": [],
   "execution_count": 184
  },
  {
   "metadata": {},
   "id": "d67b1739",
   "cell_type": "markdown",
   "source": "In the above cell, we have separated the features (X) and the labels (Y), and have imported the train_test_split from sklearn which we will use to split our data. You can read more about it https://scikit-learn.org/stable/modules/generated/sklearn.model_selection.train_test_split.html"
  },
  {
   "metadata": {
    "trusted": false,
    "ExecuteTime": {
     "end_time": "2025-06-06T03:57:48.205658Z",
     "start_time": "2025-06-06T03:57:48.202684Z"
    }
   },
   "id": "41ff23b0",
   "cell_type": "code",
   "source": "# Splitting the dataset into train (80%) / test sets (20%)\n\nX_train, X_test, y_train, y_test = train_test_split(X, y, test_size=0.2, random_state=0)",
   "outputs": [],
   "execution_count": 185
  },
  {
   "metadata": {},
   "id": "cc7ae635",
   "cell_type": "markdown",
   "source": "### Let's build our Linear Regression Model\n\nFor this we will use the LinearRegression class of sklearn. You can read more about this class at https://scikit-learn.org/stable/modules/generated/sklearn.linear_model.LinearRegression.html#sklearn.linear_model.LinearRegression"
  },
  {
   "metadata": {
    "scrolled": true,
    "trusted": false,
    "ExecuteTime": {
     "end_time": "2025-06-06T03:57:48.235228Z",
     "start_time": "2025-06-06T03:57:48.226985Z"
    }
   },
   "id": "8afdfa0d",
   "cell_type": "code",
   "source": "from sklearn.linear_model import LinearRegression\nregressor = LinearRegression()\n\n# Training the regressor model on the X_train and y_train is achieved by calling the fit function.\nregressor.fit(X_train, y_train)\n",
   "outputs": [
    {
     "data": {
      "text/plain": [
       "LinearRegression()"
      ],
      "text/html": [
       "<style>#sk-container-id-6 {\n",
       "  /* Definition of color scheme common for light and dark mode */\n",
       "  --sklearn-color-text: #000;\n",
       "  --sklearn-color-text-muted: #666;\n",
       "  --sklearn-color-line: gray;\n",
       "  /* Definition of color scheme for unfitted estimators */\n",
       "  --sklearn-color-unfitted-level-0: #fff5e6;\n",
       "  --sklearn-color-unfitted-level-1: #f6e4d2;\n",
       "  --sklearn-color-unfitted-level-2: #ffe0b3;\n",
       "  --sklearn-color-unfitted-level-3: chocolate;\n",
       "  /* Definition of color scheme for fitted estimators */\n",
       "  --sklearn-color-fitted-level-0: #f0f8ff;\n",
       "  --sklearn-color-fitted-level-1: #d4ebff;\n",
       "  --sklearn-color-fitted-level-2: #b3dbfd;\n",
       "  --sklearn-color-fitted-level-3: cornflowerblue;\n",
       "\n",
       "  /* Specific color for light theme */\n",
       "  --sklearn-color-text-on-default-background: var(--sg-text-color, var(--theme-code-foreground, var(--jp-content-font-color1, black)));\n",
       "  --sklearn-color-background: var(--sg-background-color, var(--theme-background, var(--jp-layout-color0, white)));\n",
       "  --sklearn-color-border-box: var(--sg-text-color, var(--theme-code-foreground, var(--jp-content-font-color1, black)));\n",
       "  --sklearn-color-icon: #696969;\n",
       "\n",
       "  @media (prefers-color-scheme: dark) {\n",
       "    /* Redefinition of color scheme for dark theme */\n",
       "    --sklearn-color-text-on-default-background: var(--sg-text-color, var(--theme-code-foreground, var(--jp-content-font-color1, white)));\n",
       "    --sklearn-color-background: var(--sg-background-color, var(--theme-background, var(--jp-layout-color0, #111)));\n",
       "    --sklearn-color-border-box: var(--sg-text-color, var(--theme-code-foreground, var(--jp-content-font-color1, white)));\n",
       "    --sklearn-color-icon: #878787;\n",
       "  }\n",
       "}\n",
       "\n",
       "#sk-container-id-6 {\n",
       "  color: var(--sklearn-color-text);\n",
       "}\n",
       "\n",
       "#sk-container-id-6 pre {\n",
       "  padding: 0;\n",
       "}\n",
       "\n",
       "#sk-container-id-6 input.sk-hidden--visually {\n",
       "  border: 0;\n",
       "  clip: rect(1px 1px 1px 1px);\n",
       "  clip: rect(1px, 1px, 1px, 1px);\n",
       "  height: 1px;\n",
       "  margin: -1px;\n",
       "  overflow: hidden;\n",
       "  padding: 0;\n",
       "  position: absolute;\n",
       "  width: 1px;\n",
       "}\n",
       "\n",
       "#sk-container-id-6 div.sk-dashed-wrapped {\n",
       "  border: 1px dashed var(--sklearn-color-line);\n",
       "  margin: 0 0.4em 0.5em 0.4em;\n",
       "  box-sizing: border-box;\n",
       "  padding-bottom: 0.4em;\n",
       "  background-color: var(--sklearn-color-background);\n",
       "}\n",
       "\n",
       "#sk-container-id-6 div.sk-container {\n",
       "  /* jupyter's `normalize.less` sets `[hidden] { display: none; }`\n",
       "     but bootstrap.min.css set `[hidden] { display: none !important; }`\n",
       "     so we also need the `!important` here to be able to override the\n",
       "     default hidden behavior on the sphinx rendered scikit-learn.org.\n",
       "     See: https://github.com/scikit-learn/scikit-learn/issues/21755 */\n",
       "  display: inline-block !important;\n",
       "  position: relative;\n",
       "}\n",
       "\n",
       "#sk-container-id-6 div.sk-text-repr-fallback {\n",
       "  display: none;\n",
       "}\n",
       "\n",
       "div.sk-parallel-item,\n",
       "div.sk-serial,\n",
       "div.sk-item {\n",
       "  /* draw centered vertical line to link estimators */\n",
       "  background-image: linear-gradient(var(--sklearn-color-text-on-default-background), var(--sklearn-color-text-on-default-background));\n",
       "  background-size: 2px 100%;\n",
       "  background-repeat: no-repeat;\n",
       "  background-position: center center;\n",
       "}\n",
       "\n",
       "/* Parallel-specific style estimator block */\n",
       "\n",
       "#sk-container-id-6 div.sk-parallel-item::after {\n",
       "  content: \"\";\n",
       "  width: 100%;\n",
       "  border-bottom: 2px solid var(--sklearn-color-text-on-default-background);\n",
       "  flex-grow: 1;\n",
       "}\n",
       "\n",
       "#sk-container-id-6 div.sk-parallel {\n",
       "  display: flex;\n",
       "  align-items: stretch;\n",
       "  justify-content: center;\n",
       "  background-color: var(--sklearn-color-background);\n",
       "  position: relative;\n",
       "}\n",
       "\n",
       "#sk-container-id-6 div.sk-parallel-item {\n",
       "  display: flex;\n",
       "  flex-direction: column;\n",
       "}\n",
       "\n",
       "#sk-container-id-6 div.sk-parallel-item:first-child::after {\n",
       "  align-self: flex-end;\n",
       "  width: 50%;\n",
       "}\n",
       "\n",
       "#sk-container-id-6 div.sk-parallel-item:last-child::after {\n",
       "  align-self: flex-start;\n",
       "  width: 50%;\n",
       "}\n",
       "\n",
       "#sk-container-id-6 div.sk-parallel-item:only-child::after {\n",
       "  width: 0;\n",
       "}\n",
       "\n",
       "/* Serial-specific style estimator block */\n",
       "\n",
       "#sk-container-id-6 div.sk-serial {\n",
       "  display: flex;\n",
       "  flex-direction: column;\n",
       "  align-items: center;\n",
       "  background-color: var(--sklearn-color-background);\n",
       "  padding-right: 1em;\n",
       "  padding-left: 1em;\n",
       "}\n",
       "\n",
       "\n",
       "/* Toggleable style: style used for estimator/Pipeline/ColumnTransformer box that is\n",
       "clickable and can be expanded/collapsed.\n",
       "- Pipeline and ColumnTransformer use this feature and define the default style\n",
       "- Estimators will overwrite some part of the style using the `sk-estimator` class\n",
       "*/\n",
       "\n",
       "/* Pipeline and ColumnTransformer style (default) */\n",
       "\n",
       "#sk-container-id-6 div.sk-toggleable {\n",
       "  /* Default theme specific background. It is overwritten whether we have a\n",
       "  specific estimator or a Pipeline/ColumnTransformer */\n",
       "  background-color: var(--sklearn-color-background);\n",
       "}\n",
       "\n",
       "/* Toggleable label */\n",
       "#sk-container-id-6 label.sk-toggleable__label {\n",
       "  cursor: pointer;\n",
       "  display: flex;\n",
       "  width: 100%;\n",
       "  margin-bottom: 0;\n",
       "  padding: 0.5em;\n",
       "  box-sizing: border-box;\n",
       "  text-align: center;\n",
       "  align-items: start;\n",
       "  justify-content: space-between;\n",
       "  gap: 0.5em;\n",
       "}\n",
       "\n",
       "#sk-container-id-6 label.sk-toggleable__label .caption {\n",
       "  font-size: 0.6rem;\n",
       "  font-weight: lighter;\n",
       "  color: var(--sklearn-color-text-muted);\n",
       "}\n",
       "\n",
       "#sk-container-id-6 label.sk-toggleable__label-arrow:before {\n",
       "  /* Arrow on the left of the label */\n",
       "  content: \"▸\";\n",
       "  float: left;\n",
       "  margin-right: 0.25em;\n",
       "  color: var(--sklearn-color-icon);\n",
       "}\n",
       "\n",
       "#sk-container-id-6 label.sk-toggleable__label-arrow:hover:before {\n",
       "  color: var(--sklearn-color-text);\n",
       "}\n",
       "\n",
       "/* Toggleable content - dropdown */\n",
       "\n",
       "#sk-container-id-6 div.sk-toggleable__content {\n",
       "  display: none;\n",
       "  text-align: left;\n",
       "  /* unfitted */\n",
       "  background-color: var(--sklearn-color-unfitted-level-0);\n",
       "}\n",
       "\n",
       "#sk-container-id-6 div.sk-toggleable__content.fitted {\n",
       "  /* fitted */\n",
       "  background-color: var(--sklearn-color-fitted-level-0);\n",
       "}\n",
       "\n",
       "#sk-container-id-6 div.sk-toggleable__content pre {\n",
       "  margin: 0.2em;\n",
       "  border-radius: 0.25em;\n",
       "  color: var(--sklearn-color-text);\n",
       "  /* unfitted */\n",
       "  background-color: var(--sklearn-color-unfitted-level-0);\n",
       "}\n",
       "\n",
       "#sk-container-id-6 div.sk-toggleable__content.fitted pre {\n",
       "  /* unfitted */\n",
       "  background-color: var(--sklearn-color-fitted-level-0);\n",
       "}\n",
       "\n",
       "#sk-container-id-6 input.sk-toggleable__control:checked~div.sk-toggleable__content {\n",
       "  /* Expand drop-down */\n",
       "  display: block;\n",
       "  width: 100%;\n",
       "  overflow: visible;\n",
       "}\n",
       "\n",
       "#sk-container-id-6 input.sk-toggleable__control:checked~label.sk-toggleable__label-arrow:before {\n",
       "  content: \"▾\";\n",
       "}\n",
       "\n",
       "/* Pipeline/ColumnTransformer-specific style */\n",
       "\n",
       "#sk-container-id-6 div.sk-label input.sk-toggleable__control:checked~label.sk-toggleable__label {\n",
       "  color: var(--sklearn-color-text);\n",
       "  background-color: var(--sklearn-color-unfitted-level-2);\n",
       "}\n",
       "\n",
       "#sk-container-id-6 div.sk-label.fitted input.sk-toggleable__control:checked~label.sk-toggleable__label {\n",
       "  background-color: var(--sklearn-color-fitted-level-2);\n",
       "}\n",
       "\n",
       "/* Estimator-specific style */\n",
       "\n",
       "/* Colorize estimator box */\n",
       "#sk-container-id-6 div.sk-estimator input.sk-toggleable__control:checked~label.sk-toggleable__label {\n",
       "  /* unfitted */\n",
       "  background-color: var(--sklearn-color-unfitted-level-2);\n",
       "}\n",
       "\n",
       "#sk-container-id-6 div.sk-estimator.fitted input.sk-toggleable__control:checked~label.sk-toggleable__label {\n",
       "  /* fitted */\n",
       "  background-color: var(--sklearn-color-fitted-level-2);\n",
       "}\n",
       "\n",
       "#sk-container-id-6 div.sk-label label.sk-toggleable__label,\n",
       "#sk-container-id-6 div.sk-label label {\n",
       "  /* The background is the default theme color */\n",
       "  color: var(--sklearn-color-text-on-default-background);\n",
       "}\n",
       "\n",
       "/* On hover, darken the color of the background */\n",
       "#sk-container-id-6 div.sk-label:hover label.sk-toggleable__label {\n",
       "  color: var(--sklearn-color-text);\n",
       "  background-color: var(--sklearn-color-unfitted-level-2);\n",
       "}\n",
       "\n",
       "/* Label box, darken color on hover, fitted */\n",
       "#sk-container-id-6 div.sk-label.fitted:hover label.sk-toggleable__label.fitted {\n",
       "  color: var(--sklearn-color-text);\n",
       "  background-color: var(--sklearn-color-fitted-level-2);\n",
       "}\n",
       "\n",
       "/* Estimator label */\n",
       "\n",
       "#sk-container-id-6 div.sk-label label {\n",
       "  font-family: monospace;\n",
       "  font-weight: bold;\n",
       "  display: inline-block;\n",
       "  line-height: 1.2em;\n",
       "}\n",
       "\n",
       "#sk-container-id-6 div.sk-label-container {\n",
       "  text-align: center;\n",
       "}\n",
       "\n",
       "/* Estimator-specific */\n",
       "#sk-container-id-6 div.sk-estimator {\n",
       "  font-family: monospace;\n",
       "  border: 1px dotted var(--sklearn-color-border-box);\n",
       "  border-radius: 0.25em;\n",
       "  box-sizing: border-box;\n",
       "  margin-bottom: 0.5em;\n",
       "  /* unfitted */\n",
       "  background-color: var(--sklearn-color-unfitted-level-0);\n",
       "}\n",
       "\n",
       "#sk-container-id-6 div.sk-estimator.fitted {\n",
       "  /* fitted */\n",
       "  background-color: var(--sklearn-color-fitted-level-0);\n",
       "}\n",
       "\n",
       "/* on hover */\n",
       "#sk-container-id-6 div.sk-estimator:hover {\n",
       "  /* unfitted */\n",
       "  background-color: var(--sklearn-color-unfitted-level-2);\n",
       "}\n",
       "\n",
       "#sk-container-id-6 div.sk-estimator.fitted:hover {\n",
       "  /* fitted */\n",
       "  background-color: var(--sklearn-color-fitted-level-2);\n",
       "}\n",
       "\n",
       "/* Specification for estimator info (e.g. \"i\" and \"?\") */\n",
       "\n",
       "/* Common style for \"i\" and \"?\" */\n",
       "\n",
       ".sk-estimator-doc-link,\n",
       "a:link.sk-estimator-doc-link,\n",
       "a:visited.sk-estimator-doc-link {\n",
       "  float: right;\n",
       "  font-size: smaller;\n",
       "  line-height: 1em;\n",
       "  font-family: monospace;\n",
       "  background-color: var(--sklearn-color-background);\n",
       "  border-radius: 1em;\n",
       "  height: 1em;\n",
       "  width: 1em;\n",
       "  text-decoration: none !important;\n",
       "  margin-left: 0.5em;\n",
       "  text-align: center;\n",
       "  /* unfitted */\n",
       "  border: var(--sklearn-color-unfitted-level-1) 1pt solid;\n",
       "  color: var(--sklearn-color-unfitted-level-1);\n",
       "}\n",
       "\n",
       ".sk-estimator-doc-link.fitted,\n",
       "a:link.sk-estimator-doc-link.fitted,\n",
       "a:visited.sk-estimator-doc-link.fitted {\n",
       "  /* fitted */\n",
       "  border: var(--sklearn-color-fitted-level-1) 1pt solid;\n",
       "  color: var(--sklearn-color-fitted-level-1);\n",
       "}\n",
       "\n",
       "/* On hover */\n",
       "div.sk-estimator:hover .sk-estimator-doc-link:hover,\n",
       ".sk-estimator-doc-link:hover,\n",
       "div.sk-label-container:hover .sk-estimator-doc-link:hover,\n",
       ".sk-estimator-doc-link:hover {\n",
       "  /* unfitted */\n",
       "  background-color: var(--sklearn-color-unfitted-level-3);\n",
       "  color: var(--sklearn-color-background);\n",
       "  text-decoration: none;\n",
       "}\n",
       "\n",
       "div.sk-estimator.fitted:hover .sk-estimator-doc-link.fitted:hover,\n",
       ".sk-estimator-doc-link.fitted:hover,\n",
       "div.sk-label-container:hover .sk-estimator-doc-link.fitted:hover,\n",
       ".sk-estimator-doc-link.fitted:hover {\n",
       "  /* fitted */\n",
       "  background-color: var(--sklearn-color-fitted-level-3);\n",
       "  color: var(--sklearn-color-background);\n",
       "  text-decoration: none;\n",
       "}\n",
       "\n",
       "/* Span, style for the box shown on hovering the info icon */\n",
       ".sk-estimator-doc-link span {\n",
       "  display: none;\n",
       "  z-index: 9999;\n",
       "  position: relative;\n",
       "  font-weight: normal;\n",
       "  right: .2ex;\n",
       "  padding: .5ex;\n",
       "  margin: .5ex;\n",
       "  width: min-content;\n",
       "  min-width: 20ex;\n",
       "  max-width: 50ex;\n",
       "  color: var(--sklearn-color-text);\n",
       "  box-shadow: 2pt 2pt 4pt #999;\n",
       "  /* unfitted */\n",
       "  background: var(--sklearn-color-unfitted-level-0);\n",
       "  border: .5pt solid var(--sklearn-color-unfitted-level-3);\n",
       "}\n",
       "\n",
       ".sk-estimator-doc-link.fitted span {\n",
       "  /* fitted */\n",
       "  background: var(--sklearn-color-fitted-level-0);\n",
       "  border: var(--sklearn-color-fitted-level-3);\n",
       "}\n",
       "\n",
       ".sk-estimator-doc-link:hover span {\n",
       "  display: block;\n",
       "}\n",
       "\n",
       "/* \"?\"-specific style due to the `<a>` HTML tag */\n",
       "\n",
       "#sk-container-id-6 a.estimator_doc_link {\n",
       "  float: right;\n",
       "  font-size: 1rem;\n",
       "  line-height: 1em;\n",
       "  font-family: monospace;\n",
       "  background-color: var(--sklearn-color-background);\n",
       "  border-radius: 1rem;\n",
       "  height: 1rem;\n",
       "  width: 1rem;\n",
       "  text-decoration: none;\n",
       "  /* unfitted */\n",
       "  color: var(--sklearn-color-unfitted-level-1);\n",
       "  border: var(--sklearn-color-unfitted-level-1) 1pt solid;\n",
       "}\n",
       "\n",
       "#sk-container-id-6 a.estimator_doc_link.fitted {\n",
       "  /* fitted */\n",
       "  border: var(--sklearn-color-fitted-level-1) 1pt solid;\n",
       "  color: var(--sklearn-color-fitted-level-1);\n",
       "}\n",
       "\n",
       "/* On hover */\n",
       "#sk-container-id-6 a.estimator_doc_link:hover {\n",
       "  /* unfitted */\n",
       "  background-color: var(--sklearn-color-unfitted-level-3);\n",
       "  color: var(--sklearn-color-background);\n",
       "  text-decoration: none;\n",
       "}\n",
       "\n",
       "#sk-container-id-6 a.estimator_doc_link.fitted:hover {\n",
       "  /* fitted */\n",
       "  background-color: var(--sklearn-color-fitted-level-3);\n",
       "}\n",
       "\n",
       ".estimator-table summary {\n",
       "    padding: .5rem;\n",
       "    font-family: monospace;\n",
       "    cursor: pointer;\n",
       "}\n",
       "\n",
       ".estimator-table details[open] {\n",
       "    padding-left: 0.1rem;\n",
       "    padding-right: 0.1rem;\n",
       "    padding-bottom: 0.3rem;\n",
       "}\n",
       "\n",
       ".estimator-table .parameters-table {\n",
       "    margin-left: auto !important;\n",
       "    margin-right: auto !important;\n",
       "}\n",
       "\n",
       ".estimator-table .parameters-table tr:nth-child(odd) {\n",
       "    background-color: #fff;\n",
       "}\n",
       "\n",
       ".estimator-table .parameters-table tr:nth-child(even) {\n",
       "    background-color: #f6f6f6;\n",
       "}\n",
       "\n",
       ".estimator-table .parameters-table tr:hover {\n",
       "    background-color: #e0e0e0;\n",
       "}\n",
       "\n",
       ".estimator-table table td {\n",
       "    border: 1px solid rgba(106, 105, 104, 0.232);\n",
       "}\n",
       "\n",
       ".user-set td {\n",
       "    color:rgb(255, 94, 0);\n",
       "    text-align: left;\n",
       "}\n",
       "\n",
       ".user-set td.value pre {\n",
       "    color:rgb(255, 94, 0) !important;\n",
       "    background-color: transparent !important;\n",
       "}\n",
       "\n",
       ".default td {\n",
       "    color: black;\n",
       "    text-align: left;\n",
       "}\n",
       "\n",
       ".user-set td i,\n",
       ".default td i {\n",
       "    color: black;\n",
       "}\n",
       "\n",
       ".copy-paste-icon {\n",
       "    background-image: url(data:image/svg+xml;base64,PHN2ZyB4bWxucz0iaHR0cDovL3d3dy53My5vcmcvMjAwMC9zdmciIHZpZXdCb3g9IjAgMCA0NDggNTEyIj48IS0tIUZvbnQgQXdlc29tZSBGcmVlIDYuNy4yIGJ5IEBmb250YXdlc29tZSAtIGh0dHBzOi8vZm9udGF3ZXNvbWUuY29tIExpY2Vuc2UgLSBodHRwczovL2ZvbnRhd2Vzb21lLmNvbS9saWNlbnNlL2ZyZWUgQ29weXJpZ2h0IDIwMjUgRm9udGljb25zLCBJbmMuLS0+PHBhdGggZD0iTTIwOCAwTDMzMi4xIDBjMTIuNyAwIDI0LjkgNS4xIDMzLjkgMTQuMWw2Ny45IDY3LjljOSA5IDE0LjEgMjEuMiAxNC4xIDMzLjlMNDQ4IDMzNmMwIDI2LjUtMjEuNSA0OC00OCA0OGwtMTkyIDBjLTI2LjUgMC00OC0yMS41LTQ4LTQ4bDAtMjg4YzAtMjYuNSAyMS41LTQ4IDQ4LTQ4ek00OCAxMjhsODAgMCAwIDY0LTY0IDAgMCAyNTYgMTkyIDAgMC0zMiA2NCAwIDAgNDhjMCAyNi41LTIxLjUgNDgtNDggNDhMNDggNTEyYy0yNi41IDAtNDgtMjEuNS00OC00OEwwIDE3NmMwLTI2LjUgMjEuNS00OCA0OC00OHoiLz48L3N2Zz4=);\n",
       "    background-repeat: no-repeat;\n",
       "    background-size: 14px 14px;\n",
       "    background-position: 0;\n",
       "    display: inline-block;\n",
       "    width: 14px;\n",
       "    height: 14px;\n",
       "    cursor: pointer;\n",
       "}\n",
       "</style><body><div id=\"sk-container-id-6\" class=\"sk-top-container\"><div class=\"sk-text-repr-fallback\"><pre>LinearRegression()</pre><b>In a Jupyter environment, please rerun this cell to show the HTML representation or trust the notebook. <br />On GitHub, the HTML representation is unable to render, please try loading this page with nbviewer.org.</b></div><div class=\"sk-container\" hidden><div class=\"sk-item\"><div class=\"sk-estimator fitted sk-toggleable\"><input class=\"sk-toggleable__control sk-hidden--visually\" id=\"sk-estimator-id-6\" type=\"checkbox\" checked><label for=\"sk-estimator-id-6\" class=\"sk-toggleable__label fitted sk-toggleable__label-arrow\"><div><div>LinearRegression</div></div><div><a class=\"sk-estimator-doc-link fitted\" rel=\"noreferrer\" target=\"_blank\" href=\"https://scikit-learn.org/1.7/modules/generated/sklearn.linear_model.LinearRegression.html\">?<span>Documentation for LinearRegression</span></a><span class=\"sk-estimator-doc-link fitted\">i<span>Fitted</span></span></div></label><div class=\"sk-toggleable__content fitted\" data-param-prefix=\"\">\n",
       "        <div class=\"estimator-table\">\n",
       "            <details>\n",
       "                <summary>Parameters</summary>\n",
       "                <table class=\"parameters-table\">\n",
       "                  <tbody>\n",
       "                    \n",
       "        <tr class=\"default\">\n",
       "            <td><i class=\"copy-paste-icon\"\n",
       "                 onclick=\"copyToClipboard('fit_intercept',\n",
       "                          this.parentElement.nextElementSibling)\"\n",
       "            ></i></td>\n",
       "            <td class=\"param\">fit_intercept&nbsp;</td>\n",
       "            <td class=\"value\">True</td>\n",
       "        </tr>\n",
       "    \n",
       "\n",
       "        <tr class=\"default\">\n",
       "            <td><i class=\"copy-paste-icon\"\n",
       "                 onclick=\"copyToClipboard('copy_X',\n",
       "                          this.parentElement.nextElementSibling)\"\n",
       "            ></i></td>\n",
       "            <td class=\"param\">copy_X&nbsp;</td>\n",
       "            <td class=\"value\">True</td>\n",
       "        </tr>\n",
       "    \n",
       "\n",
       "        <tr class=\"default\">\n",
       "            <td><i class=\"copy-paste-icon\"\n",
       "                 onclick=\"copyToClipboard('tol',\n",
       "                          this.parentElement.nextElementSibling)\"\n",
       "            ></i></td>\n",
       "            <td class=\"param\">tol&nbsp;</td>\n",
       "            <td class=\"value\">1e-06</td>\n",
       "        </tr>\n",
       "    \n",
       "\n",
       "        <tr class=\"default\">\n",
       "            <td><i class=\"copy-paste-icon\"\n",
       "                 onclick=\"copyToClipboard('n_jobs',\n",
       "                          this.parentElement.nextElementSibling)\"\n",
       "            ></i></td>\n",
       "            <td class=\"param\">n_jobs&nbsp;</td>\n",
       "            <td class=\"value\">None</td>\n",
       "        </tr>\n",
       "    \n",
       "\n",
       "        <tr class=\"default\">\n",
       "            <td><i class=\"copy-paste-icon\"\n",
       "                 onclick=\"copyToClipboard('positive',\n",
       "                          this.parentElement.nextElementSibling)\"\n",
       "            ></i></td>\n",
       "            <td class=\"param\">positive&nbsp;</td>\n",
       "            <td class=\"value\">False</td>\n",
       "        </tr>\n",
       "    \n",
       "                  </tbody>\n",
       "                </table>\n",
       "            </details>\n",
       "        </div>\n",
       "    </div></div></div></div></div><script>function copyToClipboard(text, element) {\n",
       "    // Get the parameter prefix from the closest toggleable content\n",
       "    const toggleableContent = element.closest('.sk-toggleable__content');\n",
       "    const paramPrefix = toggleableContent ? toggleableContent.dataset.paramPrefix : '';\n",
       "    const fullParamName = paramPrefix ? `${paramPrefix}${text}` : text;\n",
       "\n",
       "    const originalStyle = element.style;\n",
       "    const computedStyle = window.getComputedStyle(element);\n",
       "    const originalWidth = computedStyle.width;\n",
       "    const originalHTML = element.innerHTML.replace('Copied!', '');\n",
       "\n",
       "    navigator.clipboard.writeText(fullParamName)\n",
       "        .then(() => {\n",
       "            element.style.width = originalWidth;\n",
       "            element.style.color = 'green';\n",
       "            element.innerHTML = \"Copied!\";\n",
       "\n",
       "            setTimeout(() => {\n",
       "                element.innerHTML = originalHTML;\n",
       "                element.style = originalStyle;\n",
       "            }, 2000);\n",
       "        })\n",
       "        .catch(err => {\n",
       "            console.error('Failed to copy:', err);\n",
       "            element.style.color = 'red';\n",
       "            element.innerHTML = \"Failed!\";\n",
       "            setTimeout(() => {\n",
       "                element.innerHTML = originalHTML;\n",
       "                element.style = originalStyle;\n",
       "            }, 2000);\n",
       "        });\n",
       "    return false;\n",
       "}\n",
       "\n",
       "document.querySelectorAll('.fa-regular.fa-copy').forEach(function(element) {\n",
       "    const toggleableContent = element.closest('.sk-toggleable__content');\n",
       "    const paramPrefix = toggleableContent ? toggleableContent.dataset.paramPrefix : '';\n",
       "    const paramName = element.parentElement.nextElementSibling.textContent.trim();\n",
       "    const fullParamName = paramPrefix ? `${paramPrefix}${paramName}` : paramName;\n",
       "\n",
       "    element.setAttribute('title', fullParamName);\n",
       "});\n",
       "</script></body>"
      ]
     },
     "execution_count": 186,
     "metadata": {},
     "output_type": "execute_result"
    }
   ],
   "execution_count": 186
  },
  {
   "metadata": {
    "trusted": false,
    "ExecuteTime": {
     "end_time": "2025-06-06T03:57:48.265071Z",
     "start_time": "2025-06-06T03:57:48.262672Z"
    }
   },
   "id": "a9d00102",
   "cell_type": "code",
   "source": "# Now that we have fit our model, let's print its slope and intercept\n\nprint(regressor.intercept_)\nprint(regressor.coef_)",
   "outputs": [
    {
     "name": "stdout",
     "output_type": "stream",
     "text": [
      "2.0181600414346903\n",
      "[9.91065648]\n"
     ]
    }
   ],
   "execution_count": 187
  },
  {
   "metadata": {},
   "id": "e16e1909",
   "cell_type": "markdown",
   "source": "Before we evaluate our model on the test set, let's see how good our model fits the train data by plotting it against the training data."
  },
  {
   "metadata": {
    "trusted": false,
    "ExecuteTime": {
     "end_time": "2025-06-06T04:01:56.771644Z",
     "start_time": "2025-06-06T04:01:56.697028Z"
    }
   },
   "id": "b221c73c",
   "cell_type": "code",
   "source": [
    "y_pred = regressor.predict(X_train)\n",
    "plt.scatter(X_train, y_train, color='g')\n",
    "\n",
    "plt.title('Hours of study vs Percentage score')\n",
    "plt.xlabel('Hours Studied')\n",
    "plt.ylabel('Percentage Score')\n",
    "# plt.plot(X_train, y_pred, color='r', label='Linear Regression')\n",
    "plt.plot(X_train, y_pred, 'r-', label='Linear Regression')\n",
    "plt.legend(loc=\"upper left\", fontsize=14)\n",
    "\n",
    "plt.show()"
   ],
   "outputs": [
    {
     "data": {
      "text/plain": [
       "<Figure size 640x480 with 1 Axes>"
      ],
      "image/png": "[encoded data removed]"
     },
     "metadata": {},
     "output_type": "display_data"
    }
   ],
   "execution_count": 191
  },
  {
   "metadata": {},
   "id": "0bc9ac50",
   "cell_type": "markdown",
   "source": "Thus we can see that our model is doing a good job at explaining our training data as the line (our model) is nicely fitting the data. However, do not forget that the actual evaluation should be done on the test data."
  },
  {
   "metadata": {},
   "id": "1809d55c",
   "cell_type": "markdown",
   "source": "### Let's evaluate our Linear Regression Model"
  },
  {
   "metadata": {},
   "id": "6c0300d6",
   "cell_type": "markdown",
   "source": "Let's see how good our model is by evaluating its performance on the test dataset. For this we will use the predict() function to make predictions on the test data."
  },
  {
   "metadata": {
    "trusted": false,
    "ExecuteTime": {
     "end_time": "2025-06-06T03:52:04.751131Z",
     "start_time": "2025-06-06T03:52:04.743888Z"
    }
   },
   "id": "02e7c8e3",
   "cell_type": "code",
   "source": "# Storing the result of prediction into y_pred variable,\ny_pred = regressor.predict(X_test)\n\n# for comparison purpose, let's store both the actual labels and the predicted labels in a dataframe\ndf = pd.DataFrame({'Actual': y_test, 'Predicted': y_pred})\ndf",
   "outputs": [
    {
     "data": {
      "text/plain": [
       "   Actual  Predicted\n",
       "0      20  16.884145\n",
       "1      27  33.732261\n",
       "2      69  75.357018\n",
       "3      30  26.794801\n",
       "4      62  60.491033"
      ],
      "text/html": [
       "<div>\n",
       "<style scoped>\n",
       "    .dataframe tbody tr th:only-of-type {\n",
       "        vertical-align: middle;\n",
       "    }\n",
       "\n",
       "    .dataframe tbody tr th {\n",
       "        vertical-align: top;\n",
       "    }\n",
       "\n",
       "    .dataframe thead th {\n",
       "        text-align: right;\n",
       "    }\n",
       "</style>\n",
       "<table border=\"1\" class=\"dataframe\">\n",
       "  <thead>\n",
       "    <tr style=\"text-align: right;\">\n",
       "      <th></th>\n",
       "      <th>Actual</th>\n",
       "      <th>Predicted</th>\n",
       "    </tr>\n",
       "  </thead>\n",
       "  <tbody>\n",
       "    <tr>\n",
       "      <th>0</th>\n",
       "      <td>20</td>\n",
       "      <td>16.884145</td>\n",
       "    </tr>\n",
       "    <tr>\n",
       "      <th>1</th>\n",
       "      <td>27</td>\n",
       "      <td>33.732261</td>\n",
       "    </tr>\n",
       "    <tr>\n",
       "      <th>2</th>\n",
       "      <td>69</td>\n",
       "      <td>75.357018</td>\n",
       "    </tr>\n",
       "    <tr>\n",
       "      <th>3</th>\n",
       "      <td>30</td>\n",
       "      <td>26.794801</td>\n",
       "    </tr>\n",
       "    <tr>\n",
       "      <th>4</th>\n",
       "      <td>62</td>\n",
       "      <td>60.491033</td>\n",
       "    </tr>\n",
       "  </tbody>\n",
       "</table>\n",
       "</div>"
      ]
     },
     "execution_count": 151,
     "metadata": {},
     "output_type": "execute_result"
    }
   ],
   "execution_count": 151
  },
  {
   "metadata": {},
   "id": "43d21e20",
   "cell_type": "markdown",
   "source": "Now we will quantify the performance of our model using the root mean squared error, mean absolute error and coefficient of determination $R^2$.\n\nMAE:\n\n![MAE formula](assets/MAE_1.WEBP \"MAE formula\")\n\nMSE and RMSE:\n\n![MSE formula](assets/MSE_1.WEBP \"MSE and RMSE formulae\")\n\n<!-- RMSE:\n\n![RMSE formula](res/rmse.png \"RMSE formula\") -->\n\nR<sup>2</sup>:\n\n![R_squared](assets/R_squared_1.PNG \"R squared formula\")\n"
  },
  {
   "metadata": {},
   "id": "0ed5a65f",
   "cell_type": "markdown",
   "source": "Task for you: Use the following resource to read more about these metrics. \n\nhttps://scikit-learn.org/stable/modules/model_evaluation.html"
  },
  {
   "metadata": {
    "trusted": false,
    "ExecuteTime": {
     "end_time": "2025-06-06T03:52:04.804508Z",
     "start_time": "2025-06-06T03:52:04.800253Z"
    }
   },
   "id": "68803bf9",
   "cell_type": "code",
   "source": "from sklearn import metrics\n\nprint('Mean Absolute Error:', metrics.mean_absolute_error(y_test, y_pred))\nprint('Mean Squared Error:', metrics.mean_squared_error(y_test, y_pred))\nprint('Root Mean Squared Error:', np.sqrt(metrics.mean_squared_error(y_test, y_pred)))",
   "outputs": [
    {
     "name": "stdout",
     "output_type": "stream",
     "text": [
      "Mean Absolute Error: 4.1838598990029725\n",
      "Mean Squared Error: 21.59876930721736\n",
      "Root Mean Squared Error: 4.647447612100362\n"
     ]
    }
   ],
   "execution_count": 152
  },
  {
   "metadata": {
    "pycharm": {
     "name": "#%% md\n"
    }
   },
   "id": "99e7cbd8",
   "cell_type": "markdown",
   "source": "## Encoding Categorical Data (Converting categorical data to numbers)\n\nOur datasets do not have just the numerical features. In fact, it is quite common to have categorical features (such as color, city, or customer type) in our problems. Before we can train machine learning models using such features, it is important to convert them into a suitable numerical form. There are two common approaches for converting ordinal and categorical variables to numerical values. They are:\n\n- Ordinal Encoding\n- One-Hot Encoding"
  },
  {
   "metadata": {
    "pycharm": {
     "name": "#%% md\n"
    }
   },
   "id": "350806e3",
   "cell_type": "markdown",
   "source": "### Ordinal Encoding\n\nIn ordinal encoding, each unique category value is assigned an integer value.\n\nFor example, “red” is 1, “green” is 2, and “blue” is 3.\n\nThis is called an ordinal encoding or an integer encoding and is easily reversible. Often, integer values starting at zero are used."
  },
  {
   "metadata": {
    "pycharm": {
     "name": "#%%\n"
    },
    "trusted": false,
    "ExecuteTime": {
     "end_time": "2025-06-06T03:52:04.897621Z",
     "start_time": "2025-06-06T03:52:04.894853Z"
    }
   },
   "id": "ea12699b",
   "cell_type": "code",
   "source": "# example of a ordinal encoding\nfrom numpy import asarray\n# define data\ndata = asarray([['red'], ['green'], ['blue']])\nprint(data)",
   "outputs": [
    {
     "name": "stdout",
     "output_type": "stream",
     "text": [
      "[['red']\n",
      " ['green']\n",
      " ['blue']]\n"
     ]
    }
   ],
   "execution_count": 153
  },
  {
   "metadata": {
    "pycharm": {
     "name": "#%% md\n"
    }
   },
   "id": "678d4414",
   "cell_type": "markdown",
   "source": "Let's convert the above categorical data into numerical via OrdinalEncoder class. You can read about it at https://scikit-learn.org/stable/modules/generated/sklearn.preprocessing.OrdinalEncoder.html#sklearn.preprocessing.OrdinalEncoder"
  },
  {
   "metadata": {
    "pycharm": {
     "name": "#%%\n"
    },
    "trusted": false,
    "ExecuteTime": {
     "end_time": "2025-06-06T03:52:04.950722Z",
     "start_time": "2025-06-06T03:52:04.947840Z"
    }
   },
   "id": "f66a032f",
   "cell_type": "code",
   "source": "from sklearn.preprocessing import OrdinalEncoder\n# define ordinal encoding\nencoder = OrdinalEncoder()\n\n# Transform categorical data into numerical via OrdinalEncoder\nresult = encoder.fit_transform(data)\n\nprint(result)",
   "outputs": [
    {
     "name": "stdout",
     "output_type": "stream",
     "text": [
      "[[2.]\n",
      " [1.]\n",
      " [0.]]\n"
     ]
    }
   ],
   "execution_count": 154
  },
  {
   "metadata": {
    "pycharm": {
     "name": "#%% md\n"
    }
   },
   "id": "b0ddcbb7",
   "cell_type": "markdown",
   "source": "When should not we use OrdinalEncoding? What are the disadvantages of it? \n\nFor categorical variables where no ordinal relationship exists, the integer encoding may not be enough, at best, or misleading to the model at worst. Forcing an ordinal relationship via an ordinal encoding and allowing the model to assume a natural ordering between categories may result in poor performance or unexpected results (predictions halfway between categories).\n\nHowever, if there exists an ordinal relationship among values, such as a feature whose values are (low, medium, high) than encoding these with OrdinalEncoder will preserve this relationship and allow the machine model to benefit from this information."
  },
  {
   "metadata": {
    "pycharm": {
     "name": "#%% md\n"
    }
   },
   "id": "d58dc538",
   "cell_type": "markdown",
   "source": "### One-Hot Encoding\n\nOne-hot encoding is a way of representing categorical variables as numerical data, so that they can be input into machine learning algorithms. It is called \"one-hot\" because only one of the elements in the vector is \"hot\" (has the value of 1) while the rest are 0.\n\nFor example, suppose you have a categorical variable with three categories: \"red\", \"green\", and \"blue\". You can one-hot encode this variable by creating a new binary vector with three elements, one for each category. If the original categorical value is \"red\", the one-hot encoded vector would be [1, 0, 0]. If the original categorical value is \"green\", the one-hot encoded vector would be [0, 1, 0], and so on.\n\nOne-hot encoding has several advantages:\n\n1. It allows categorical data to be input into machine learning algorithms that expect numerical data.\n2. It avoids the problem of assigning arbitrary numerical values to categories, which can sometimes lead to incorrect assumptions about the relationships between the categories.\n3. It is easy to interpret, since each element of the one-hot encoded vector corresponds to a specific category.\n4. It allows for efficient computation, since only one element of the vector is non-zero.\n\nHowever, one-hot encoding can also have some disadvantages. For example, it can lead to high-dimensional data, which can be computationally expensive to process and may require more data to achieve good results. Additionally, it does not capture any relationships between categories, which may be important for some types of machine learning models."
  },
  {
   "metadata": {
    "trusted": false,
    "ExecuteTime": {
     "end_time": "2025-06-06T03:52:05.004261Z",
     "start_time": "2025-06-06T03:52:05.001743Z"
    }
   },
   "id": "f4818829",
   "cell_type": "code",
   "source": "# example of a one hot encoding\nfrom numpy import asarray\n# define data\ndata = asarray([['red'], ['green'], ['blue']])\nprint(data)",
   "outputs": [
    {
     "name": "stdout",
     "output_type": "stream",
     "text": [
      "[['red']\n",
      " ['green']\n",
      " ['blue']]\n"
     ]
    }
   ],
   "execution_count": 155
  },
  {
   "metadata": {},
   "id": "b69eaafb",
   "cell_type": "markdown",
   "source": "Let's convert the above categorical data into numerical via OneHotEncoder class. You can read more about it at https://scikit-learn.org/stable/modules/generated/sklearn.preprocessing.OneHotEncoder.html#sklearn.preprocessing.OneHotEncoder"
  },
  {
   "metadata": {
    "trusted": false,
    "ExecuteTime": {
     "end_time": "2025-06-06T03:52:05.042685Z",
     "start_time": "2025-06-06T03:52:05.039708Z"
    }
   },
   "id": "d9e563b2",
   "cell_type": "code",
   "source": "from sklearn.preprocessing import OneHotEncoder\n\n# define one hot encoding\nencoder = OneHotEncoder(sparse_output=False)\n# Transform categorical data into numerical via OneHotEncoder\nonehot = encoder.fit_transform(data)\n\nprint(onehot)",
   "outputs": [
    {
     "name": "stdout",
     "output_type": "stream",
     "text": [
      "[[0. 0. 1.]\n",
      " [0. 1. 0.]\n",
      " [1. 0. 0.]]\n"
     ]
    }
   ],
   "execution_count": 156
  },
  {
   "metadata": {},
   "id": "a662e961",
   "cell_type": "markdown",
   "source": "## Data Scaling\n\nData scaling is the process of transforming the values of numeric variables so that they have a common scale, without distorting the differences in the ranges of the variables or the relationships between them. It is an important step in preparing data for machine learning algorithms, because many algorithms assume that the variables on which they are trained are on a common scale.\n\nThere are several reasons why data scaling is important:\n\nAlgorithms that are sensitive to the scale of the input data: Some machine learning algorithms are sensitive to the scale of the input data and perform better when the variables are on a common scale. For example, algorithms based on distance measures, such as k-nearest neighbors, are sensitive to the scale of the input data.\n\nAvoiding bias in the feature space: When variables are on different scales, some variables may dominate the feature space and influence the model more than others. Data scaling helps to avoid this bias by putting all variables on a common scale, so that they contribute equally to the model.\n\nImproving the interpretability of the model: When variables are on a common scale, it is easier to interpret the model coefficients, because they can be directly compared.\n\nThere are several ways to scale data, including standardization, normalization, and scaling to a range. The appropriate method will depend on the characteristics of the data and the requirements of the machine learning algorithm being used."
  },
  {
   "metadata": {},
   "id": "c742da3e",
   "cell_type": "markdown",
   "source": "### Data scaling technique: Data normalization\nNormalization is a rescaling of the data from the original range so that all values are within the range of 0 and 1 (or other ranges).\n\nNormalization requires that you know or are able to accurately estimate the minimum and maximum observable values. You may be able to estimate these values from your available data.\n\nThe formula for normalization:\n\n$x^{(i)}_{\\operatorname{normalized}} =  \\frac{x^{(i)} - min(X)}{max(X) - min(X)}$, where $X = [x_0, x_1, ... x_i, ... x_n]$"
  },
  {
   "metadata": {},
   "id": "7a3cd65b",
   "cell_type": "markdown",
   "source": "Example:\nwe will create a small dataset with two features having different ranges, and scale them using the normalization technique."
  },
  {
   "metadata": {
    "trusted": false,
    "ExecuteTime": {
     "end_time": "2025-06-06T03:52:05.077279Z",
     "start_time": "2025-06-06T03:52:05.073930Z"
    }
   },
   "id": "af20fb2b",
   "cell_type": "code",
   "source": "import pandas as pd\nimport numpy as np\nimport matplotlib.pyplot as plt\n%matplotlib inline\ndf = pd.DataFrame({'WEIGHT': [15, 18, 12,10],\n                   'PRICE': [1,3,2,5]},\n                   index = ['Orange','Apple','Banana','Grape'])\nprint(df)",
   "outputs": [
    {
     "name": "stdout",
     "output_type": "stream",
     "text": [
      "        WEIGHT  PRICE\n",
      "Orange      15      1\n",
      "Apple       18      3\n",
      "Banana      12      2\n",
      "Grape       10      5\n"
     ]
    }
   ],
   "execution_count": 157
  },
  {
   "metadata": {},
   "id": "931a2f83",
   "cell_type": "markdown",
   "source": "For normalization of the above dataset we will use the MinMaxScaler class. You can read more about it at https://scikit-learn.org/stable/modules/generated/sklearn.preprocessing.MinMaxScaler.html#sklearn.preprocessing.MinMaxScaler"
  },
  {
   "metadata": {
    "trusted": false,
    "ExecuteTime": {
     "end_time": "2025-06-06T03:52:05.112628Z",
     "start_time": "2025-06-06T03:52:05.108530Z"
    }
   },
   "id": "8e7070a8",
   "cell_type": "code",
   "source": "from sklearn.preprocessing import MinMaxScaler\nscaler = MinMaxScaler()\n# apply min-max scaler to the df dataset, write one line code below\n\nmin_max_scaled_data = scaler.fit_transform(df)\ndf1 = pd.DataFrame(min_max_scaled_data, columns=['WEIGHT','PRICE'], index = ['Orange','Apple','Banana','Grape'])\nprint(df1)",
   "outputs": [
    {
     "name": "stdout",
     "output_type": "stream",
     "text": [
      "        WEIGHT  PRICE\n",
      "Orange   0.625   0.00\n",
      "Apple    1.000   0.50\n",
      "Banana   0.250   0.25\n",
      "Grape    0.000   1.00\n"
     ]
    }
   ],
   "execution_count": 158
  },
  {
   "metadata": {},
   "id": "839b5191",
   "cell_type": "markdown",
   "source": "### A note about MinMax scaling\n#### (journal entry)\nPerforming the normalization in this way has never sat 100% well with me, because we are transforming one of those datapoints to zero.\n\nIn thinking about the drawbacks, I can see this: it couples the normalized data to the current model. Once you have forced a value to zero, no further scaling will have any effect. You have removed its information, _except_ in relation to the normalized dataset.\n\nYou are now limited in what you can use the normalized data for, or what you can do with the model (it cannot be retrained, except by first renormalizing any added data alongside the original, unnormalized data)\n\nThat said, there are ML techniques that involve removing less significant features entirely, and this is just one datapoint (which could be removed?)"
  },
  {
   "metadata": {},
   "id": "07432b6c",
   "cell_type": "markdown",
   "source": "### Data scaling technique: Data Standardization\n\nStandardizing a dataset involves rescaling the distribution of values so that the mean of observed values is 0 and the standard deviation is 1. It is sometimes referred to as “whitening.”\n\nThis can be thought of as subtracting the mean value or centering the data.\n\nLike normalization, standardization can be useful, and even required in some machine learning algorithms when your data has input values with differing scales.\n\nStandardization assumes that your observations fit a Gaussian distribution (bell curve) with a well behaved mean and standard deviation. You can still standardize your data if this expectation is not met, but you may not get reliable results.\n\nStandardization requires that you know or are able to accurately estimate the mean and standard deviation of observable values. You may be able to estimate these values from your training data.\n\nThe formula is:\n\n$y = \\frac{(x - mean)} {standard\\_deviation}$\n\nwhere:\n- $mean = \\frac{sum(x)}{count(x)}$\n- $standard\\_deviation = \\sqrt{\\frac{\\sum (x - mean)^2}{count(x)}}$"
  },
  {
   "metadata": {},
   "id": "6126b0e6",
   "cell_type": "markdown",
   "source": "Let's apply the standardscaler to the previous dataset to perform standardization. You can read more about it at https://scikit-learn.org/stable/modules/generated/sklearn.preprocessing.StandardScaler.html#sklearn.preprocessing.StandardScaler"
  },
  {
   "metadata": {
    "trusted": false,
    "ExecuteTime": {
     "end_time": "2025-06-06T03:52:05.157448Z",
     "start_time": "2025-06-06T03:52:05.149242Z"
    }
   },
   "id": "d303a95b",
   "cell_type": "code",
   "source": "from sklearn.preprocessing import StandardScaler\nscaler = StandardScaler()\n\n# apply standard scaler to the df dataset\nscaled_df = scaler.fit_transform(df)\n\ndf2 = pd.DataFrame(scaled_df,\n                   columns=['WEIGHT','PRICE'],\n                   index = ['Orange','Apple','Banana','Grape'])\nprint(df2)\n",
   "outputs": [
    {
     "name": "stdout",
     "output_type": "stream",
     "text": [
      "          WEIGHT     PRICE\n",
      "Orange  0.412393 -1.183216\n",
      "Apple   1.402136  0.169031\n",
      "Banana -0.577350 -0.507093\n",
      "Grape  -1.237179  1.521278\n"
     ]
    }
   ],
   "execution_count": 159
  },
  {
   "metadata": {},
   "id": "876f886b",
   "cell_type": "markdown",
   "source": "#### Data standardization vs normalization, which one to use?\n\n\nStandardization is useful when the data follows a normal distribution or when the scale of the variables is not important.\n\nIn general, standardization is a more widely used technique, but normalization may be preferred in some cases, such as when the data follows a skewed distribution or when the values of the variables have a specific range. It is always a good idea to explore both techniques and choose the one that works best for your data and machine learning algorithm."
  },
  {
   "metadata": {},
   "id": "503ed4e4",
   "cell_type": "markdown",
   "source": "### Polynomial Regression\nPolynomial regression is a type of regression analysis in which the relationship between the independent variable x and the dependent variable y is modeled as an nth degree polynomial. \n\nPolynomial regression can be used to model relationships between variables that are not linear. It can also be used to model non-linear relationships between variables when the data is not well-represented by a linear model. However, polynomial regression can be prone to overfitting, especially when the degree of the polynomial is high. It is important to carefully choose the degree of the polynomial and use techniques such as cross-validation to avoid overfitting."
  },
  {
   "metadata": {},
   "id": "07044004",
   "cell_type": "markdown",
   "source": "#### We will create a simple synthetic nonlinear dataset based on a simple quadratic equation"
  },
  {
   "metadata": {
    "trusted": false,
    "ExecuteTime": {
     "end_time": "2025-06-06T03:52:05.189988Z",
     "start_time": "2025-06-06T03:52:05.186347Z"
    }
   },
   "id": "87dc9439",
   "cell_type": "code",
   "source": "import numpy as np\nimport numpy.random as rnd\nimport matplotlib.pyplot as plt\n\nnp.random.seed(42)\nm = 100\nX = 6 * np.random.rand(m, 1) - 3\ny = 0.5 * X**2 + X + 2 + np.random.randn(m, 1)\ny2 = 0.5 * X**2 + X + 2 # the base function without random noise added",
   "outputs": [],
   "execution_count": 160
  },
  {
   "metadata": {
    "trusted": false,
    "ExecuteTime": {
     "end_time": "2025-06-06T03:52:05.262926Z",
     "start_time": "2025-06-06T03:52:05.217087Z"
    }
   },
   "id": "2c114f95",
   "cell_type": "code",
   "source": [
    "# plot the noisy data points\n",
    "plt.plot(X, y, \"b.\")\n",
    "# plot the base function without the noise\n",
    "# plt.plot(X, y2, \"c.\")\n",
    "# note that you can use LaTeX in the plot labels. That's pretty cool.\n",
    "plt.xlabel(\"$x_1$\", fontsize=18)\n",
    "plt.ylabel(\"$y$\", rotation=0, fontsize=18)\n",
    "plt.axis((-3, 3, 0, 10))\n",
    "plt.show()"
   ],
   "outputs": [
    {
     "data": {
      "text/plain": [
       "<Figure size 640x480 with 1 Axes>"
      ],
      "image/png": "[encoded data removed]"
     },
     "metadata": {},
     "output_type": "display_data"
    }
   ],
   "execution_count": 161
  },
  {
   "metadata": {},
   "id": "aaac16a6",
   "cell_type": "markdown",
   "source": "As we can see that the data does not follow a straight line relationship, instead is scatters along a curvy route indicating a non-linear relaionship between features and labels.\n\nClearly, a straight line will never fit this data properly. Therefore, we will fit a polynomial model to this data. It will be done in two steps:\n\n1. First we will use Scikit-Learn’s PolynomialFeatures class to transform our training data, adding the square (2nd-degree polynomial) of each feature in the training set as new features.\n\nYou can read more about the PolynomialFeatures class at https://scikit-learn.org/stable/modules/generated/sklearn.preprocessing.PolynomialFeatures.html#sklearn.preprocessing.PolynomialFeatures"
  },
  {
   "metadata": {
    "trusted": false,
    "ExecuteTime": {
     "end_time": "2025-06-06T03:52:05.286720Z",
     "start_time": "2025-06-06T03:52:05.283518Z"
    }
   },
   "id": "7686c0e5",
   "cell_type": "code",
   "source": "from sklearn.preprocessing import PolynomialFeatures\npoly_features = PolynomialFeatures(degree=2, include_bias=False)\nX_poly = poly_features.fit_transform(X)",
   "outputs": [],
   "execution_count": 162
  },
  {
   "metadata": {},
   "id": "6df7e9c9",
   "cell_type": "markdown",
   "source": "So we have transformed X (which are original features - note that there is just one feature) into X_poly which now contains two features: first is the original feature and the second one is the sqaure of the original feature."
  },
  {
   "metadata": {
    "trusted": false,
    "ExecuteTime": {
     "end_time": "2025-06-06T03:52:05.312963Z",
     "start_time": "2025-06-06T03:52:05.306885Z"
    }
   },
   "id": "49100648",
   "cell_type": "code",
   "source": "X[0]",
   "outputs": [
    {
     "data": {
      "text/plain": [
       "array([-0.75275929])"
      ]
     },
     "execution_count": 163,
     "metadata": {},
     "output_type": "execute_result"
    }
   ],
   "execution_count": 163
  },
  {
   "metadata": {
    "trusted": false,
    "ExecuteTime": {
     "end_time": "2025-06-06T03:52:05.355248Z",
     "start_time": "2025-06-06T03:52:05.351873Z"
    }
   },
   "id": "b327e732",
   "cell_type": "code",
   "source": "X_poly[0]",
   "outputs": [
    {
     "data": {
      "text/plain": [
       "array([-0.75275929,  0.56664654])"
      ]
     },
     "execution_count": 164,
     "metadata": {},
     "output_type": "execute_result"
    }
   ],
   "execution_count": 164
  },
  {
   "metadata": {},
   "id": "25ff8bf2",
   "cell_type": "markdown",
   "source": "2. Now that the features are ready, we will use the LinearRegression class to fit the model to this extended training data. \n\nYes, you read that right. We are still using the LinearRegression class. The trick is that we are applying it to two features now, where one of the features is coming from a 2nd-degree polynomial. "
  },
  {
   "metadata": {
    "trusted": false,
    "ExecuteTime": {
     "end_time": "2025-06-06T03:52:05.385540Z",
     "start_time": "2025-06-06T03:52:05.381861Z"
    }
   },
   "id": "8db79ec9",
   "cell_type": "code",
   "source": "regressor = LinearRegression()\nregressor.fit(X_poly, y)\nprint(regressor.intercept_)\nprint(regressor.coef_)",
   "outputs": [
    {
     "name": "stdout",
     "output_type": "stream",
     "text": [
      "[1.78134581]\n",
      "[[0.93366893 0.56456263]]\n"
     ]
    }
   ],
   "execution_count": 165
  },
  {
   "metadata": {},
   "id": "be5c0165",
   "cell_type": "markdown",
   "source": "Let's see how well the model fits the data"
  },
  {
   "metadata": {
    "trusted": false,
    "ExecuteTime": {
     "end_time": "2025-06-06T03:52:05.509641Z",
     "start_time": "2025-06-06T03:52:05.417743Z"
    }
   },
   "id": "0f61ad54",
   "cell_type": "code",
   "source": [
    "X_new=np.linspace(-3, 3, 100).reshape(100, 1)\n",
    "X_new_poly = poly_features.transform(X_new)\n",
    "y_new = regressor.predict(X_new_poly)\n",
    "plt.plot(X, y, \"b.\", label=\"Simulated Data\")\n",
    "plt.plot(X_new, y_new, \"r-\", linewidth=2, label=\"Model predictions\")\n",
    "\n",
    "# actual (base) function without random noise\n",
    "plt.plot(X, y2, \"c.\", linewidth=2, label=\"Data minus noise\")\n",
    "\n",
    "plt.xlabel(\"$x_1$\", fontsize=18)\n",
    "plt.ylabel(\"$y$\", rotation=0, fontsize=18)\n",
    "plt.legend(loc=\"upper left\", fontsize=14)\n",
    "plt.axis((-3, 3, 0, 10))\n",
    "plt.title(\"Linear regression on data with polynomial features\")\n",
    "plt.figtext(0.5, -0.1, \"Simulated data (blue) was generated from points on a degree-2 polynomial line (teal), and linear regression was used to fit a model (red) to the data. The prediction is close to the 'actual' source data.\", ha='center', wrap=True)\n",
    "\n",
    "plt.show()"
   ],
   "outputs": [
    {
     "data": {
      "text/plain": [
       "<Figure size 640x480 with 1 Axes>"
      ],
      "image/png": "[encoded data removed]"
     },
     "metadata": {},
     "output_type": "display_data"
    }
   ],
   "execution_count": 166
  },
  {
   "metadata": {},
   "id": "b808d525",
   "cell_type": "markdown",
   "source": "## Multiple linear regression - This is part of Challenge Activity"
  },
  {
   "metadata": {},
   "id": "09354dd5",
   "cell_type": "markdown",
   "source": "Q. What is Multiple Regression, and when do we use it?\n\n\nYour Answer:\n\nMultiple linear regression is a linear regression performed on a dataset that includes more than one independent variable. It is used to find a model or approximate function that relates the independent variables to a dependent variable. The resulting function is an $N$-dimensional hyperplane, where $N$ is the number of independent variables or features. \n\nFor example, if we want to predict how long it will take to generate the checksums for a set of files, we might have the total file size and file count, and values for how long real operations took. Multiple linear regression would give us a flat, 2-dimensional plane relating file size, file count, and processing time.\n\nThis is different from multivariate linear regression, which predicts _multiple correlated_ dependent variables from one or more dependent variables.\n\nSimple linear regression, in contrast, is used when there is only one independent variable.\n"
  },
  {
   "metadata": {
    "trusted": true,
    "ExecuteTime": {
     "end_time": "2025-06-06T03:52:05.529876Z",
     "start_time": "2025-06-06T03:52:05.527990Z"
    }
   },
   "id": "f60e942c",
   "cell_type": "code",
   "source": "import numpy as np\nimport pandas as pd\nimport matplotlib.pyplot as plt\nfrom matplotlib.pyplot import figure\nimport math",
   "outputs": [],
   "execution_count": 167
  },
  {
   "metadata": {},
   "id": "fe7c932f",
   "cell_type": "markdown",
   "source": "#### Dataset\n\nAs dataset, we will use the following dataset:\nhttps://www.kaggle.com/mohansacharya/graduate-admissions\n\nWe have already downloaded the CSV of the dataset (Admission_Predict.csv) and we just load it through pandas:"
  },
  {
   "metadata": {
    "trusted": true,
    "ExecuteTime": {
     "end_time": "2025-06-06T03:52:05.551618Z",
     "start_time": "2025-06-06T03:52:05.548163Z"
    }
   },
   "id": "8a7a2876",
   "cell_type": "code",
   "source": "df = pd.read_csv('data/Admission_Predict.csv')",
   "outputs": [],
   "execution_count": 168
  },
  {
   "metadata": {},
   "id": "3b0f78e8",
   "cell_type": "markdown",
   "source": [
    "Let's get familiar with the dataset.\n",
    "\n",
    "According to (Acharya et al. 2019), the columns in the dataset represent:\n",
    "- GRE Scores ( out of 340 )\n",
    "- TOEFL Scores ( out of 120 )\n",
    "- University Rating ( out of 5 )\n",
    "- Statement of Purpose ( out of 5 )\n",
    "- Letter of Recommendation Strength ( out of 5 )\n",
    "- Undergraduate GPA ( out of 10 )\n",
    "- Research Experience ( either 0 or 1 )\n",
    "- Chance of Admit ( ranging from 0 to 1 )"
   ]
  },
  {
   "metadata": {
    "trusted": true,
    "ExecuteTime": {
     "end_time": "2025-06-06T03:52:05.575720Z",
     "start_time": "2025-06-06T03:52:05.571221Z"
    }
   },
   "id": "a431229b",
   "cell_type": "code",
   "source": "df.head()",
   "outputs": [
    {
     "data": {
      "text/plain": [
       "   Serial No.  GRE Score  TOEFL Score  University Rating  SOP  LOR  CGPA  \\\n",
       "0           1        337          118                  4  4.5  4.5  9.65   \n",
       "1           2        324          107                  4  4.0  4.5  8.87   \n",
       "2           3        316          104                  3  3.0  3.5  8.00   \n",
       "3           4        322          110                  3  3.5  2.5  8.67   \n",
       "4           5        314          103                  2  2.0  3.0  8.21   \n",
       "\n",
       "   Research  Chance of Admit  \n",
       "0         1             0.92  \n",
       "1         1             0.76  \n",
       "2         1             0.72  \n",
       "3         1             0.80  \n",
       "4         0             0.65  "
      ],
      "text/html": [
       "<div>\n",
       "<style scoped>\n",
       "    .dataframe tbody tr th:only-of-type {\n",
       "        vertical-align: middle;\n",
       "    }\n",
       "\n",
       "    .dataframe tbody tr th {\n",
       "        vertical-align: top;\n",
       "    }\n",
       "\n",
       "    .dataframe thead th {\n",
       "        text-align: right;\n",
       "    }\n",
       "</style>\n",
       "<table border=\"1\" class=\"dataframe\">\n",
       "  <thead>\n",
       "    <tr style=\"text-align: right;\">\n",
       "      <th></th>\n",
       "      <th>Serial No.</th>\n",
       "      <th>GRE Score</th>\n",
       "      <th>TOEFL Score</th>\n",
       "      <th>University Rating</th>\n",
       "      <th>SOP</th>\n",
       "      <th>LOR</th>\n",
       "      <th>CGPA</th>\n",
       "      <th>Research</th>\n",
       "      <th>Chance of Admit</th>\n",
       "    </tr>\n",
       "  </thead>\n",
       "  <tbody>\n",
       "    <tr>\n",
       "      <th>0</th>\n",
       "      <td>1</td>\n",
       "      <td>337</td>\n",
       "      <td>118</td>\n",
       "      <td>4</td>\n",
       "      <td>4.5</td>\n",
       "      <td>4.5</td>\n",
       "      <td>9.65</td>\n",
       "      <td>1</td>\n",
       "      <td>0.92</td>\n",
       "    </tr>\n",
       "    <tr>\n",
       "      <th>1</th>\n",
       "      <td>2</td>\n",
       "      <td>324</td>\n",
       "      <td>107</td>\n",
       "      <td>4</td>\n",
       "      <td>4.0</td>\n",
       "      <td>4.5</td>\n",
       "      <td>8.87</td>\n",
       "      <td>1</td>\n",
       "      <td>0.76</td>\n",
       "    </tr>\n",
       "    <tr>\n",
       "      <th>2</th>\n",
       "      <td>3</td>\n",
       "      <td>316</td>\n",
       "      <td>104</td>\n",
       "      <td>3</td>\n",
       "      <td>3.0</td>\n",
       "      <td>3.5</td>\n",
       "      <td>8.00</td>\n",
       "      <td>1</td>\n",
       "      <td>0.72</td>\n",
       "    </tr>\n",
       "    <tr>\n",
       "      <th>3</th>\n",
       "      <td>4</td>\n",
       "      <td>322</td>\n",
       "      <td>110</td>\n",
       "      <td>3</td>\n",
       "      <td>3.5</td>\n",
       "      <td>2.5</td>\n",
       "      <td>8.67</td>\n",
       "      <td>1</td>\n",
       "      <td>0.80</td>\n",
       "    </tr>\n",
       "    <tr>\n",
       "      <th>4</th>\n",
       "      <td>5</td>\n",
       "      <td>314</td>\n",
       "      <td>103</td>\n",
       "      <td>2</td>\n",
       "      <td>2.0</td>\n",
       "      <td>3.0</td>\n",
       "      <td>8.21</td>\n",
       "      <td>0</td>\n",
       "      <td>0.65</td>\n",
       "    </tr>\n",
       "  </tbody>\n",
       "</table>\n",
       "</div>"
      ]
     },
     "execution_count": 169,
     "metadata": {},
     "output_type": "execute_result"
    }
   ],
   "execution_count": 169
  },
  {
   "metadata": {
    "scrolled": true,
    "trusted": true,
    "ExecuteTime": {
     "end_time": "2025-06-06T03:52:05.622087Z",
     "start_time": "2025-06-06T03:52:05.615125Z"
    }
   },
   "id": "d42c0f2b",
   "cell_type": "code",
   "source": "df.info()",
   "outputs": [
    {
     "name": "stdout",
     "output_type": "stream",
     "text": [
      "<class 'pandas.core.frame.DataFrame'>\n",
      "RangeIndex: 400 entries, 0 to 399\n",
      "Data columns (total 9 columns):\n",
      " #   Column             Non-Null Count  Dtype  \n",
      "---  ------             --------------  -----  \n",
      " 0   Serial No.         400 non-null    int64  \n",
      " 1   GRE Score          400 non-null    int64  \n",
      " 2   TOEFL Score        400 non-null    int64  \n",
      " 3   University Rating  400 non-null    int64  \n",
      " 4   SOP                400 non-null    float64\n",
      " 5   LOR                400 non-null    float64\n",
      " 6   CGPA               400 non-null    float64\n",
      " 7   Research           400 non-null    int64  \n",
      " 8   Chance of Admit    400 non-null    float64\n",
      "dtypes: float64(4), int64(5)\n",
      "memory usage: 28.3 KB\n"
     ]
    }
   ],
   "execution_count": 170
  },
  {
   "metadata": {},
   "id": "d8c0cd35",
   "cell_type": "markdown",
   "source": "### Task:\nSeparate the features into X and labels into Y."
  },
  {
   "metadata": {
    "trusted": true,
    "ExecuteTime": {
     "end_time": "2025-06-06T03:52:05.660781Z",
     "start_time": "2025-06-06T03:52:05.657924Z"
    }
   },
   "id": "52cadaca",
   "cell_type": "code",
   "source": "# write your code here\n# all rows from all columns but the last\nX = df.iloc[:,:-1]\n# dependent column only\ny = df['Chance of Admit']\n\ndf.columns\n\n",
   "outputs": [
    {
     "data": {
      "text/plain": [
       "Index(['Serial No.', 'GRE Score', 'TOEFL Score', 'University Rating', 'SOP',\n",
       "       'LOR', 'CGPA', 'Research', 'Chance of Admit'],\n",
       "      dtype='object')"
      ]
     },
     "execution_count": 171,
     "metadata": {},
     "output_type": "execute_result"
    }
   ],
   "execution_count": 171
  },
  {
   "metadata": {},
   "id": "c012b6ac",
   "cell_type": "markdown",
   "source": "### Task:\nPerform data normalization"
  },
  {
   "metadata": {
    "trusted": true,
    "ExecuteTime": {
     "end_time": "2025-06-06T03:52:05.706205Z",
     "start_time": "2025-06-06T03:52:05.697019Z"
    }
   },
   "id": "15992e08",
   "cell_type": "code",
   "source": [
    "# write your code here\n",
    "from sklearn.preprocessing import MinMaxScaler\n",
    "scaler = MinMaxScaler()\n",
    "\n",
    "# don't normalize the serial number column\n",
    "# NOTE: it's still appropriate to leave the University Rating column values as they are and normailze them, since they're ordinal data. If they were merely categories we'd have to find another way of dealing with them.\n",
    "# NOTE: the Research column appears to be a numerical representation of a boolean. Normalizing these values will result in floats, which is fine. Having all the normalized values represented as floats will use a little more memory, but may avoid headaches or performance issues that would arise when mixing integers and floats in our calculations.\n",
    "df_no_serial = df.iloc[:,1:]\n",
    "normalized_data = scaler.fit_transform(df_no_serial)\n",
    "# make a dataframe with the normalized columns\n",
    "df_norm = pd.DataFrame(normalized_data, columns=df_no_serial.columns)\n",
    "df_no_serial_norm = pd.DataFrame(normalized_data, columns=df_no_serial.columns)\n",
    "# add the (not normalized) Serial No. column from the original data\n",
    "df_norm['Serial No.'] = df['Serial No.']\n",
    "# make a new ordered list of columns\n",
    "full_columns = ['Serial No.']\n",
    "full_columns.extend(df_no_serial.columns.values.tolist())\n",
    "# reorder the columns on the dataframe\n",
    "df_norm = df_norm[full_columns]\n",
    "\n",
    "df_norm\n"
   ],
   "outputs": [
    {
     "data": {
      "text/plain": [
       "     Serial No.  GRE Score  TOEFL Score  University Rating    SOP    LOR  \\\n",
       "0             1       0.94     0.928571               0.75  0.875  0.875   \n",
       "1             2       0.68     0.535714               0.75  0.750  0.875   \n",
       "2             3       0.52     0.428571               0.50  0.500  0.625   \n",
       "3             4       0.64     0.642857               0.50  0.625  0.375   \n",
       "4             5       0.48     0.392857               0.25  0.250  0.500   \n",
       "..          ...        ...          ...                ...    ...    ...   \n",
       "395         396       0.68     0.642857               0.50  0.625  0.625   \n",
       "396         397       0.70     0.535714               0.50  0.500  0.625   \n",
       "397         398       0.80     0.857143               0.75  1.000  0.875   \n",
       "398         399       0.44     0.392857               0.50  0.625  0.750   \n",
       "399         400       0.86     0.892857               0.75  1.000  0.750   \n",
       "\n",
       "         CGPA  Research  Chance of Admit  \n",
       "0    0.913462       1.0         0.920635  \n",
       "1    0.663462       1.0         0.666667  \n",
       "2    0.384615       1.0         0.603175  \n",
       "3    0.599359       1.0         0.730159  \n",
       "4    0.451923       0.0         0.492063  \n",
       "..        ...       ...              ...  \n",
       "395  0.717949       1.0         0.761905  \n",
       "396  0.740385       1.0         0.793651  \n",
       "397  0.849359       1.0         0.904762  \n",
       "398  0.634615       0.0         0.523810  \n",
       "399  0.916667       1.0         0.968254  \n",
       "\n",
       "[400 rows x 9 columns]"
      ],
      "text/html": [
       "<div>\n",
       "<style scoped>\n",
       "    .dataframe tbody tr th:only-of-type {\n",
       "        vertical-align: middle;\n",
       "    }\n",
       "\n",
       "    .dataframe tbody tr th {\n",
       "        vertical-align: top;\n",
       "    }\n",
       "\n",
       "    .dataframe thead th {\n",
       "        text-align: right;\n",
       "    }\n",
       "</style>\n",
       "<table border=\"1\" class=\"dataframe\">\n",
       "  <thead>\n",
       "    <tr style=\"text-align: right;\">\n",
       "      <th></th>\n",
       "      <th>Serial No.</th>\n",
       "      <th>GRE Score</th>\n",
       "      <th>TOEFL Score</th>\n",
       "      <th>University Rating</th>\n",
       "      <th>SOP</th>\n",
       "      <th>LOR</th>\n",
       "      <th>CGPA</th>\n",
       "      <th>Research</th>\n",
       "      <th>Chance of Admit</th>\n",
       "    </tr>\n",
       "  </thead>\n",
       "  <tbody>\n",
       "    <tr>\n",
       "      <th>0</th>\n",
       "      <td>1</td>\n",
       "      <td>0.94</td>\n",
       "      <td>0.928571</td>\n",
       "      <td>0.75</td>\n",
       "      <td>0.875</td>\n",
       "      <td>0.875</td>\n",
       "      <td>0.913462</td>\n",
       "      <td>1.0</td>\n",
       "      <td>0.920635</td>\n",
       "    </tr>\n",
       "    <tr>\n",
       "      <th>1</th>\n",
       "      <td>2</td>\n",
       "      <td>0.68</td>\n",
       "      <td>0.535714</td>\n",
       "      <td>0.75</td>\n",
       "      <td>0.750</td>\n",
       "      <td>0.875</td>\n",
       "      <td>0.663462</td>\n",
       "      <td>1.0</td>\n",
       "      <td>0.666667</td>\n",
       "    </tr>\n",
       "    <tr>\n",
       "      <th>2</th>\n",
       "      <td>3</td>\n",
       "      <td>0.52</td>\n",
       "      <td>0.428571</td>\n",
       "      <td>0.50</td>\n",
       "      <td>0.500</td>\n",
       "      <td>0.625</td>\n",
       "      <td>0.384615</td>\n",
       "      <td>1.0</td>\n",
       "      <td>0.603175</td>\n",
       "    </tr>\n",
       "    <tr>\n",
       "      <th>3</th>\n",
       "      <td>4</td>\n",
       "      <td>0.64</td>\n",
       "      <td>0.642857</td>\n",
       "      <td>0.50</td>\n",
       "      <td>0.625</td>\n",
       "      <td>0.375</td>\n",
       "      <td>0.599359</td>\n",
       "      <td>1.0</td>\n",
       "      <td>0.730159</td>\n",
       "    </tr>\n",
       "    <tr>\n",
       "      <th>4</th>\n",
       "      <td>5</td>\n",
       "      <td>0.48</td>\n",
       "      <td>0.392857</td>\n",
       "      <td>0.25</td>\n",
       "      <td>0.250</td>\n",
       "      <td>0.500</td>\n",
       "      <td>0.451923</td>\n",
       "      <td>0.0</td>\n",
       "      <td>0.492063</td>\n",
       "    </tr>\n",
       "    <tr>\n",
       "      <th>...</th>\n",
       "      <td>...</td>\n",
       "      <td>...</td>\n",
       "      <td>...</td>\n",
       "      <td>...</td>\n",
       "      <td>...</td>\n",
       "      <td>...</td>\n",
       "      <td>...</td>\n",
       "      <td>...</td>\n",
       "      <td>...</td>\n",
       "    </tr>\n",
       "    <tr>\n",
       "      <th>395</th>\n",
       "      <td>396</td>\n",
       "      <td>0.68</td>\n",
       "      <td>0.642857</td>\n",
       "      <td>0.50</td>\n",
       "      <td>0.625</td>\n",
       "      <td>0.625</td>\n",
       "      <td>0.717949</td>\n",
       "      <td>1.0</td>\n",
       "      <td>0.761905</td>\n",
       "    </tr>\n",
       "    <tr>\n",
       "      <th>396</th>\n",
       "      <td>397</td>\n",
       "      <td>0.70</td>\n",
       "      <td>0.535714</td>\n",
       "      <td>0.50</td>\n",
       "      <td>0.500</td>\n",
       "      <td>0.625</td>\n",
       "      <td>0.740385</td>\n",
       "      <td>1.0</td>\n",
       "      <td>0.793651</td>\n",
       "    </tr>\n",
       "    <tr>\n",
       "      <th>397</th>\n",
       "      <td>398</td>\n",
       "      <td>0.80</td>\n",
       "      <td>0.857143</td>\n",
       "      <td>0.75</td>\n",
       "      <td>1.000</td>\n",
       "      <td>0.875</td>\n",
       "      <td>0.849359</td>\n",
       "      <td>1.0</td>\n",
       "      <td>0.904762</td>\n",
       "    </tr>\n",
       "    <tr>\n",
       "      <th>398</th>\n",
       "      <td>399</td>\n",
       "      <td>0.44</td>\n",
       "      <td>0.392857</td>\n",
       "      <td>0.50</td>\n",
       "      <td>0.625</td>\n",
       "      <td>0.750</td>\n",
       "      <td>0.634615</td>\n",
       "      <td>0.0</td>\n",
       "      <td>0.523810</td>\n",
       "    </tr>\n",
       "    <tr>\n",
       "      <th>399</th>\n",
       "      <td>400</td>\n",
       "      <td>0.86</td>\n",
       "      <td>0.892857</td>\n",
       "      <td>0.75</td>\n",
       "      <td>1.000</td>\n",
       "      <td>0.750</td>\n",
       "      <td>0.916667</td>\n",
       "      <td>1.0</td>\n",
       "      <td>0.968254</td>\n",
       "    </tr>\n",
       "  </tbody>\n",
       "</table>\n",
       "<p>400 rows × 9 columns</p>\n",
       "</div>"
      ]
     },
     "execution_count": 172,
     "metadata": {},
     "output_type": "execute_result"
    }
   ],
   "execution_count": 172
  },
  {
   "metadata": {},
   "id": "7cd2a7c4",
   "cell_type": "markdown",
   "source": "### Task:\nSplit the data into train (80%) and test (20%) sets"
  },
  {
   "metadata": {
    "trusted": false,
    "ExecuteTime": {
     "end_time": "2025-06-06T03:52:05.764804Z",
     "start_time": "2025-06-06T03:52:05.754512Z"
    }
   },
   "id": "6608fe5a",
   "cell_type": "code",
   "source": [
    "# write your code here\n",
    "from sklearn.model_selection import train_test_split\n",
    "\n",
    "# make a matrix of independent variables\n",
    "independent_variables = [\n",
    "    'GRE Score',\n",
    "    'TOEFL Score',\n",
    "    'University Rating',\n",
    "    'SOP',\n",
    "    'LOR',\n",
    "    'CGPA',\n",
    "    'Research',\n",
    "]\n",
    "\n",
    "X = df_norm[independent_variables]\n",
    "print(X)\n",
    "y = df_norm['Chance of Admit']\n",
    "print(y)\n",
    "\n",
    "X_train, X_test, y_train, y_test = train_test_split(X, y, test_size=0.2, random_state=0)\n",
    "print(\"\\n\")\n",
    "print(X_train.info())\n",
    "print(X_test.info())\n",
    "print(y_train.info())\n",
    "print(y_test.info())"
   ],
   "outputs": [
    {
     "name": "stdout",
     "output_type": "stream",
     "text": [
      "     GRE Score  TOEFL Score  University Rating    SOP    LOR      CGPA  \\\n",
      "0         0.94     0.928571               0.75  0.875  0.875  0.913462   \n",
      "1         0.68     0.535714               0.75  0.750  0.875  0.663462   \n",
      "2         0.52     0.428571               0.50  0.500  0.625  0.384615   \n",
      "3         0.64     0.642857               0.50  0.625  0.375  0.599359   \n",
      "4         0.48     0.392857               0.25  0.250  0.500  0.451923   \n",
      "..         ...          ...                ...    ...    ...       ...   \n",
      "395       0.68     0.642857               0.50  0.625  0.625  0.717949   \n",
      "396       0.70     0.535714               0.50  0.500  0.625  0.740385   \n",
      "397       0.80     0.857143               0.75  1.000  0.875  0.849359   \n",
      "398       0.44     0.392857               0.50  0.625  0.750  0.634615   \n",
      "399       0.86     0.892857               0.75  1.000  0.750  0.916667   \n",
      "\n",
      "     Research  \n",
      "0         1.0  \n",
      "1         1.0  \n",
      "2         1.0  \n",
      "3         1.0  \n",
      "4         0.0  \n",
      "..        ...  \n",
      "395       1.0  \n",
      "396       1.0  \n",
      "397       1.0  \n",
      "398       0.0  \n",
      "399       1.0  \n",
      "\n",
      "[400 rows x 7 columns]\n",
      "0      0.920635\n",
      "1      0.666667\n",
      "2      0.603175\n",
      "3      0.730159\n",
      "4      0.492063\n",
      "         ...   \n",
      "395    0.761905\n",
      "396    0.793651\n",
      "397    0.904762\n",
      "398    0.523810\n",
      "399    0.968254\n",
      "Name: Chance of Admit, Length: 400, dtype: float64\n",
      "\n",
      "\n",
      "<class 'pandas.core.frame.DataFrame'>\n",
      "Index: 320 entries, 336 to 172\n",
      "Data columns (total 7 columns):\n",
      " #   Column             Non-Null Count  Dtype  \n",
      "---  ------             --------------  -----  \n",
      " 0   GRE Score          320 non-null    float64\n",
      " 1   TOEFL Score        320 non-null    float64\n",
      " 2   University Rating  320 non-null    float64\n",
      " 3   SOP                320 non-null    float64\n",
      " 4   LOR                320 non-null    float64\n",
      " 5   CGPA               320 non-null    float64\n",
      " 6   Research           320 non-null    float64\n",
      "dtypes: float64(7)\n",
      "memory usage: 20.0 KB\n",
      "None\n",
      "<class 'pandas.core.frame.DataFrame'>\n",
      "Index: 80 entries, 132 to 329\n",
      "Data columns (total 7 columns):\n",
      " #   Column             Non-Null Count  Dtype  \n",
      "---  ------             --------------  -----  \n",
      " 0   GRE Score          80 non-null     float64\n",
      " 1   TOEFL Score        80 non-null     float64\n",
      " 2   University Rating  80 non-null     float64\n",
      " 3   SOP                80 non-null     float64\n",
      " 4   LOR                80 non-null     float64\n",
      " 5   CGPA               80 non-null     float64\n",
      " 6   Research           80 non-null     float64\n",
      "dtypes: float64(7)\n",
      "memory usage: 5.0 KB\n",
      "None\n",
      "<class 'pandas.core.series.Series'>\n",
      "Index: 320 entries, 336 to 172\n",
      "Series name: Chance of Admit\n",
      "Non-Null Count  Dtype  \n",
      "--------------  -----  \n",
      "320 non-null    float64\n",
      "dtypes: float64(1)\n",
      "memory usage: 5.0 KB\n",
      "None\n",
      "<class 'pandas.core.series.Series'>\n",
      "Index: 80 entries, 132 to 329\n",
      "Series name: Chance of Admit\n",
      "Non-Null Count  Dtype  \n",
      "--------------  -----  \n",
      "80 non-null     float64\n",
      "dtypes: float64(1)\n",
      "memory usage: 1.2 KB\n",
      "None\n"
     ]
    }
   ],
   "execution_count": 173
  },
  {
   "metadata": {},
   "id": "2322c820",
   "cell_type": "markdown",
   "source": "### Task:\nFit a linear regression model to your data, and print the intercept and coefficients"
  },
  {
   "metadata": {
    "trusted": false,
    "ExecuteTime": {
     "end_time": "2025-06-06T03:52:05.822514Z",
     "start_time": "2025-06-06T03:52:05.818628Z"
    }
   },
   "id": "d375f517",
   "cell_type": "code",
   "source": [
    "# write your code here\n",
    "\n",
    "from sklearn.linear_model import LinearRegression\n",
    "# Our regression model will be an 8-dimensional hyperplane, for the 8 independent variables, minus the Serial No. data, plus the dependent variable.\n",
    "# Because the data is normalized, the magnitude of the coefficient indicates how significant that coefficient's feature is for the output.\n",
    "model = LinearRegression()\n",
    "model.fit(X_train, y_train)\n",
    "\n",
    "print(f\"Coefficients: {model.coef_}\")\n",
    "print(f\"Intercept: {model.intercept_}\")\n",
    "\n",
    "# prediction function\n",
    "function_string: list[str] = []\n",
    "function_string.append(f\"({df_norm.columns[-1]}) = \")\n",
    "for i in range(len(model.coef_)):\n",
    "    component: str = f\"{model.coef_[i]} * ({df_no_serial.columns[i]}) + \"\n",
    "    function_string.append(component)\n",
    "function_string.append(f\"{model.intercept_}\")\n",
    "\n",
    "print(f\"\\nprediction function:\")\n",
    "print(\"\".join(function_string))\n"
   ],
   "outputs": [
    {
     "name": "stdout",
     "output_type": "stream",
     "text": [
      "Coefficients: [ 0.16438702  0.08689908  0.04172651 -0.030022    0.13450447  0.61722403\n",
      "  0.03832327]\n",
      "Intercept: 0.010097517232810937\n",
      "\n",
      "prediction function:\n",
      "(Chance of Admit) = 0.16438702410576972 * (GRE Score) + 0.08689908128184878 * (TOEFL Score) + 0.0417265099218668 * (University Rating) + -0.030022002846203814 * (SOP) + 0.13450447126690915 * (LOR) + 0.6172240267610553 * (CGPA) + 0.03832327293095922 * (Research) + 0.010097517232810937\n"
     ]
    }
   ],
   "execution_count": 174
  },
  {
   "metadata": {},
   "cell_type": "markdown",
   "source": "",
   "id": "70835af11a68f665"
  },
  {
   "metadata": {},
   "cell_type": "markdown",
   "source": [
    "_NOTE:_ one very surprising result is that the coefficient for Statement of Purpose is very weakly _negatively_ correlated with the chance of admission. This could be a result of several factors:\n",
    "- the independent variables are not independent of _each other_, and so there may be some metavariable resulting from a combination of features, and the SOP contribution ends up being negatively correlated when in combination with the other features.\n",
    "- the data may be made up (I'd have to check the original conference paper)\n",
    "- the data may be noisy, and with more data points this coefficient may be positive\n",
    "- there may actually be a very weak negative correlation, taken alongside all the other factors, between the SOP and chance of admission. I would hope not – I spent weeks on mine!"
   ],
   "id": "934235e602f8e73f"
  },
  {
   "metadata": {},
   "id": "696748e8",
   "cell_type": "markdown",
   "source": "### Task:\nMake predictions on the test data and assess the performance of your model using MAE, MSE, and RMSE"
  },
  {
   "metadata": {
    "trusted": false,
    "ExecuteTime": {
     "end_time": "2025-06-06T03:52:05.885188Z",
     "start_time": "2025-06-06T03:52:05.881386Z"
    }
   },
   "id": "f7e56fb4",
   "cell_type": "code",
   "source": [
    "# write your code here\n",
    "from sklearn import metrics\n",
    "\n",
    "# use the datapoints in X_test and our fitted model to predict y values\n",
    "y_pred = model.predict(X_test)\n",
    "\n",
    "# use scikit-learn to compute MAE, MSE, and RMSE\n",
    "print('Mean Absolute Error:', metrics.mean_absolute_error(y_test, y_pred))\n",
    "print('Mean Squared Error:', metrics.mean_squared_error(y_test, y_pred))\n",
    "print('Root Mean Squared Error:', np.sqrt(metrics.mean_squared_error(y_test, y_pred)))\n"
   ],
   "outputs": [
    {
     "name": "stdout",
     "output_type": "stream",
     "text": [
      "Mean Absolute Error: 0.07950404513996792\n",
      "Mean Squared Error: 0.01210671849278209\n",
      "Root Mean Squared Error: 0.11003053436561185\n"
     ]
    }
   ],
   "execution_count": 175
  },
  {
   "metadata": {},
   "cell_type": "markdown",
   "source": [
    "The MAE, MSE, and RMSE values seem decent.\n",
    "\n",
    "I'm still curious about that negative coefficient for Statement of Purpose. I wonder what the correlation matrix looks like, and how the features are correlated with each other and the output..."
   ],
   "id": "912f8c2ec392efaa"
  },
  {
   "metadata": {
    "ExecuteTime": {
     "end_time": "2025-06-06T03:52:05.918427Z",
     "start_time": "2025-06-06T03:52:05.914622Z"
    }
   },
   "cell_type": "code",
   "source": [
    "# compute the correlation matrix for the admissions data\n",
    "correlation_matrix = df_no_serial_norm.corr()\n",
    "print(correlation_matrix)"
   ],
   "id": "ff475174135257a4",
   "outputs": [
    {
     "name": "stdout",
     "output_type": "stream",
     "text": [
      "                   GRE Score  TOEFL Score  University Rating       SOP  \\\n",
      "GRE Score           1.000000     0.835977           0.668976  0.612831   \n",
      "TOEFL Score         0.835977     1.000000           0.695590  0.657981   \n",
      "University Rating   0.668976     0.695590           1.000000  0.734523   \n",
      "SOP                 0.612831     0.657981           0.734523  1.000000   \n",
      "LOR                 0.557555     0.567721           0.660123  0.729593   \n",
      "CGPA                0.833060     0.828417           0.746479  0.718144   \n",
      "Research            0.580391     0.489858           0.447783  0.444029   \n",
      "Chance of Admit     0.802610     0.791594           0.711250  0.675732   \n",
      "\n",
      "                        LOR      CGPA  Research  Chance of Admit  \n",
      "GRE Score          0.557555  0.833060  0.580391         0.802610  \n",
      "TOEFL Score        0.567721  0.828417  0.489858         0.791594  \n",
      "University Rating  0.660123  0.746479  0.447783         0.711250  \n",
      "SOP                0.729593  0.718144  0.444029         0.675732  \n",
      "LOR                1.000000  0.670211  0.396859         0.669889  \n",
      "CGPA               0.670211  1.000000  0.521654         0.873289  \n",
      "Research           0.396859  0.521654  1.000000         0.553202  \n",
      "Chance of Admit    0.669889  0.873289  0.553202         1.000000  \n"
     ]
    }
   ],
   "execution_count": 176
  },
  {
   "metadata": {},
   "cell_type": "markdown",
   "source": "In agreement with the coefficients of the model, SOP is most strongly correlated with CGPA and GRE score. But clearly there is not a proportional relationship between the correlation coefficients and the coefficients in the linear model.",
   "id": "b4f1ee420027e993"
  },
  {
   "metadata": {
    "pycharm": {
     "name": "#%% md\n"
    }
   },
   "id": "a75f631b",
   "cell_type": "markdown",
   "source": [
    "## References:\n",
    "- https://machinelearningmastery.com/one-hot-encoding-for-categorical-data/\n",
    "- https://towardsdatascience.com/all-about-feature-scaling-bcc0ad75cb35\n",
    "- Acharya, M. S., Armaan, A. & Antony, A. S. (2019) A Comparison of Regression Models for Prediction of Graduate Admissions IEEE International Conference on Computational Intelligence in Data Science 2019. https://www.kaggle.com/datasets/mohansacharya/graduate-admissions?select=Admission_Predict.csv [Accessed 2025-06-05]."
   ]
  }
 ],
 "metadata": {
  "kernelspec": {
   "name": "python3",
   "display_name": "Python 3",
   "language": "python"
  },
  "language_info": {
   "name": "python",
   "version": "3.10.4",
   "mimetype": "text/x-python",
   "codemirror_mode": {
    "name": "ipython",
    "version": 3
   },
   "pygments_lexer": "ipython3",
   "nbconvert_exporter": "python",
   "file_extension": ".py"
  },
  "vscode": {
   "interpreter": {
    "hash": "6df0ddd77085922c773681b1c23afa6ec355a7eb5a25c833f534ec75c0111436"
   }
  }
 },
 "nbformat": 4,
 "nbformat_minor": 5
}
