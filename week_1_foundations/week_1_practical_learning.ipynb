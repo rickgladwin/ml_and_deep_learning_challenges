{
 "cells": [
  {
   "cell_type": "markdown",
   "metadata": {
    "pycharm": {
     "name": "#%% md\n"
    }
   },
   "source": [
    "# Crash course on Python\n",
    "Python is a general purpose programming language and one of the most popular\n",
    "programming languages. It is widely used in the scientific community because\n",
    "of its ease of use and simple syntax. Python also offers a large collection of\n",
    "libraries that help to solve complex problems easily and build strong system\n",
    "and data application.\n",
    "\n",
    "[PEP8](https://realpython.com/python-pep8/) is one of the standards that\n",
    "specifies guidelines and best practices on how to write Python code\n",
    "\n",
    "This week is introductory week where we are learning the foundations of machine learning and developing an understanding of what it means for a machine to learn from data. Therefore, we are not going to train any machine learning models yet. \n",
    "\n",
    "The aim of this activity is to help you refresh your knowledge of Python Variables and Datatypes, Operators (Arithmetic, Logical, Comparison, Assignment, Membership, Conditional Statements, Iteration (for and while loops), Functions, Objects and Classes, and important Python Libraries for ML (Numpy, Matplotlib, Seaborn, Pandas, and Scikit-Learn.\n",
    "\n",
    "You are required to do three things:\n",
    "1. Carefully review the code in each cell and execute it to see the output. \n",
    "2. Read reference material(s) where provided.\n",
    "3. Complete small tasks to help you practice the learned concepts."
   ]
  },
  {
   "cell_type": "markdown",
   "metadata": {},
   "source": [
    "---\n",
    "## Variables and Datatypes\n",
    "Python has different data types, here is the most common ones\n",
    "\n",
    "| Data Types   | Examples            | Explanation          | Mutable? |\n",
    "| ------------ | ------------------- | -------------------- | -------- |\n",
    "| Strings      | \"Hi!\", '1.3'        | Text                 | No       |\n",
    "| Integers     | 49                  | Whole numbers        | No       |\n",
    "| Floats       | 3.14                | Decimal Numbers      | No       |\n",
    "| Booleans     | True, False         | Truth values         | No       |\n",
    "| Lists        | \\[1, 'a', [1.5, 2]\\]| A collection of data | Yes      |\n",
    "| Tuples       | (1, 2, 3, 4, 5)     | A collection of data | Yes      |\n",
    "| Dictionaries | {\"a\": 1, \"b\": True} | A collection of data | Yes      |"
   ]
  },
  {
   "cell_type": "code",
   "metadata": {
    "ExecuteTime": {
     "end_time": "2025-05-30T03:36:53.447180Z",
     "start_time": "2025-05-30T03:36:53.444543Z"
    }
   },
   "source": [
    "# Assigning data to variables\n",
    "# NOTE: variable names should be descriptive\n",
    "var_greeting = \"Hello World\"\n",
    "var_int = 254\n",
    "var_float = 25.43\n",
    "var_names = [\"Anna\", \"Bella\", \"Cora\"]\n",
    "var_grade_dict = {'Course': 'ML', 'Grade': 'A'} # key: value\n",
    "\n",
    "# You can access List elements with their index\n",
    "# and access Dict elements with their key\n",
    "print('Student:', var_names[0], 'got', var_grade_dict['Grade'])\n",
    "\n",
    "# When in doubt you can always check data types\n",
    "print('Variables data types')\n",
    "print('var_greeting', type(var_greeting))\n",
    "print('var_int', type(var_int))\n",
    "print('var_float', type(var_float))\n",
    "print('var_names', type(var_names))\n",
    "print('var_grade_dict', type(var_grade_dict))"
   ],
   "outputs": [
    {
     "name": "stdout",
     "output_type": "stream",
     "text": [
      "Student: Anna got A\n",
      "Variables data types\n",
      "var_greeting <class 'str'>\n",
      "var_int <class 'int'>\n",
      "var_float <class 'float'>\n",
      "var_names <class 'list'>\n",
      "var_grade_dict <class 'dict'>\n"
     ]
    }
   ],
   "execution_count": 1
  },
  {
   "cell_type": "markdown",
   "metadata": {
    "pycharm": {
     "name": "#%% md\n"
    }
   },
   "source": [
    "Using list and tuple"
   ]
  },
  {
   "cell_type": "code",
   "metadata": {
    "ExecuteTime": {
     "end_time": "2025-05-30T03:36:53.554352Z",
     "start_time": "2025-05-30T03:36:53.552324Z"
    }
   },
   "source": [
    "x = [1, 2, 3]  # creating a list\n",
    "y = x  # assigning a reference\n",
    "y[0] += 1\n",
    "# The change is in both x and y because both point to the same object\n",
    "print(x, y)"
   ],
   "outputs": [
    {
     "name": "stdout",
     "output_type": "stream",
     "text": [
      "[2, 2, 3] [2, 2, 3]\n"
     ]
    }
   ],
   "execution_count": 2
  },
  {
   "cell_type": "code",
   "metadata": {
    "ExecuteTime": {
     "end_time": "2025-05-30T03:36:53.642535Z",
     "start_time": "2025-05-30T03:36:53.639734Z"
    }
   },
   "source": [
    "x = (1, 2, 3)  # creating a tuple\n",
    "y = x\n",
    "# y[0] += 1 gives error because it's immutable\n",
    "y += (4, 5)  # a new tuple is generated to\n",
    "print(x, y)"
   ],
   "outputs": [
    {
     "name": "stdout",
     "output_type": "stream",
     "text": [
      "(1, 2, 3) (1, 2, 3, 4, 5)\n"
     ]
    }
   ],
   "execution_count": 3
  },
  {
   "cell_type": "code",
   "metadata": {
    "jupyter": {
     "outputs_hidden": false
    },
    "pycharm": {
     "name": "#%%\n"
    },
    "ExecuteTime": {
     "end_time": "2025-05-30T03:36:53.692989Z",
     "start_time": "2025-05-30T03:36:53.690591Z"
    }
   },
   "source": [
    "x = [1, 2, 3, 4, 5, 6, 7, 8, 9, 10]\n",
    "print('x size:', len(x))\n",
    "print('The second element in x:', x[1])\n",
    "print('The last element in x:', x[-1])\n",
    "print('The first 3 elements in x:', x[:3])  # also x[0: 3] works"
   ],
   "outputs": [
    {
     "name": "stdout",
     "output_type": "stream",
     "text": [
      "x size: 10\n",
      "The second element in x: 2\n",
      "The last element in x: 10\n",
      "The first 3 elements in x: [1, 2, 3]\n"
     ]
    }
   ],
   "execution_count": 4
  },
  {
   "cell_type": "markdown",
   "metadata": {
    "pycharm": {
     "name": "#%% md\n"
    }
   },
   "source": [
    "### Task 1:\n",
    "Print the last 3 elements of the list x"
   ]
  },
  {
   "cell_type": "code",
   "metadata": {
    "jupyter": {
     "outputs_hidden": false
    },
    "pycharm": {
     "name": "#%%\n"
    },
    "ExecuteTime": {
     "end_time": "2025-05-30T03:36:53.729752Z",
     "start_time": "2025-05-30T03:36:53.727518Z"
    }
   },
   "source": [
    "# Solve here\n",
    "print(f\"{x[-3:]}\")"
   ],
   "outputs": [
    {
     "name": "stdout",
     "output_type": "stream",
     "text": [
      "[8, 9, 10]\n"
     ]
    }
   ],
   "execution_count": 5
  },
  {
   "metadata": {
    "SqlCellData": {
     "variableName$1": "df_sql1"
    },
    "ExecuteTime": {
     "end_time": "2025-05-30T03:36:53.754672Z",
     "start_time": "2025-05-30T03:36:53.738873Z"
    }
   },
   "cell_type": "code",
   "execution_count": null,
   "source": "%%sql\n",
   "outputs": []
  },
  {
   "cell_type": "markdown",
   "metadata": {
    "pycharm": {
     "name": "#%% md\n"
    }
   },
   "source": [
    "## Operators\n",
    "[Reference](https://www.geeksforgeeks.org/python-operators/)\n",
    "\n",
    "When dealing with data, knowing python operators and how they work can make\n",
    "your code smaller and more efficient.\n",
    "\n",
    "We will look at the operator that might be new to you.\n",
    "Refer to this [reference](https://www.geeksforgeeks.org/python-operators/)\n",
    "for all the operations.\n",
    "\n",
    "| Operator | Description                                                    | Syntax        |\n",
    "| -------- |----------------------------------------------------------------|---------------|\n",
    "| //       | Division (floor): divides the first operand by the second      | x//y          |\n",
    "| **       | Power: Returns first raised to power second                    | x**y          |\n",
    "| is       | True if the operands are identical (they share a memory space) | x is y        |\n",
    "| is not   | True if the operands are not identical                         | x is not y    |\n",
    "| in       | True if value is found in the sequence                         | x in y        |\n",
    "| not in   | True if value is not found in the sequence                     | x not in y    |\n",
    "| Ternary  | testing a condition in a single line                           | x if a else y |"
   ]
  },
  {
   "cell_type": "code",
   "metadata": {
    "ExecuteTime": {
     "end_time": "2025-05-30T03:36:53.769101Z",
     "start_time": "2025-05-30T03:36:53.766412Z"
    }
   },
   "source": [
    "# //\tDivision (floor): divides and floor the output\n",
    "a = 10\n",
    "b = 3\n",
    "div = a / b\n",
    "div_floor = a // b\n",
    "div_remainder = a % b # aka \"a modulo b\" or \"a mod b\"\n",
    "\n",
    "print(f\"{div=}, {div_floor=}, {div_remainder=}\")"
   ],
   "outputs": [
    {
     "name": "stdout",
     "output_type": "stream",
     "text": [
      "div=3.3333333333333335, div_floor=3, div_remainder=1\n"
     ]
    }
   ],
   "execution_count": 6
  },
  {
   "cell_type": "code",
   "metadata": {
    "ExecuteTime": {
     "end_time": "2025-05-30T03:36:53.789618Z",
     "start_time": "2025-05-30T03:36:53.787421Z"
    }
   },
   "source": [
    "# negative division could be counter-intuitive\n",
    "print (5//2)\n",
    "print (-5//2) # floor(-2.333) gives the integer smaller -> -3\n"
   ],
   "outputs": [
    {
     "name": "stdout",
     "output_type": "stream",
     "text": [
      "2\n",
      "-3\n"
     ]
    }
   ],
   "execution_count": 7
  },
  {
   "cell_type": "code",
   "metadata": {
    "jupyter": {
     "outputs_hidden": false
    },
    "pycharm": {
     "name": "#%%\n"
    },
    "ExecuteTime": {
     "end_time": "2025-05-30T03:36:53.812734Z",
     "start_time": "2025-05-30T03:36:53.810627Z"
    }
   },
   "source": [
    "# Power\n",
    "pwr = a ** b\n",
    "print(pwr)"
   ],
   "outputs": [
    {
     "name": "stdout",
     "output_type": "stream",
     "text": [
      "1000\n"
     ]
    }
   ],
   "execution_count": 8
  },
  {
   "cell_type": "code",
   "metadata": {
    "jupyter": {
     "outputs_hidden": false
    },
    "pycharm": {
     "name": "#%%\n"
    },
    "ExecuteTime": {
     "end_time": "2025-05-30T03:36:53.839411Z",
     "start_time": "2025-05-30T03:36:53.836940Z"
    }
   },
   "source": [
    "# is, is not\n",
    "# NOTE:\n",
    "# `==` is the equality operator\n",
    "# `is` is the identity operator\n",
    "# - Use **`==`** when you want to check if two objects have equal **values**.\n",
    "# - Use **`is`** when you want to check if two objects refer to the same memory location.\n",
    "\n",
    "### Special Notes:\n",
    "# - For **immutable objects** like integers and strings, `is` may sometimes seem to behave like `==` because the Python interpreter often optimizes memory usage by reusing objects for small integers and interned strings.\n",
    "\n",
    "c = a\n",
    "print(a is not b)\n",
    "print(a is c)"
   ],
   "outputs": [
    {
     "name": "stdout",
     "output_type": "stream",
     "text": [
      "True\n",
      "True\n"
     ]
    }
   ],
   "execution_count": 9
  },
  {
   "cell_type": "code",
   "metadata": {
    "jupyter": {
     "outputs_hidden": false
    },
    "pycharm": {
     "name": "#%%\n"
    },
    "ExecuteTime": {
     "end_time": "2025-05-30T03:36:53.867344Z",
     "start_time": "2025-05-30T03:36:53.865186Z"
    }
   },
   "source": [
    "# in, not in\n",
    "x, y = 24, 20\n",
    "l = [10, 20, 30, 40, 50]\n",
    "\n",
    "print(x not in l)\n",
    "print(y in l)\n"
   ],
   "outputs": [
    {
     "name": "stdout",
     "output_type": "stream",
     "text": [
      "True\n",
      "True\n"
     ]
    }
   ],
   "execution_count": 10
  },
  {
   "cell_type": "code",
   "metadata": {
    "jupyter": {
     "outputs_hidden": false
    },
    "pycharm": {
     "name": "#%%\n"
    },
    "ExecuteTime": {
     "end_time": "2025-05-30T03:36:53.900600Z",
     "start_time": "2025-05-30T03:36:53.898075Z"
    }
   },
   "source": [
    "# Ternary operator\n",
    "if a < b:\n",
    "    print(a)\n",
    "else:\n",
    "    print(b)\n",
    "\n",
    "# [on_true] if [expression] else [on_false]\n",
    "minimum = a if a < b else b\n",
    "print(minimum)"
   ],
   "outputs": [
    {
     "name": "stdout",
     "output_type": "stream",
     "text": [
      "3\n",
      "3\n"
     ]
    }
   ],
   "execution_count": 11
  },
  {
   "cell_type": "markdown",
   "metadata": {
    "pycharm": {
     "name": "#%% md\n"
    }
   },
   "source": [
    "## Iteration\n",
    "The 2 main loops in python are `while` and `for` loops\n",
    "\n",
    "[Reference](https://www.geeksforgeeks.org/loops-in-python/)"
   ]
  },
  {
   "cell_type": "code",
   "metadata": {
    "jupyter": {
     "outputs_hidden": false
    },
    "pycharm": {
     "name": "#%%\n"
    },
    "ExecuteTime": {
     "end_time": "2025-05-30T03:36:53.932814Z",
     "start_time": "2025-05-30T03:36:53.930444Z"
    }
   },
   "source": [
    "# While loop\n",
    "count = 0\n",
    "while count < 3:\n",
    "    count = count + 1\n",
    "    print(\"count = \", count)"
   ],
   "outputs": [
    {
     "name": "stdout",
     "output_type": "stream",
     "text": [
      "count =  1\n",
      "count =  2\n",
      "count =  3\n"
     ]
    }
   ],
   "execution_count": 12
  },
  {
   "cell_type": "code",
   "metadata": {
    "jupyter": {
     "outputs_hidden": false
    },
    "pycharm": {
     "name": "#%%\n"
    },
    "ExecuteTime": {
     "end_time": "2025-05-30T03:36:53.953065Z",
     "start_time": "2025-05-30T03:36:53.950190Z"
    }
   },
   "source": [
    "# Combining else with while to execute something after the loop\n",
    "# NOTE: if the while loop ends with a `break` command, the `else` block will NOT execute. That's the reason you would use the else block and not just put a command after the while block.\n",
    "count = 0\n",
    "while count < 3:\n",
    "    count = count + 1\n",
    "    print(\"count = \", count)\n",
    "else:\n",
    "    print(\"In the else. count = \", count)"
   ],
   "outputs": [
    {
     "name": "stdout",
     "output_type": "stream",
     "text": [
      "count =  1\n",
      "count =  2\n",
      "count =  3\n",
      "In the else. count =  3\n"
     ]
    }
   ],
   "execution_count": 13
  },
  {
   "cell_type": "markdown",
   "metadata": {
    "pycharm": {
     "name": "#%% md\n"
    }
   },
   "source": [
    "[`range()`](https://docs.python.org/3/library/functions.html#func-range) is\n",
    "a built-in generator function that is used to generate numbers in a given range.\n",
    "\n",
    "It takes up to 3 parameter `start`, `stop`, `step`.\n",
    "If not given,`start` defaults to `0`, and `step` to `1`.\n",
    "\n",
    "Examples:\n",
    "- `range(0, 10, 1)` -> `[0, 1, 2, ..., 9]`. note that `stop` isn't included.\n",
    "- `range(0, 10, 2)` -> `[0, 2, 4, 6, 8]`. even numbers.\n",
    "- `range(0, 10)` -> Only `start` and `stop`. same as `range(0, 10, 1)`.\n",
    "- `range(10)` -> Only `stop`. same as `range(0, 10, 1)`.\n",
    "- `range(10, 0, -1)` -> `[10, 9, 8, ..., 1]`."
   ]
  },
  {
   "cell_type": "code",
   "metadata": {
    "jupyter": {
     "outputs_hidden": false
    },
    "pycharm": {
     "name": "#%%\n"
    },
    "ExecuteTime": {
     "end_time": "2025-05-30T03:36:53.988659Z",
     "start_time": "2025-05-30T03:36:53.986516Z"
    }
   },
   "source": [
    "# range for loop\n",
    "my_list = [10, 20, 30, 40]\n",
    "print('looping over list elements by index using \"range()\"')\n",
    "for i in range(0, len(my_list)):\n",
    "    print(my_list[i])\n",
    "\n",
    "print('looping over list elements using \"in\"')\n",
    "for element in my_list:\n",
    "    print(element)"
   ],
   "outputs": [
    {
     "name": "stdout",
     "output_type": "stream",
     "text": [
      "looping over list elements by index using \"range()\"\n",
      "10\n",
      "20\n",
      "30\n",
      "40\n",
      "looping over list elements using \"in\"\n",
      "10\n",
      "20\n",
      "30\n",
      "40\n"
     ]
    }
   ],
   "execution_count": 14
  },
  {
   "cell_type": "code",
   "metadata": {
    "jupyter": {
     "outputs_hidden": false
    },
    "pycharm": {
     "name": "#%%\n"
    },
    "ExecuteTime": {
     "end_time": "2025-05-30T03:36:54.021478Z",
     "start_time": "2025-05-30T03:36:54.019314Z"
    }
   },
   "source": [
    "my_list = [10, 20, 30, 40, 50, 60, 70, 80]\n",
    "print('looping over list elements by index using \"range()\"')\n",
    "for i in range(0, len(my_list)):\n",
    "    if i == 5:  # break the loop after 5 iterations\n",
    "        break\n",
    "    elif i%2 == 1:  # skipping odd indices\n",
    "        continue\n",
    "    print(my_list[i])"
   ],
   "outputs": [
    {
     "name": "stdout",
     "output_type": "stream",
     "text": [
      "looping over list elements by index using \"range()\"\n",
      "10\n",
      "30\n",
      "50\n"
     ]
    }
   ],
   "execution_count": 15
  },
  {
   "cell_type": "markdown",
   "metadata": {},
   "source": [
    "### Task 2:\n",
    "Make a list that have all the integers from 0 to 99 that are divisible by 4 but\n",
    "not divisible by 6.\n",
    "\n",
    "Hint: `my_list.append(a)` adds `a` to the end of the `my_list`."
   ]
  },
  {
   "cell_type": "code",
   "metadata": {
    "jupyter": {
     "outputs_hidden": false
    },
    "pycharm": {
     "name": "#%%\n"
    },
    "ExecuteTime": {
     "end_time": "2025-05-30T03:36:54.038032Z",
     "start_time": "2025-05-30T03:36:54.035991Z"
    }
   },
   "source": [
    "# Solve here\n",
    "my_list_2 = [x for x in range(100) if x % 4 == 0 and x % 6 != 0]\n",
    "# NOTE: list comprehensions are generally faster than appending in a loop.\n",
    "# If you're just initializing a list, prefer list comprehensions.\n",
    "print(f\"{my_list_2=}\")\n",
    "\n",
    "# check the solution:\n",
    "for number in my_list_2:\n",
    "    assert number % 4 == 0\n",
    "    assert number % 6 != 0\n",
    "    print(f\"{number} is ok\")"
   ],
   "outputs": [
    {
     "name": "stdout",
     "output_type": "stream",
     "text": [
      "my_list_2=[4, 8, 16, 20, 28, 32, 40, 44, 52, 56, 64, 68, 76, 80, 88, 92]\n",
      "4 is ok\n",
      "8 is ok\n",
      "16 is ok\n",
      "20 is ok\n",
      "28 is ok\n",
      "32 is ok\n",
      "40 is ok\n",
      "44 is ok\n",
      "52 is ok\n",
      "56 is ok\n",
      "64 is ok\n",
      "68 is ok\n",
      "76 is ok\n",
      "80 is ok\n",
      "88 is ok\n",
      "92 is ok\n"
     ]
    }
   ],
   "execution_count": 16
  },
  {
   "cell_type": "markdown",
   "metadata": {
    "pycharm": {
     "name": "#%% md\n"
    }
   },
   "source": [
    "## Functions\n",
    "Functions is very useful to use a block of code multiple times."
   ]
  },
  {
   "cell_type": "code",
   "metadata": {
    "jupyter": {
     "outputs_hidden": false
    },
    "pycharm": {
     "name": "#%%\n"
    },
    "ExecuteTime": {
     "end_time": "2025-05-30T03:36:54.075158Z",
     "start_time": "2025-05-30T03:36:54.073008Z"
    }
   },
   "source": [
    "def my_function_name():\n",
    "    print('Hi from a function')\n",
    "\n",
    "my_function_name()\n",
    "my_function_name()"
   ],
   "outputs": [
    {
     "name": "stdout",
     "output_type": "stream",
     "text": [
      "Hi from a function\n",
      "Hi from a function\n"
     ]
    }
   ],
   "execution_count": 17
  },
  {
   "cell_type": "code",
   "metadata": {
    "jupyter": {
     "outputs_hidden": false
    },
    "pycharm": {
     "name": "#%%\n"
    },
    "ExecuteTime": {
     "end_time": "2025-05-30T03:36:54.107953Z",
     "start_time": "2025-05-30T03:36:54.105330Z"
    }
   },
   "source": [
    "def double(x):\n",
    "    return x * 2\n",
    "\n",
    "print(double(3))"
   ],
   "outputs": [
    {
     "name": "stdout",
     "output_type": "stream",
     "text": [
      "6\n"
     ]
    }
   ],
   "execution_count": 18
  },
  {
   "cell_type": "markdown",
   "metadata": {
    "pycharm": {
     "name": "#%% md\n"
    }
   },
   "source": [
    "## Classes\n",
    "Python is an Object Oriented Programming (OOP) langauge. Here are how classes are used\n",
    "\n",
    "[geeksforgeeks.org/python-classes-and-objects](https://www.geeksforgeeks.org/python-classes-and-objects/)"
   ]
  },
  {
   "cell_type": "code",
   "metadata": {
    "jupyter": {
     "outputs_hidden": false
    },
    "pycharm": {
     "name": "#%%\n"
    },
    "ExecuteTime": {
     "end_time": "2025-05-30T03:36:54.135013Z",
     "start_time": "2025-05-30T03:36:54.131416Z"
    }
   },
   "source": [
    "class Dog:\n",
    "\n",
    "    # A simple class\n",
    "    # attribute\n",
    "    attr1 = \"mammal\"\n",
    "    attr2 = \"dog\"\n",
    "\n",
    "    # A sample method\n",
    "    def self_identify(self):\n",
    "        print(\"I'm a\", self.attr1)\n",
    "        print(\"I'm a\", self.attr2)\n",
    "\n",
    "# Object instantiation\n",
    "Rodger = Dog()\n",
    "\n",
    "# Accessing class attributes\n",
    "# and method through objects\n",
    "print(Rodger.attr1)\n",
    "Rodger.self_identify()"
   ],
   "outputs": [
    {
     "name": "stdout",
     "output_type": "stream",
     "text": [
      "mammal\n",
      "I'm a mammal\n",
      "I'm a dog\n"
     ]
    }
   ],
   "execution_count": 19
  },
  {
   "cell_type": "markdown",
   "metadata": {
    "pycharm": {
     "name": "#%% md\n"
    }
   },
   "source": [
    "---\n",
    "## Install external modules\n",
    "Python community offers a huge variety of modules to eliminate the need for\n",
    "writing codes from scratch.\n",
    "[pip](https://pypi.org/project/pip/) is a package installer for Python. You\n",
    "can use pip to install packages from the Python Package Index and other indexes.\n",
    "\n",
    "To install a package you can run this command in your terminal:\n",
    "- Unix/macOS: `python3 -m pip install <package name>` or `pip3 install <package name>`\n",
    "- Windows: `py -m pip install <package name>` or `pip install <package name>`\n",
    "\n",
    "[Further reading](https://pip.pypa.io/en/stable/cli/pip_install/)\n",
    "on pip usage and how to write and install requirements files.\n",
    "\n",
    "You can also run terminal command from your jupyter notebook using\n",
    "[magic commands](https://ipython.readthedocs.io/en/stable/interactive/magics.html)\n",
    "\n",
    "To do so, you put `!` before your command so that jupyter understand executing\n",
    "it in the terminal."
   ]
  },
  {
   "cell_type": "code",
   "metadata": {
    "jupyter": {
     "outputs_hidden": false
    },
    "pycharm": {
     "name": "#%%\n"
    },
    "ExecuteTime": {
     "end_time": "2025-05-30T03:47:53.951035Z",
     "start_time": "2025-05-30T03:47:53.938801Z"
    }
   },
   "source": [
    "# avoid install warning\n",
    "import importlib.util\n",
    "if importlib.util.find_spec(\"numpy\") is None:\n",
    "    # https://ipython.readthedocs.io/en/stable/interactive/magics.html#magic-sx\n",
    "    !pip install numpy"
   ],
   "outputs": [],
   "execution_count": 23
  },
  {
   "cell_type": "markdown",
   "metadata": {
    "jupyter": {
     "outputs_hidden": false
    },
    "pycharm": {
     "name": "#%% md\n"
    }
   },
   "source": [
    "---\n",
    "## Numpy\n",
    "While python is a powerful, it is very slow compared to C/C++ since it's and\n",
    "interpreted language with dynamic typing. Numpy is python library that is\n",
    "implemented in C/C++. giving us the ease of development of python with the\n",
    "performance of C. depending on the operation numpy could be up to 100x faster.\n",
    "Moreover, it has various functions to perform linear algebra and array operations.\n",
    "\n",
    "[numpy.org absolute beginners](https://numpy.org/doc/stable/user/absolute_beginners.html)"
   ]
  },
  {
   "cell_type": "code",
   "metadata": {
    "pycharm": {
     "name": "#%%\n"
    },
    "ExecuteTime": {
     "end_time": "2025-05-30T03:49:02.376561Z",
     "start_time": "2025-05-30T03:49:02.200455Z"
    }
   },
   "source": [
    "import numpy as np"
   ],
   "outputs": [],
   "execution_count": 24
  },
  {
   "cell_type": "code",
   "metadata": {
    "jupyter": {
     "outputs_hidden": false
    },
    "pycharm": {
     "name": "#%%\n"
    },
    "ExecuteTime": {
     "end_time": "2025-05-30T03:49:45.674543Z",
     "start_time": "2025-05-30T03:49:45.652039Z"
    }
   },
   "source": [
    "my_np_list = np.random.randint(low=-100, high=100, size=20)\n",
    "print(my_np_list)"
   ],
   "outputs": [
    {
     "name": "stdout",
     "output_type": "stream",
     "text": [
      "[ 70  37  74 -11 -33  -6 -98  -6 -63 -87 -57  48  80  88 -65 -97 -89  71\n",
      "  38  42]\n"
     ]
    }
   ],
   "execution_count": 26
  },
  {
   "cell_type": "markdown",
   "metadata": {},
   "source": [
    "Here is some of the most common used function"
   ]
  },
  {
   "cell_type": "code",
   "metadata": {
    "jupyter": {
     "outputs_hidden": false
    },
    "pycharm": {
     "name": "#%%\n"
    },
    "ExecuteTime": {
     "end_time": "2025-05-30T03:49:51.791707Z",
     "start_time": "2025-05-30T03:49:51.785855Z"
    }
   },
   "source": [
    "print('shape:', my_np_list.shape)\n",
    "print('sum:', my_np_list.sum())\n",
    "print('min:', my_np_list.min())\n",
    "print('max:', my_np_list.max())\n",
    "print('abs:', np.abs(my_np_list))\n",
    "my_np_list.sort()\n",
    "print('after .sort():', my_np_list)\n",
    "print('doubling the array', my_np_list * 2) # broadcasting"
   ],
   "outputs": [
    {
     "name": "stdout",
     "output_type": "stream",
     "text": [
      "shape: (20,)\n",
      "sum: -64\n",
      "min: -98\n",
      "max: 88\n",
      "abs: [70 37 74 11 33  6 98  6 63 87 57 48 80 88 65 97 89 71 38 42]\n",
      "after .sort(): [-98 -97 -89 -87 -65 -63 -57 -33 -11  -6  -6  37  38  42  48  70  71  74\n",
      "  80  88]\n",
      "doubling the array [-196 -194 -178 -174 -130 -126 -114  -66  -22  -12  -12   74   76   84\n",
      "   96  140  142  148  160  176]\n"
     ]
    }
   ],
   "execution_count": 27
  },
  {
   "cell_type": "markdown",
   "metadata": {
    "jupyter": {
     "outputs_hidden": false
    },
    "pycharm": {
     "name": "#%% md\n"
    }
   },
   "source": [
    "### Task 3:\n",
    "Print the mean, variance and standard deviation of `my_np_list`"
   ]
  },
  {
   "cell_type": "code",
   "metadata": {
    "jupyter": {
     "outputs_hidden": false
    },
    "pycharm": {
     "name": "#%%\n"
    },
    "ExecuteTime": {
     "end_time": "2025-05-30T03:53:48.256883Z",
     "start_time": "2025-05-30T03:53:48.242479Z"
    }
   },
   "source": [
    "# Solve here\n",
    "print(f\"{my_np_list=}\")\n",
    "print(f\"{my_np_list.mean()=}\")\n",
    "print(f\"{my_np_list.var()=}\")\n",
    "print(f\"{my_np_list.std()=}\")"
   ],
   "outputs": [
    {
     "name": "stdout",
     "output_type": "stream",
     "text": [
      "my_np_list=array([-98, -97, -89, -87, -65, -63, -57, -33, -11,  -6,  -6,  37,  38,\n",
      "        42,  48,  70,  71,  74,  80,  88])\n",
      "my_np_list.mean()=np.float64(-3.2)\n",
      "my_np_list.var()=np.float64(4173.26)\n",
      "my_np_list.std()=np.float64(64.60077398917137)\n"
     ]
    }
   ],
   "execution_count": 29
  },
  {
   "cell_type": "code",
   "metadata": {
    "pycharm": {
     "name": "#%%\n"
    },
    "ExecuteTime": {
     "end_time": "2025-05-30T03:59:02.607136Z",
     "start_time": "2025-05-30T03:59:02.599229Z"
    }
   },
   "source": [
    "# 2D arrays\n",
    "x = np.array(\n",
    "    [\n",
    "        [1, 2, 3, 4],\n",
    "        [5, 6, 7, 8],\n",
    "        [9, 10, 11, 12],\n",
    "    ],\n",
    "    np.int32,\n",
    ")\n",
    "print(x)\n",
    "print(f'{x.shape = }')\n",
    "print('accessing element:', x[1, 2])\n",
    "print('slice of an array:', x[0:2, 0:3])\n",
    "print('row:', x[0, :])\n",
    "print('column:', x[:, 3])"
   ],
   "outputs": [
    {
     "name": "stdout",
     "output_type": "stream",
     "text": [
      "[[ 1  2  3  4]\n",
      " [ 5  6  7  8]\n",
      " [ 9 10 11 12]]\n",
      "x.shape = (3, 4)\n",
      "accessing element: 7\n",
      "slice of an array: [[1 2 3]\n",
      " [5 6 7]]\n",
      "row: [1 2 3 4]\n",
      "column: [ 4  8 12]\n"
     ]
    }
   ],
   "execution_count": 33
  },
  {
   "cell_type": "code",
   "metadata": {
    "jupyter": {
     "outputs_hidden": false
    },
    "pycharm": {
     "name": "#%%\n"
    },
    "ExecuteTime": {
     "end_time": "2025-05-30T03:59:19.391606Z",
     "start_time": "2025-05-30T03:59:19.316956Z"
    }
   },
   "source": [
    "# speed\n",
    "from time import time\n",
    "\n",
    "start_time = time()\n",
    "my_list = [1] * 10000000\n",
    "sum(my_list)\n",
    "list_time = time() - start_time\n",
    "\n",
    "start_time = time()\n",
    "my_np_list = np.ones(10000000)\n",
    "my_np_list.sum()\n",
    "np_time = time() - start_time\n",
    "\n",
    "print('numpy is', list_time/np_time, ' times faster than list')"
   ],
   "outputs": [
    {
     "name": "stdout",
     "output_type": "stream",
     "text": [
      "numpy is 1.675840215804741  times faster than list\n"
     ]
    }
   ],
   "execution_count": 34
  },
  {
   "cell_type": "markdown",
   "metadata": {
    "jupyter": {
     "outputs_hidden": false
    },
    "pycharm": {
     "name": "#%% md\n"
    }
   },
   "source": [
    "### Task 4\n",
    "Install the following packages: `matplotlib`, `pandas`, `seaborn` and `sklearn`"
   ]
  },
  {
   "cell_type": "code",
   "execution_count": null,
   "metadata": {
    "jupyter": {
     "outputs_hidden": false
    },
    "pycharm": {
     "name": "#%%\n"
    }
   },
   "outputs": [],
   "source": [
    "# Solve here\n",
    "# NOTE: using uv as a package manager. uv add ... has already been used.\n",
    "# NOTE: sklearn is deprecated. Used scikit-learn\n"
   ]
  },
  {
   "cell_type": "markdown",
   "metadata": {},
   "source": [
    "---\n",
    "## Matplotlib\n",
    "Matplotlib is a comprehensive library for creating static, animated, and\n",
    "interactive visualizations in Python.\n",
    "\n",
    "[Reference](https://matplotlib.org/stable/tutorials/introductory/pyplot.html#sphx-glr-tutorials-introductory-pyplot-py)"
   ]
  },
  {
   "cell_type": "code",
   "execution_count": null,
   "metadata": {
    "jupyter": {
     "outputs_hidden": false
    },
    "pycharm": {
     "name": "#%%\n"
    }
   },
   "outputs": [],
   "source": [
    "import matplotlib.pyplot as plt\n",
    "%matplotlib inline # to plot in side the notebook"
   ]
  },
  {
   "cell_type": "code",
   "execution_count": null,
   "metadata": {
    "jupyter": {
     "outputs_hidden": false
    },
    "pycharm": {
     "name": "#%%\n"
    }
   },
   "outputs": [],
   "source": [
    "# Line plot\n",
    "t = np.arange(0.0, 2.0, 0.01)\n",
    "s = 1 + np.sin(2 * np.pi * t)\n",
    "\n",
    "fig, ax = plt.subplots()\n",
    "ax.plot(t, s)\n",
    "\n",
    "ax.set(xlabel='Hours studied (s)', ylabel='voltage (mV)',\n",
    "       title='Change in volt over time')\n",
    "ax.grid()\n",
    "plt.show() # Show the plot"
   ]
  },
  {
   "cell_type": "code",
   "execution_count": null,
   "metadata": {
    "jupyter": {
     "outputs_hidden": false
    },
    "pycharm": {
     "name": "#%%\n"
    }
   },
   "outputs": [],
   "source": [
    "# different plots for categorical data\n",
    "names = ['group_a', 'group_b', 'group_c']\n",
    "values = [1, 10, 100]\n",
    "\n",
    "plt.figure(figsize=(9, 5))\n",
    "\n",
    "plt.subplot(131)  # To creat 1 by 3 grid and plot in the 1st subplot\n",
    "plt.bar(names, values)\n",
    "plt.subplot(132)  # plot in the 2nd subplot\n",
    "plt.scatter(names, values)\n",
    "plt.subplot(133)  # plot in the 3nd subplot\n",
    "plt.plot(names, values)\n",
    "plt.suptitle('Categorical Plotting')\n",
    "plt.show()"
   ]
  },
  {
   "cell_type": "markdown",
   "metadata": {
    "jupyter": {
     "outputs_hidden": false
    },
    "pycharm": {
     "name": "#%% md\n"
    }
   },
   "source": [
    "---\n",
    "## Pandas\n",
    "[Pandas](https://pandas.pydata.org/docs/) is a fast, powerful, flexible and\n",
    "easy to use open source data analysis and manipulation tool.\n"
   ]
  },
  {
   "cell_type": "code",
   "execution_count": null,
   "metadata": {
    "jupyter": {
     "outputs_hidden": false
    },
    "pycharm": {
     "name": "#%%\n"
    }
   },
   "outputs": [],
   "source": [
    "import pandas as pd\n"
   ]
  },
  {
   "cell_type": "code",
   "execution_count": null,
   "metadata": {
    "jupyter": {
     "outputs_hidden": false
    },
    "pycharm": {
     "name": "#%%\n"
    }
   },
   "outputs": [],
   "source": [
    "df = pd.read_csv('petrol_consumption.csv')\n",
    "df.info()"
   ]
  },
  {
   "cell_type": "code",
   "execution_count": null,
   "metadata": {
    "jupyter": {
     "outputs_hidden": false
    },
    "pycharm": {
     "name": "#%%\n"
    }
   },
   "outputs": [],
   "source": [
    "df.head(5)"
   ]
  },
  {
   "cell_type": "code",
   "execution_count": null,
   "metadata": {
    "jupyter": {
     "outputs_hidden": false
    },
    "pycharm": {
     "name": "#%%\n"
    }
   },
   "outputs": [],
   "source": [
    "df.describe()\n"
   ]
  },
  {
   "cell_type": "code",
   "execution_count": null,
   "metadata": {
    "jupyter": {
     "outputs_hidden": false
    },
    "pycharm": {
     "name": "#%%\n"
    }
   },
   "outputs": [],
   "source": [
    "# access a columns\n",
    "print(df['Petrol_tax'].head())\n",
    "print(df[['Average_income', 'Paved_Highways']].head())"
   ]
  },
  {
   "cell_type": "code",
   "execution_count": null,
   "metadata": {
    "pycharm": {
     "name": "#%%\n"
    }
   },
   "outputs": [],
   "source": [
    "# access a rows\n",
    "df.iloc[[1, 2, 4]]"
   ]
  },
  {
   "cell_type": "code",
   "execution_count": null,
   "metadata": {
    "jupyter": {
     "outputs_hidden": false
    },
    "pycharm": {
     "name": "#%%\n"
    }
   },
   "outputs": [],
   "source": [
    "# dropping a column\n",
    "new_df = df.drop(['Average_income', 'Paved_Highways'], axis=1)\n",
    "new_df.head()"
   ]
  },
  {
   "cell_type": "code",
   "execution_count": null,
   "metadata": {
    "pycharm": {
     "name": "#%%\n"
    }
   },
   "outputs": [],
   "source": [
    "# Drop a row by index\n",
    "new_df = df.drop([0, 1])\n",
    "new_df.head()"
   ]
  },
  {
   "cell_type": "code",
   "execution_count": null,
   "metadata": {
    "jupyter": {
     "outputs_hidden": false
    },
    "pycharm": {
     "name": "#%%\n"
    }
   },
   "outputs": [],
   "source": [
    "# pandas support many operations similar to numpy\n",
    "print('Sum of columns\\n', df.sum(), '\\n')\n",
    "print('Sum of all the data frame\\n', df.sum().sum(), '\\n')\n",
    "print('Mean of columns\\n', df.mean(), '\\n')\n",
    "print('Converting dataframe to numpy array\\n', type(df.to_numpy()))"
   ]
  },
  {
   "cell_type": "markdown",
   "metadata": {
    "pycharm": {
     "name": "#%% md\n"
    }
   },
   "source": [
    "---\n",
    "## Seaborn\n",
    "Seaborn is a Python data visualization library based on matplotlib. It provides\n",
    "a high-level interface for drawing attractive and informative statistical graphics.\n",
    "Usually used with pandas.\n",
    "\n",
    "[Reference](https://seaborn.pydata.org/examples/index.html)\n",
    "[Examples](https://www.geeksforgeeks.org/python-seaborn-tutorial/)"
   ]
  },
  {
   "cell_type": "code",
   "execution_count": null,
   "metadata": {
    "jupyter": {
     "outputs_hidden": false
    },
    "pycharm": {
     "name": "#%%\n"
    }
   },
   "outputs": [],
   "source": [
    "import seaborn as sns\n",
    "\n",
    "df = sns.load_dataset('tips')\n",
    "\n",
    "graph = sns.FacetGrid(df, col =\"sex\",  hue =\"day\")\n",
    "graph.map(plt.scatter, \"total_bill\", \"tip\", edgecolor =\"w\").add_legend()\n",
    "\n",
    "plt.show()"
   ]
  },
  {
   "cell_type": "markdown",
   "metadata": {
    "pycharm": {
     "name": "#%% md\n"
    }
   },
   "source": [
    "---\n",
    "## SKLearn\n",
    "\n",
    "[SKLearn](https://scikit-learn.org/stable/modules/classes.html) is a simple\n",
    "and efficient tools for predictive data analysis.\n",
    "We will use it for classification, regression and clustering algorithms.\n",
    "\n",
    "Usually datasets have two parts, data(or features) and targets(or labels).\n",
    "We train our machine learning model to predict the target of a sample given\n",
    "its features."
   ]
  },
  {
   "cell_type": "code",
   "execution_count": null,
   "metadata": {
    "pycharm": {
     "name": "#%%\n"
    }
   },
   "outputs": [],
   "source": [
    "# sklearn has some datasets inside it to learn and test on them\n",
    "from sklearn import datasets\n",
    "iris = datasets.load_iris()\n",
    "print(f'Dataset shape: {iris.data.shape = }, {iris.target.shape = }')\n",
    "print(f'Example of a sample: features: {iris.data[0]}, classification: {iris.target[0]}')"
   ]
  },
  {
   "cell_type": "markdown",
   "metadata": {},
   "source": [
    "SKLearn gives a simple API to build models. Mainly it consists of two steps:\n",
    "- Model creation: where we choose the model and set its parameters\n",
    "- Fitting the data: Where we give our model the training data to learn from\n",
    "- Prediction: where we can predict the label of a sample\n",
    "\n",
    "`svm` is a prediction model(we will study how it works later in the course).\n",
    "\n",
    "Here is an example on how to use an SKLearn model:"
   ]
  },
  {
   "cell_type": "code",
   "execution_count": null,
   "metadata": {
    "pycharm": {
     "name": "#%%\n"
    }
   },
   "outputs": [],
   "source": [
    "from sklearn import svm\n",
    "# setting the parameters needed by the algorithm\n",
    "clf = svm.SVC(gamma=0.001, C=100.)\n",
    "# Training on all the data except the last one\n",
    "clf.fit(iris.data[:-1], iris.target[:-1])\n",
    "# predicting the last sample\n",
    "print('Our prediction', clf.predict(iris.data[-1:]), 'True value:', iris.target[-1:])"
   ]
  },
  {
   "metadata": {},
   "cell_type": "code",
   "outputs": [],
   "execution_count": null,
   "source": ""
  }
 ],
 "metadata": {
  "kernelspec": {
   "display_name": "Python 3",
   "language": "python",
   "name": "python3"
  },
  "language_info": {
   "codemirror_mode": {
    "name": "ipython",
    "version": 3
   },
   "file_extension": ".py",
   "mimetype": "text/x-python",
   "name": "python",
   "nbconvert_exporter": "python",
   "pygments_lexer": "ipython3",
   "version": "3.8.8"
  }
 },
 "nbformat": 4,
 "nbformat_minor": 4
}
