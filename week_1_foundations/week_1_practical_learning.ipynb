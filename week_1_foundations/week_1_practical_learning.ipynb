{
 "cells": [
  {
   "cell_type": "markdown",
   "metadata": {
    "pycharm": {
     "name": "#%% md\n"
    }
   },
   "source": [
    "# Crash course on Python\n",
    "Python is a general purpose programming language and one of the most popular\n",
    "programming languages. It is widely used in the scientific community because\n",
    "of its ease of use and simple syntax. Python also offers a large collection of\n",
    "libraries that help to solve complex problems easily and build strong system\n",
    "and data application.\n",
    "\n",
    "[PEP8](https://realpython.com/python-pep8/) is one of the standards that\n",
    "specifies guidelines and best practices on how to write Python code\n",
    "\n",
    "This week is introductory week where we are learning the foundations of machine learning and developing an understanding of what it means for a machine to learn from data. Therefore, we are not going to train any machine learning models yet. \n",
    "\n",
    "The aim of this activity is to help you refresh your knowledge of Python Variables and Datatypes, Operators (Arithmetic, Logical, Comparison, Assignment, Membership, Conditional Statements, Iteration (for and while loops), Functions, Objects and Classes, and important Python Libraries for ML (Numpy, Matplotlib, Seaborn, Pandas, and Scikit-Learn.\n",
    "\n",
    "You are required to do three things:\n",
    "1. Carefully review the code in each cell and execute it to see the output. \n",
    "2. Read reference material(s) where provided.\n",
    "3. Complete small tasks to help you practice the learned concepts."
   ]
  },
  {
   "cell_type": "markdown",
   "metadata": {},
   "source": [
    "---\n",
    "## Variables and Datatypes\n",
    "Python has different data types, here is the most common ones\n",
    "\n",
    "| Data Types   | Examples            | Explanation          | Mutable? |\n",
    "| ------------ | ------------------- | -------------------- | -------- |\n",
    "| Strings      | \"Hi!\", '1.3'        | Text                 | No       |\n",
    "| Integers     | 49                  | Whole numbers        | No       |\n",
    "| Floats       | 3.14                | Decimal Numbers      | No       |\n",
    "| Booleans     | True, False         | Truth values         | No       |\n",
    "| Lists        | \\[1, 'a', [1.5, 2]\\]| A collection of data | Yes      |\n",
    "| Tuples       | (1, 2, 3, 4, 5)     | A collection of data | Yes      |\n",
    "| Dictionaries | {\"a\": 1, \"b\": True} | A collection of data | Yes      |"
   ]
  },
  {
   "cell_type": "code",
   "metadata": {
    "ExecuteTime": {
     "end_time": "2025-05-30T03:36:53.447180Z",
     "start_time": "2025-05-30T03:36:53.444543Z"
    }
   },
   "source": [
    "import matplotlib.pyplot\n",
    "\n",
    "# Assigning data to variables\n",
    "# NOTE: variable names should be descriptive\n",
    "var_greeting = \"Hello World\"\n",
    "var_int = 254\n",
    "var_float = 25.43\n",
    "var_names = [\"Anna\", \"Bella\", \"Cora\"]\n",
    "var_grade_dict = {'Course': 'ML', 'Grade': 'A'} # key: value\n",
    "\n",
    "# You can access List elements with their index\n",
    "# and access Dict elements with their key\n",
    "print('Student:', var_names[0], 'got', var_grade_dict['Grade'])\n",
    "\n",
    "# When in doubt you can always check data types\n",
    "print('Variables data types')\n",
    "print('var_greeting', type(var_greeting))\n",
    "print('var_int', type(var_int))\n",
    "print('var_float', type(var_float))\n",
    "print('var_names', type(var_names))\n",
    "print('var_grade_dict', type(var_grade_dict))"
   ],
   "outputs": [
    {
     "name": "stdout",
     "output_type": "stream",
     "text": [
      "Student: Anna got A\n",
      "Variables data types\n",
      "var_greeting <class 'str'>\n",
      "var_int <class 'int'>\n",
      "var_float <class 'float'>\n",
      "var_names <class 'list'>\n",
      "var_grade_dict <class 'dict'>\n"
     ]
    }
   ],
   "execution_count": 1
  },
  {
   "cell_type": "markdown",
   "metadata": {
    "pycharm": {
     "name": "#%% md\n"
    }
   },
   "source": [
    "Using list and tuple"
   ]
  },
  {
   "cell_type": "code",
   "metadata": {
    "ExecuteTime": {
     "end_time": "2025-05-30T03:36:53.554352Z",
     "start_time": "2025-05-30T03:36:53.552324Z"
    }
   },
   "source": [
    "x = [1, 2, 3]  # creating a list\n",
    "y = x  # assigning a reference\n",
    "y[0] += 1\n",
    "# The change is in both x and y because both point to the same object\n",
    "print(x, y)"
   ],
   "outputs": [
    {
     "name": "stdout",
     "output_type": "stream",
     "text": [
      "[2, 2, 3] [2, 2, 3]\n"
     ]
    }
   ],
   "execution_count": 2
  },
  {
   "cell_type": "code",
   "metadata": {
    "ExecuteTime": {
     "end_time": "2025-05-30T03:36:53.642535Z",
     "start_time": "2025-05-30T03:36:53.639734Z"
    }
   },
   "source": [
    "x = (1, 2, 3)  # creating a tuple\n",
    "y = x\n",
    "# y[0] += 1 gives error because it's immutable\n",
    "y += (4, 5)  # a new tuple is generated to\n",
    "print(x, y)"
   ],
   "outputs": [
    {
     "name": "stdout",
     "output_type": "stream",
     "text": [
      "(1, 2, 3) (1, 2, 3, 4, 5)\n"
     ]
    }
   ],
   "execution_count": 3
  },
  {
   "cell_type": "code",
   "metadata": {
    "jupyter": {
     "outputs_hidden": false
    },
    "pycharm": {
     "name": "#%%\n"
    },
    "ExecuteTime": {
     "end_time": "2025-05-30T03:36:53.692989Z",
     "start_time": "2025-05-30T03:36:53.690591Z"
    }
   },
   "source": [
    "x = [1, 2, 3, 4, 5, 6, 7, 8, 9, 10]\n",
    "print('x size:', len(x))\n",
    "print('The second element in x:', x[1])\n",
    "print('The last element in x:', x[-1])\n",
    "print('The first 3 elements in x:', x[:3])  # also x[0: 3] works"
   ],
   "outputs": [
    {
     "name": "stdout",
     "output_type": "stream",
     "text": [
      "x size: 10\n",
      "The second element in x: 2\n",
      "The last element in x: 10\n",
      "The first 3 elements in x: [1, 2, 3]\n"
     ]
    }
   ],
   "execution_count": 4
  },
  {
   "cell_type": "markdown",
   "metadata": {
    "pycharm": {
     "name": "#%% md\n"
    }
   },
   "source": [
    "### Task 1:\n",
    "Print the last 3 elements of the list x"
   ]
  },
  {
   "cell_type": "code",
   "metadata": {
    "jupyter": {
     "outputs_hidden": false
    },
    "pycharm": {
     "name": "#%%\n"
    },
    "ExecuteTime": {
     "end_time": "2025-05-30T03:36:53.729752Z",
     "start_time": "2025-05-30T03:36:53.727518Z"
    }
   },
   "source": [
    "# Solve here\n",
    "print(f\"{x[-3:]}\")"
   ],
   "outputs": [
    {
     "name": "stdout",
     "output_type": "stream",
     "text": [
      "[8, 9, 10]\n"
     ]
    }
   ],
   "execution_count": 5
  },
  {
   "metadata": {
    "SqlCellData": {
     "variableName$1": "df_sql1"
    },
    "ExecuteTime": {
     "end_time": "2025-05-30T03:36:53.754672Z",
     "start_time": "2025-05-30T03:36:53.738873Z"
    }
   },
   "cell_type": "code",
   "execution_count": null,
   "source": "%%sql\n",
   "outputs": []
  },
  {
   "cell_type": "markdown",
   "metadata": {
    "pycharm": {
     "name": "#%% md\n"
    }
   },
   "source": [
    "## Operators\n",
    "[Reference](https://www.geeksforgeeks.org/python-operators/)\n",
    "\n",
    "When dealing with data, knowing python operators and how they work can make\n",
    "your code smaller and more efficient.\n",
    "\n",
    "We will look at the operator that might be new to you.\n",
    "Refer to this [reference](https://www.geeksforgeeks.org/python-operators/)\n",
    "for all the operations.\n",
    "\n",
    "| Operator | Description                                                    | Syntax        |\n",
    "| -------- |----------------------------------------------------------------|---------------|\n",
    "| //       | Division (floor): divides the first operand by the second      | x//y          |\n",
    "| **       | Power: Returns first raised to power second                    | x**y          |\n",
    "| is       | True if the operands are identical (they share a memory space) | x is y        |\n",
    "| is not   | True if the operands are not identical                         | x is not y    |\n",
    "| in       | True if value is found in the sequence                         | x in y        |\n",
    "| not in   | True if value is not found in the sequence                     | x not in y    |\n",
    "| Ternary  | testing a condition in a single line                           | x if a else y |"
   ]
  },
  {
   "cell_type": "code",
   "metadata": {
    "ExecuteTime": {
     "end_time": "2025-05-30T03:36:53.769101Z",
     "start_time": "2025-05-30T03:36:53.766412Z"
    }
   },
   "source": [
    "# //\tDivision (floor): divides and floor the output\n",
    "a = 10\n",
    "b = 3\n",
    "div = a / b\n",
    "div_floor = a // b\n",
    "div_remainder = a % b # aka \"a modulo b\" or \"a mod b\"\n",
    "\n",
    "print(f\"{div=}, {div_floor=}, {div_remainder=}\")"
   ],
   "outputs": [
    {
     "name": "stdout",
     "output_type": "stream",
     "text": [
      "div=3.3333333333333335, div_floor=3, div_remainder=1\n"
     ]
    }
   ],
   "execution_count": 6
  },
  {
   "cell_type": "code",
   "metadata": {
    "ExecuteTime": {
     "end_time": "2025-05-30T03:36:53.789618Z",
     "start_time": "2025-05-30T03:36:53.787421Z"
    }
   },
   "source": [
    "# negative division could be counter-intuitive\n",
    "print (5//2)\n",
    "print (-5//2) # floor(-2.333) gives the integer smaller -> -3\n"
   ],
   "outputs": [
    {
     "name": "stdout",
     "output_type": "stream",
     "text": [
      "2\n",
      "-3\n"
     ]
    }
   ],
   "execution_count": 7
  },
  {
   "cell_type": "code",
   "metadata": {
    "jupyter": {
     "outputs_hidden": false
    },
    "pycharm": {
     "name": "#%%\n"
    },
    "ExecuteTime": {
     "end_time": "2025-05-30T03:36:53.812734Z",
     "start_time": "2025-05-30T03:36:53.810627Z"
    }
   },
   "source": [
    "# Power\n",
    "pwr = a ** b\n",
    "print(pwr)"
   ],
   "outputs": [
    {
     "name": "stdout",
     "output_type": "stream",
     "text": [
      "1000\n"
     ]
    }
   ],
   "execution_count": 8
  },
  {
   "cell_type": "code",
   "metadata": {
    "jupyter": {
     "outputs_hidden": false
    },
    "pycharm": {
     "name": "#%%\n"
    },
    "ExecuteTime": {
     "end_time": "2025-05-30T03:36:53.839411Z",
     "start_time": "2025-05-30T03:36:53.836940Z"
    }
   },
   "source": [
    "# is, is not\n",
    "# NOTE:\n",
    "# `==` is the equality operator\n",
    "# `is` is the identity operator\n",
    "# - Use **`==`** when you want to check if two objects have equal **values**.\n",
    "# - Use **`is`** when you want to check if two objects refer to the same memory location.\n",
    "\n",
    "### Special Notes:\n",
    "# - For **immutable objects** like integers and strings, `is` may sometimes seem to behave like `==` because the Python interpreter often optimizes memory usage by reusing objects for small integers and interned strings.\n",
    "\n",
    "c = a\n",
    "print(a is not b)\n",
    "print(a is c)"
   ],
   "outputs": [
    {
     "name": "stdout",
     "output_type": "stream",
     "text": [
      "True\n",
      "True\n"
     ]
    }
   ],
   "execution_count": 9
  },
  {
   "cell_type": "code",
   "metadata": {
    "jupyter": {
     "outputs_hidden": false
    },
    "pycharm": {
     "name": "#%%\n"
    },
    "ExecuteTime": {
     "end_time": "2025-05-30T03:36:53.867344Z",
     "start_time": "2025-05-30T03:36:53.865186Z"
    }
   },
   "source": [
    "# in, not in\n",
    "x, y = 24, 20\n",
    "l = [10, 20, 30, 40, 50]\n",
    "\n",
    "print(x not in l)\n",
    "print(y in l)\n"
   ],
   "outputs": [
    {
     "name": "stdout",
     "output_type": "stream",
     "text": [
      "True\n",
      "True\n"
     ]
    }
   ],
   "execution_count": 10
  },
  {
   "cell_type": "code",
   "metadata": {
    "jupyter": {
     "outputs_hidden": false
    },
    "pycharm": {
     "name": "#%%\n"
    },
    "ExecuteTime": {
     "end_time": "2025-05-30T03:36:53.900600Z",
     "start_time": "2025-05-30T03:36:53.898075Z"
    }
   },
   "source": [
    "# Ternary operator\n",
    "if a < b:\n",
    "    print(a)\n",
    "else:\n",
    "    print(b)\n",
    "\n",
    "# [on_true] if [expression] else [on_false]\n",
    "minimum = a if a < b else b\n",
    "print(minimum)"
   ],
   "outputs": [
    {
     "name": "stdout",
     "output_type": "stream",
     "text": [
      "3\n",
      "3\n"
     ]
    }
   ],
   "execution_count": 11
  },
  {
   "cell_type": "markdown",
   "metadata": {
    "pycharm": {
     "name": "#%% md\n"
    }
   },
   "source": [
    "## Iteration\n",
    "The 2 main loops in python are `while` and `for` loops\n",
    "\n",
    "[Reference](https://www.geeksforgeeks.org/loops-in-python/)"
   ]
  },
  {
   "cell_type": "code",
   "metadata": {
    "jupyter": {
     "outputs_hidden": false
    },
    "pycharm": {
     "name": "#%%\n"
    },
    "ExecuteTime": {
     "end_time": "2025-05-30T03:36:53.932814Z",
     "start_time": "2025-05-30T03:36:53.930444Z"
    }
   },
   "source": [
    "# While loop\n",
    "count = 0\n",
    "while count < 3:\n",
    "    count = count + 1\n",
    "    print(\"count = \", count)"
   ],
   "outputs": [
    {
     "name": "stdout",
     "output_type": "stream",
     "text": [
      "count =  1\n",
      "count =  2\n",
      "count =  3\n"
     ]
    }
   ],
   "execution_count": 12
  },
  {
   "cell_type": "code",
   "metadata": {
    "jupyter": {
     "outputs_hidden": false
    },
    "pycharm": {
     "name": "#%%\n"
    },
    "ExecuteTime": {
     "end_time": "2025-05-30T03:36:53.953065Z",
     "start_time": "2025-05-30T03:36:53.950190Z"
    }
   },
   "source": [
    "# Combining else with while to execute something after the loop\n",
    "# NOTE: if the while loop ends with a `break` command, the `else` block will NOT execute. That's the reason you would use the else block and not just put a command after the while block.\n",
    "count = 0\n",
    "while count < 3:\n",
    "    count = count + 1\n",
    "    print(\"count = \", count)\n",
    "else:\n",
    "    print(\"In the else. count = \", count)"
   ],
   "outputs": [
    {
     "name": "stdout",
     "output_type": "stream",
     "text": [
      "count =  1\n",
      "count =  2\n",
      "count =  3\n",
      "In the else. count =  3\n"
     ]
    }
   ],
   "execution_count": 13
  },
  {
   "cell_type": "markdown",
   "metadata": {
    "pycharm": {
     "name": "#%% md\n"
    }
   },
   "source": [
    "[`range()`](https://docs.python.org/3/library/functions.html#func-range) is\n",
    "a built-in generator function that is used to generate numbers in a given range.\n",
    "\n",
    "It takes up to 3 parameter `start`, `stop`, `step`.\n",
    "If not given,`start` defaults to `0`, and `step` to `1`.\n",
    "\n",
    "Examples:\n",
    "- `range(0, 10, 1)` -> `[0, 1, 2, ..., 9]`. note that `stop` isn't included.\n",
    "- `range(0, 10, 2)` -> `[0, 2, 4, 6, 8]`. even numbers.\n",
    "- `range(0, 10)` -> Only `start` and `stop`. same as `range(0, 10, 1)`.\n",
    "- `range(10)` -> Only `stop`. same as `range(0, 10, 1)`.\n",
    "- `range(10, 0, -1)` -> `[10, 9, 8, ..., 1]`."
   ]
  },
  {
   "cell_type": "code",
   "metadata": {
    "jupyter": {
     "outputs_hidden": false
    },
    "pycharm": {
     "name": "#%%\n"
    },
    "ExecuteTime": {
     "end_time": "2025-05-30T03:36:53.988659Z",
     "start_time": "2025-05-30T03:36:53.986516Z"
    }
   },
   "source": [
    "# range for loop\n",
    "my_list = [10, 20, 30, 40]\n",
    "print('looping over list elements by index using \"range()\"')\n",
    "for i in range(0, len(my_list)):\n",
    "    print(my_list[i])\n",
    "\n",
    "print('looping over list elements using \"in\"')\n",
    "for element in my_list:\n",
    "    print(element)"
   ],
   "outputs": [
    {
     "name": "stdout",
     "output_type": "stream",
     "text": [
      "looping over list elements by index using \"range()\"\n",
      "10\n",
      "20\n",
      "30\n",
      "40\n",
      "looping over list elements using \"in\"\n",
      "10\n",
      "20\n",
      "30\n",
      "40\n"
     ]
    }
   ],
   "execution_count": 14
  },
  {
   "cell_type": "code",
   "metadata": {
    "jupyter": {
     "outputs_hidden": false
    },
    "pycharm": {
     "name": "#%%\n"
    },
    "ExecuteTime": {
     "end_time": "2025-05-30T03:36:54.021478Z",
     "start_time": "2025-05-30T03:36:54.019314Z"
    }
   },
   "source": [
    "my_list = [10, 20, 30, 40, 50, 60, 70, 80]\n",
    "print('looping over list elements by index using \"range()\"')\n",
    "for i in range(0, len(my_list)):\n",
    "    if i == 5:  # break the loop after 5 iterations\n",
    "        break\n",
    "    elif i%2 == 1:  # skipping odd indices\n",
    "        continue\n",
    "    print(my_list[i])"
   ],
   "outputs": [
    {
     "name": "stdout",
     "output_type": "stream",
     "text": [
      "looping over list elements by index using \"range()\"\n",
      "10\n",
      "30\n",
      "50\n"
     ]
    }
   ],
   "execution_count": 15
  },
  {
   "cell_type": "markdown",
   "metadata": {},
   "source": [
    "### Task 2:\n",
    "Make a list that have all the integers from 0 to 99 that are divisible by 4 but\n",
    "not divisible by 6.\n",
    "\n",
    "Hint: `my_list.append(a)` adds `a` to the end of the `my_list`."
   ]
  },
  {
   "cell_type": "code",
   "metadata": {
    "jupyter": {
     "outputs_hidden": false
    },
    "pycharm": {
     "name": "#%%\n"
    },
    "ExecuteTime": {
     "end_time": "2025-05-30T03:36:54.038032Z",
     "start_time": "2025-05-30T03:36:54.035991Z"
    }
   },
   "source": [
    "# Solve here\n",
    "my_list_2 = [x for x in range(100) if x % 4 == 0 and x % 6 != 0]\n",
    "# NOTE: list comprehensions are generally faster than appending in a loop.\n",
    "# If you're just initializing a list, prefer list comprehensions.\n",
    "print(f\"{my_list_2=}\")\n",
    "\n",
    "# check the solution:\n",
    "for number in my_list_2:\n",
    "    assert number % 4 == 0\n",
    "    assert number % 6 != 0\n",
    "    print(f\"{number} is ok\")"
   ],
   "outputs": [
    {
     "name": "stdout",
     "output_type": "stream",
     "text": [
      "my_list_2=[4, 8, 16, 20, 28, 32, 40, 44, 52, 56, 64, 68, 76, 80, 88, 92]\n",
      "4 is ok\n",
      "8 is ok\n",
      "16 is ok\n",
      "20 is ok\n",
      "28 is ok\n",
      "32 is ok\n",
      "40 is ok\n",
      "44 is ok\n",
      "52 is ok\n",
      "56 is ok\n",
      "64 is ok\n",
      "68 is ok\n",
      "76 is ok\n",
      "80 is ok\n",
      "88 is ok\n",
      "92 is ok\n"
     ]
    }
   ],
   "execution_count": 16
  },
  {
   "cell_type": "markdown",
   "metadata": {
    "pycharm": {
     "name": "#%% md\n"
    }
   },
   "source": [
    "## Functions\n",
    "Functions is very useful to use a block of code multiple times."
   ]
  },
  {
   "cell_type": "code",
   "metadata": {
    "jupyter": {
     "outputs_hidden": false
    },
    "pycharm": {
     "name": "#%%\n"
    },
    "ExecuteTime": {
     "end_time": "2025-05-30T03:36:54.075158Z",
     "start_time": "2025-05-30T03:36:54.073008Z"
    }
   },
   "source": [
    "def my_function_name():\n",
    "    print('Hi from a function')\n",
    "\n",
    "my_function_name()\n",
    "my_function_name()"
   ],
   "outputs": [
    {
     "name": "stdout",
     "output_type": "stream",
     "text": [
      "Hi from a function\n",
      "Hi from a function\n"
     ]
    }
   ],
   "execution_count": 17
  },
  {
   "cell_type": "code",
   "metadata": {
    "jupyter": {
     "outputs_hidden": false
    },
    "pycharm": {
     "name": "#%%\n"
    },
    "ExecuteTime": {
     "end_time": "2025-05-30T03:36:54.107953Z",
     "start_time": "2025-05-30T03:36:54.105330Z"
    }
   },
   "source": [
    "def double(x):\n",
    "    return x * 2\n",
    "\n",
    "print(double(3))"
   ],
   "outputs": [
    {
     "name": "stdout",
     "output_type": "stream",
     "text": [
      "6\n"
     ]
    }
   ],
   "execution_count": 18
  },
  {
   "cell_type": "markdown",
   "metadata": {
    "pycharm": {
     "name": "#%% md\n"
    }
   },
   "source": [
    "## Classes\n",
    "Python is an Object Oriented Programming (OOP) langauge. Here are how classes are used\n",
    "\n",
    "[geeksforgeeks.org/python-classes-and-objects](https://www.geeksforgeeks.org/python-classes-and-objects/)"
   ]
  },
  {
   "cell_type": "code",
   "metadata": {
    "jupyter": {
     "outputs_hidden": false
    },
    "pycharm": {
     "name": "#%%\n"
    },
    "ExecuteTime": {
     "end_time": "2025-05-30T03:36:54.135013Z",
     "start_time": "2025-05-30T03:36:54.131416Z"
    }
   },
   "source": [
    "class Dog:\n",
    "\n",
    "    # A simple class\n",
    "    # attribute\n",
    "    attr1 = \"mammal\"\n",
    "    attr2 = \"dog\"\n",
    "\n",
    "    # A sample method\n",
    "    def self_identify(self):\n",
    "        print(\"I'm a\", self.attr1)\n",
    "        print(\"I'm a\", self.attr2)\n",
    "\n",
    "# Object instantiation\n",
    "Rodger = Dog()\n",
    "\n",
    "# Accessing class attributes\n",
    "# and method through objects\n",
    "print(Rodger.attr1)\n",
    "Rodger.self_identify()"
   ],
   "outputs": [
    {
     "name": "stdout",
     "output_type": "stream",
     "text": [
      "mammal\n",
      "I'm a mammal\n",
      "I'm a dog\n"
     ]
    }
   ],
   "execution_count": 19
  },
  {
   "cell_type": "markdown",
   "metadata": {
    "pycharm": {
     "name": "#%% md\n"
    }
   },
   "source": [
    "---\n",
    "## Install external modules\n",
    "Python community offers a huge variety of modules to eliminate the need for\n",
    "writing codes from scratch.\n",
    "[pip](https://pypi.org/project/pip/) is a package installer for Python. You\n",
    "can use pip to install packages from the Python Package Index and other indexes.\n",
    "\n",
    "To install a package you can run this command in your terminal:\n",
    "- Unix/macOS: `python3 -m pip install <package name>` or `pip3 install <package name>`\n",
    "- Windows: `py -m pip install <package name>` or `pip install <package name>`\n",
    "\n",
    "[Further reading](https://pip.pypa.io/en/stable/cli/pip_install/)\n",
    "on pip usage and how to write and install requirements files.\n",
    "\n",
    "You can also run terminal command from your jupyter notebook using\n",
    "[magic commands](https://ipython.readthedocs.io/en/stable/interactive/magics.html)\n",
    "\n",
    "To do so, you put `!` before your command so that jupyter understand executing\n",
    "it in the terminal."
   ]
  },
  {
   "cell_type": "code",
   "metadata": {
    "jupyter": {
     "outputs_hidden": false
    },
    "pycharm": {
     "name": "#%%\n"
    },
    "ExecuteTime": {
     "end_time": "2025-05-30T04:47:52.484496Z",
     "start_time": "2025-05-30T04:47:52.468721Z"
    }
   },
   "source": [
    "# avoid install warning\n",
    "import importlib.util\n",
    "if importlib.util.find_spec(\"numpy\") is None:\n",
    "    # https://ipython.readthedocs.io/en/stable/interactive/magics.html#magic-sx\n",
    "    !pip install numpy"
   ],
   "outputs": [],
   "execution_count": 45
  },
  {
   "cell_type": "markdown",
   "metadata": {
    "jupyter": {
     "outputs_hidden": false
    },
    "pycharm": {
     "name": "#%% md\n"
    }
   },
   "source": [
    "---\n",
    "## Numpy\n",
    "While python is a powerful, it is very slow compared to C/C++ since it's and\n",
    "interpreted language with dynamic typing. Numpy is python library that is\n",
    "implemented in C/C++. giving us the ease of development of python with the\n",
    "performance of C. depending on the operation numpy could be up to 100x faster.\n",
    "Moreover, it has various functions to perform linear algebra and array operations.\n",
    "\n",
    "[numpy.org absolute beginners](https://numpy.org/doc/stable/user/absolute_beginners.html)"
   ]
  },
  {
   "cell_type": "code",
   "metadata": {
    "pycharm": {
     "name": "#%%\n"
    },
    "ExecuteTime": {
     "end_time": "2025-05-30T03:49:02.376561Z",
     "start_time": "2025-05-30T03:49:02.200455Z"
    }
   },
   "source": [
    "import numpy as np"
   ],
   "outputs": [],
   "execution_count": 24
  },
  {
   "cell_type": "code",
   "metadata": {
    "jupyter": {
     "outputs_hidden": false
    },
    "pycharm": {
     "name": "#%%\n"
    },
    "ExecuteTime": {
     "end_time": "2025-05-30T03:49:45.674543Z",
     "start_time": "2025-05-30T03:49:45.652039Z"
    }
   },
   "source": [
    "my_np_list = np.random.randint(low=-100, high=100, size=20)\n",
    "print(my_np_list)"
   ],
   "outputs": [
    {
     "name": "stdout",
     "output_type": "stream",
     "text": [
      "[ 70  37  74 -11 -33  -6 -98  -6 -63 -87 -57  48  80  88 -65 -97 -89  71\n",
      "  38  42]\n"
     ]
    }
   ],
   "execution_count": 26
  },
  {
   "cell_type": "markdown",
   "metadata": {},
   "source": [
    "Here is some of the most common used function"
   ]
  },
  {
   "cell_type": "code",
   "metadata": {
    "jupyter": {
     "outputs_hidden": false
    },
    "pycharm": {
     "name": "#%%\n"
    },
    "ExecuteTime": {
     "end_time": "2025-05-30T03:49:51.791707Z",
     "start_time": "2025-05-30T03:49:51.785855Z"
    }
   },
   "source": [
    "print('shape:', my_np_list.shape)\n",
    "print('sum:', my_np_list.sum())\n",
    "print('min:', my_np_list.min())\n",
    "print('max:', my_np_list.max())\n",
    "print('abs:', np.abs(my_np_list))\n",
    "my_np_list.sort()\n",
    "print('after .sort():', my_np_list)\n",
    "print('doubling the array', my_np_list * 2) # broadcasting"
   ],
   "outputs": [
    {
     "name": "stdout",
     "output_type": "stream",
     "text": [
      "shape: (20,)\n",
      "sum: -64\n",
      "min: -98\n",
      "max: 88\n",
      "abs: [70 37 74 11 33  6 98  6 63 87 57 48 80 88 65 97 89 71 38 42]\n",
      "after .sort(): [-98 -97 -89 -87 -65 -63 -57 -33 -11  -6  -6  37  38  42  48  70  71  74\n",
      "  80  88]\n",
      "doubling the array [-196 -194 -178 -174 -130 -126 -114  -66  -22  -12  -12   74   76   84\n",
      "   96  140  142  148  160  176]\n"
     ]
    }
   ],
   "execution_count": 27
  },
  {
   "cell_type": "markdown",
   "metadata": {
    "jupyter": {
     "outputs_hidden": false
    },
    "pycharm": {
     "name": "#%% md\n"
    }
   },
   "source": [
    "### Task 3:\n",
    "Print the mean, variance and standard deviation of `my_np_list`"
   ]
  },
  {
   "cell_type": "code",
   "metadata": {
    "jupyter": {
     "outputs_hidden": false
    },
    "pycharm": {
     "name": "#%%\n"
    },
    "ExecuteTime": {
     "end_time": "2025-05-30T03:53:48.256883Z",
     "start_time": "2025-05-30T03:53:48.242479Z"
    }
   },
   "source": [
    "# Solve here\n",
    "print(f\"{my_np_list=}\")\n",
    "print(f\"{my_np_list.mean()=}\")\n",
    "print(f\"{my_np_list.var()=}\")\n",
    "print(f\"{my_np_list.std()=}\")"
   ],
   "outputs": [
    {
     "name": "stdout",
     "output_type": "stream",
     "text": [
      "my_np_list=array([-98, -97, -89, -87, -65, -63, -57, -33, -11,  -6,  -6,  37,  38,\n",
      "        42,  48,  70,  71,  74,  80,  88])\n",
      "my_np_list.mean()=np.float64(-3.2)\n",
      "my_np_list.var()=np.float64(4173.26)\n",
      "my_np_list.std()=np.float64(64.60077398917137)\n"
     ]
    }
   ],
   "execution_count": 29
  },
  {
   "cell_type": "code",
   "metadata": {
    "pycharm": {
     "name": "#%%\n"
    },
    "ExecuteTime": {
     "end_time": "2025-05-30T03:59:02.607136Z",
     "start_time": "2025-05-30T03:59:02.599229Z"
    }
   },
   "source": [
    "# 2D arrays\n",
    "x = np.array(\n",
    "    [\n",
    "        [1, 2, 3, 4],\n",
    "        [5, 6, 7, 8],\n",
    "        [9, 10, 11, 12],\n",
    "    ],\n",
    "    np.int32,\n",
    ")\n",
    "print(x)\n",
    "print(f'{x.shape = }')\n",
    "print('accessing element:', x[1, 2])\n",
    "print('slice of an array:', x[0:2, 0:3])\n",
    "print('row:', x[0, :])\n",
    "print('column:', x[:, 3])"
   ],
   "outputs": [
    {
     "name": "stdout",
     "output_type": "stream",
     "text": [
      "[[ 1  2  3  4]\n",
      " [ 5  6  7  8]\n",
      " [ 9 10 11 12]]\n",
      "x.shape = (3, 4)\n",
      "accessing element: 7\n",
      "slice of an array: [[1 2 3]\n",
      " [5 6 7]]\n",
      "row: [1 2 3 4]\n",
      "column: [ 4  8 12]\n"
     ]
    }
   ],
   "execution_count": 33
  },
  {
   "cell_type": "code",
   "metadata": {
    "jupyter": {
     "outputs_hidden": false
    },
    "pycharm": {
     "name": "#%%\n"
    },
    "ExecuteTime": {
     "end_time": "2025-05-30T03:59:19.391606Z",
     "start_time": "2025-05-30T03:59:19.316956Z"
    }
   },
   "source": [
    "# speed\n",
    "from time import time\n",
    "\n",
    "start_time = time()\n",
    "my_list = [1] * 10000000\n",
    "sum(my_list)\n",
    "list_time = time() - start_time\n",
    "\n",
    "start_time = time()\n",
    "my_np_list = np.ones(10000000)\n",
    "my_np_list.sum()\n",
    "np_time = time() - start_time\n",
    "\n",
    "print('numpy is', list_time/np_time, ' times faster than list')"
   ],
   "outputs": [
    {
     "name": "stdout",
     "output_type": "stream",
     "text": [
      "numpy is 1.675840215804741  times faster than list\n"
     ]
    }
   ],
   "execution_count": 34
  },
  {
   "cell_type": "markdown",
   "metadata": {
    "jupyter": {
     "outputs_hidden": false
    },
    "pycharm": {
     "name": "#%% md\n"
    }
   },
   "source": [
    "### Task 4\n",
    "Install the following packages: `matplotlib`, `pandas`, `seaborn` and `sklearn`"
   ]
  },
  {
   "cell_type": "code",
   "metadata": {
    "jupyter": {
     "outputs_hidden": false
    },
    "pycharm": {
     "name": "#%%\n"
    },
    "ExecuteTime": {
     "end_time": "2025-05-30T05:45:09.848787Z",
     "start_time": "2025-05-30T05:45:09.793714Z"
    }
   },
   "source": [
    "# Solve here\n",
    "# NOTE: using uv as a package manager. uv add ... has already been used.\n",
    "# NOTE: sklearn is deprecated. Used scikit-learn\n",
    "from pkg_resources import working_set\n",
    "from importlib.metadata import version, PackageNotFoundError\n",
    "\n",
    "def package_is_installed(package_name: str) -> bool:\n",
    "    \"\"\"\n",
    "    Uses three different ways to determine if a package is installed.\n",
    "    Each of these methods detects a subset of the actual installed packages.\n",
    "    The combination of the three seems to detect all packages.\n",
    "    \"\"\"\n",
    "    try:\n",
    "        version(package_name)\n",
    "        return True\n",
    "    except PackageNotFoundError:\n",
    "        print(f\"Package '{package_name}' not found by version\")\n",
    "    working_set_packages = [pkg.key for pkg in working_set]\n",
    "    return package_name in working_set_packages or importlib.util.find_spec(package) is not None\n",
    "\n",
    "packages_to_install = [\"matplotlib\", \"pandas\", \"seaborn\", \"scikit-learn\"]\n",
    "for package in packages_to_install:\n",
    "    if not package_is_installed(package):\n",
    "        !pip install {package}\n",
    "    else:\n",
    "        print(f\"{package} is already installed.\")\n"
   ],
   "outputs": [
    {
     "name": "stdout",
     "output_type": "stream",
     "text": [
      "matplotlib is already installed.\n",
      "pandas is already installed.\n",
      "seaborn is already installed.\n",
      "scikit-learn is already installed.\n"
     ]
    }
   ],
   "execution_count": 80
  },
  {
   "cell_type": "markdown",
   "metadata": {},
   "source": [
    "---\n",
    "## Matplotlib\n",
    "Matplotlib is a comprehensive library for creating static, animated, and\n",
    "interactive visualizations in Python.\n",
    "\n",
    "[matplotlib.org tutorials](https://matplotlib.org/stable/tutorials/introductory/pyplot.html#sphx-glr-tutorials-introductory-pyplot-py)"
   ]
  },
  {
   "cell_type": "code",
   "metadata": {
    "jupyter": {
     "outputs_hidden": false
    },
    "pycharm": {
     "name": "#%%\n"
    },
    "ExecuteTime": {
     "end_time": "2025-05-30T04:55:31.243238Z",
     "start_time": "2025-05-30T04:55:31.196440Z"
    }
   },
   "source": [
    "import matplotlib.pyplot as plt\n",
    "# to plot inside the notebook\n",
    "%matplotlib inline"
   ],
   "outputs": [],
   "execution_count": 53
  },
  {
   "cell_type": "code",
   "metadata": {
    "jupyter": {
     "outputs_hidden": false
    },
    "pycharm": {
     "name": "#%%\n"
    },
    "ExecuteTime": {
     "end_time": "2025-05-30T04:55:35.077445Z",
     "start_time": "2025-05-30T04:55:34.924336Z"
    }
   },
   "source": [
    "# Line plot\n",
    "t = np.arange(0.0, 2.0, 0.01)\n",
    "s = 1 + np.sin(2 * np.pi * t)\n",
    "\n",
    "fig, ax = plt.subplots()\n",
    "ax.plot(t, s)\n",
    "\n",
    "ax.set(xlabel='Hours studied (s)', ylabel='voltage (mV)',\n",
    "       title='Change in volt over time')\n",
    "ax.grid()\n",
    "plt.show() # Show the plot"
   ],
   "outputs": [
    {
     "data": {
      "text/plain": [
       "<Figure size 640x480 with 1 Axes>"
      ],
      "image/png": "[encoded data removed]"
     },
     "metadata": {},
     "output_type": "display_data"
    }
   ],
   "execution_count": 54
  },
  {
   "cell_type": "code",
   "metadata": {
    "jupyter": {
     "outputs_hidden": false
    },
    "pycharm": {
     "name": "#%%\n"
    },
    "ExecuteTime": {
     "end_time": "2025-05-30T04:58:32.625224Z",
     "start_time": "2025-05-30T04:58:32.507680Z"
    }
   },
   "source": [
    "# different plots for categorical data\n",
    "names = ['group_a', 'group_b', 'group_c']\n",
    "values = [1, 10, 100]\n",
    "\n",
    "plt.figure(figsize=(9, 5))\n",
    "\n",
    "plt.subplot(131)  # To create 1 by 3 grid and plot in the 1st subplot\n",
    "plt.bar(names, values)\n",
    "plt.subplot(132)  # plot in the 2nd subplot\n",
    "plt.scatter(names, values)\n",
    "plt.subplot(133)  # plot in the 3rd subplot\n",
    "plt.plot(names, values)\n",
    "plt.suptitle('Categorical Plotting')\n",
    "plt.show()"
   ],
   "outputs": [
    {
     "data": {
      "text/plain": [
       "<Figure size 900x500 with 3 Axes>"
      ],
      "image/png": "[encoded data removed]"
     },
     "metadata": {},
     "output_type": "display_data"
    }
   ],
   "execution_count": 56
  },
  {
   "cell_type": "markdown",
   "metadata": {
    "jupyter": {
     "outputs_hidden": false
    },
    "pycharm": {
     "name": "#%% md\n"
    }
   },
   "source": [
    "---\n",
    "## Pandas\n",
    "[Pandas](https://pandas.pydata.org/docs/) is a fast, powerful, flexible and\n",
    "easy to use open source data analysis and manipulation tool.\n"
   ]
  },
  {
   "cell_type": "code",
   "metadata": {
    "jupyter": {
     "outputs_hidden": false
    },
    "pycharm": {
     "name": "#%%\n"
    },
    "ExecuteTime": {
     "end_time": "2025-05-30T05:00:15.027773Z",
     "start_time": "2025-05-30T05:00:15.016083Z"
    }
   },
   "source": [
    "import pandas as pd\n"
   ],
   "outputs": [],
   "execution_count": 57
  },
  {
   "cell_type": "code",
   "metadata": {
    "jupyter": {
     "outputs_hidden": false
    },
    "pycharm": {
     "name": "#%%\n"
    },
    "ExecuteTime": {
     "end_time": "2025-05-30T05:02:22.434249Z",
     "start_time": "2025-05-30T05:02:22.284313Z"
    }
   },
   "source": [
    "df = pd.read_csv('data/petrol_consumption-1-1.csv')\n",
    "df.info()"
   ],
   "outputs": [
    {
     "name": "stdout",
     "output_type": "stream",
     "text": [
      "<class 'pandas.core.frame.DataFrame'>\n",
      "RangeIndex: 48 entries, 0 to 47\n",
      "Data columns (total 5 columns):\n",
      " #   Column                        Non-Null Count  Dtype  \n",
      "---  ------                        --------------  -----  \n",
      " 0   Petrol_tax                    48 non-null     float64\n",
      " 1   Average_income                48 non-null     int64  \n",
      " 2   Paved_Highways                48 non-null     int64  \n",
      " 3   Population_Driver_licence(%)  48 non-null     float64\n",
      " 4   Petrol_Consumption            48 non-null     int64  \n",
      "dtypes: float64(2), int64(3)\n",
      "memory usage: 2.0 KB\n"
     ]
    }
   ],
   "execution_count": 59
  },
  {
   "cell_type": "code",
   "metadata": {
    "jupyter": {
     "outputs_hidden": false
    },
    "pycharm": {
     "name": "#%%\n"
    },
    "ExecuteTime": {
     "end_time": "2025-05-30T05:03:20.930870Z",
     "start_time": "2025-05-30T05:03:20.875988Z"
    }
   },
   "source": [
    "df.head(5)"
   ],
   "outputs": [
    {
     "data": {
      "text/plain": [
       "   Petrol_tax  Average_income  Paved_Highways  Population_Driver_licence(%)  \\\n",
       "0         9.0            3571            1976                         0.525   \n",
       "1         9.0            4092            1250                         0.572   \n",
       "2         9.0            3865            1586                         0.580   \n",
       "3         7.5            4870            2351                         0.529   \n",
       "4         8.0            4399             431                         0.544   \n",
       "\n",
       "   Petrol_Consumption  \n",
       "0                 541  \n",
       "1                 524  \n",
       "2                 561  \n",
       "3                 414  \n",
       "4                 410  "
      ],
      "text/html": [
       "<div>\n",
       "<style scoped>\n",
       "    .dataframe tbody tr th:only-of-type {\n",
       "        vertical-align: middle;\n",
       "    }\n",
       "\n",
       "    .dataframe tbody tr th {\n",
       "        vertical-align: top;\n",
       "    }\n",
       "\n",
       "    .dataframe thead th {\n",
       "        text-align: right;\n",
       "    }\n",
       "</style>\n",
       "<table border=\"1\" class=\"dataframe\">\n",
       "  <thead>\n",
       "    <tr style=\"text-align: right;\">\n",
       "      <th></th>\n",
       "      <th>Petrol_tax</th>\n",
       "      <th>Average_income</th>\n",
       "      <th>Paved_Highways</th>\n",
       "      <th>Population_Driver_licence(%)</th>\n",
       "      <th>Petrol_Consumption</th>\n",
       "    </tr>\n",
       "  </thead>\n",
       "  <tbody>\n",
       "    <tr>\n",
       "      <th>0</th>\n",
       "      <td>9.0</td>\n",
       "      <td>3571</td>\n",
       "      <td>1976</td>\n",
       "      <td>0.525</td>\n",
       "      <td>541</td>\n",
       "    </tr>\n",
       "    <tr>\n",
       "      <th>1</th>\n",
       "      <td>9.0</td>\n",
       "      <td>4092</td>\n",
       "      <td>1250</td>\n",
       "      <td>0.572</td>\n",
       "      <td>524</td>\n",
       "    </tr>\n",
       "    <tr>\n",
       "      <th>2</th>\n",
       "      <td>9.0</td>\n",
       "      <td>3865</td>\n",
       "      <td>1586</td>\n",
       "      <td>0.580</td>\n",
       "      <td>561</td>\n",
       "    </tr>\n",
       "    <tr>\n",
       "      <th>3</th>\n",
       "      <td>7.5</td>\n",
       "      <td>4870</td>\n",
       "      <td>2351</td>\n",
       "      <td>0.529</td>\n",
       "      <td>414</td>\n",
       "    </tr>\n",
       "    <tr>\n",
       "      <th>4</th>\n",
       "      <td>8.0</td>\n",
       "      <td>4399</td>\n",
       "      <td>431</td>\n",
       "      <td>0.544</td>\n",
       "      <td>410</td>\n",
       "    </tr>\n",
       "  </tbody>\n",
       "</table>\n",
       "</div>"
      ]
     },
     "execution_count": 60,
     "metadata": {},
     "output_type": "execute_result"
    }
   ],
   "execution_count": 60
  },
  {
   "cell_type": "code",
   "metadata": {
    "jupyter": {
     "outputs_hidden": false
    },
    "pycharm": {
     "name": "#%%\n"
    },
    "ExecuteTime": {
     "end_time": "2025-05-30T05:03:27.707620Z",
     "start_time": "2025-05-30T05:03:27.686943Z"
    }
   },
   "source": [
    "df.describe()\n"
   ],
   "outputs": [
    {
     "data": {
      "text/plain": [
       "       Petrol_tax  Average_income  Paved_Highways  \\\n",
       "count   48.000000       48.000000       48.000000   \n",
       "mean     7.668333     4241.833333     5565.416667   \n",
       "std      0.950770      573.623768     3491.507166   \n",
       "min      5.000000     3063.000000      431.000000   \n",
       "25%      7.000000     3739.000000     3110.250000   \n",
       "50%      7.500000     4298.000000     4735.500000   \n",
       "75%      8.125000     4578.750000     7156.000000   \n",
       "max     10.000000     5342.000000    17782.000000   \n",
       "\n",
       "       Population_Driver_licence(%)  Petrol_Consumption  \n",
       "count                     48.000000           48.000000  \n",
       "mean                       0.570333          576.770833  \n",
       "std                        0.055470          111.885816  \n",
       "min                        0.451000          344.000000  \n",
       "25%                        0.529750          509.500000  \n",
       "50%                        0.564500          568.500000  \n",
       "75%                        0.595250          632.750000  \n",
       "max                        0.724000          968.000000  "
      ],
      "text/html": [
       "<div>\n",
       "<style scoped>\n",
       "    .dataframe tbody tr th:only-of-type {\n",
       "        vertical-align: middle;\n",
       "    }\n",
       "\n",
       "    .dataframe tbody tr th {\n",
       "        vertical-align: top;\n",
       "    }\n",
       "\n",
       "    .dataframe thead th {\n",
       "        text-align: right;\n",
       "    }\n",
       "</style>\n",
       "<table border=\"1\" class=\"dataframe\">\n",
       "  <thead>\n",
       "    <tr style=\"text-align: right;\">\n",
       "      <th></th>\n",
       "      <th>Petrol_tax</th>\n",
       "      <th>Average_income</th>\n",
       "      <th>Paved_Highways</th>\n",
       "      <th>Population_Driver_licence(%)</th>\n",
       "      <th>Petrol_Consumption</th>\n",
       "    </tr>\n",
       "  </thead>\n",
       "  <tbody>\n",
       "    <tr>\n",
       "      <th>count</th>\n",
       "      <td>48.000000</td>\n",
       "      <td>48.000000</td>\n",
       "      <td>48.000000</td>\n",
       "      <td>48.000000</td>\n",
       "      <td>48.000000</td>\n",
       "    </tr>\n",
       "    <tr>\n",
       "      <th>mean</th>\n",
       "      <td>7.668333</td>\n",
       "      <td>4241.833333</td>\n",
       "      <td>5565.416667</td>\n",
       "      <td>0.570333</td>\n",
       "      <td>576.770833</td>\n",
       "    </tr>\n",
       "    <tr>\n",
       "      <th>std</th>\n",
       "      <td>0.950770</td>\n",
       "      <td>573.623768</td>\n",
       "      <td>3491.507166</td>\n",
       "      <td>0.055470</td>\n",
       "      <td>111.885816</td>\n",
       "    </tr>\n",
       "    <tr>\n",
       "      <th>min</th>\n",
       "      <td>5.000000</td>\n",
       "      <td>3063.000000</td>\n",
       "      <td>431.000000</td>\n",
       "      <td>0.451000</td>\n",
       "      <td>344.000000</td>\n",
       "    </tr>\n",
       "    <tr>\n",
       "      <th>25%</th>\n",
       "      <td>7.000000</td>\n",
       "      <td>3739.000000</td>\n",
       "      <td>3110.250000</td>\n",
       "      <td>0.529750</td>\n",
       "      <td>509.500000</td>\n",
       "    </tr>\n",
       "    <tr>\n",
       "      <th>50%</th>\n",
       "      <td>7.500000</td>\n",
       "      <td>4298.000000</td>\n",
       "      <td>4735.500000</td>\n",
       "      <td>0.564500</td>\n",
       "      <td>568.500000</td>\n",
       "    </tr>\n",
       "    <tr>\n",
       "      <th>75%</th>\n",
       "      <td>8.125000</td>\n",
       "      <td>4578.750000</td>\n",
       "      <td>7156.000000</td>\n",
       "      <td>0.595250</td>\n",
       "      <td>632.750000</td>\n",
       "    </tr>\n",
       "    <tr>\n",
       "      <th>max</th>\n",
       "      <td>10.000000</td>\n",
       "      <td>5342.000000</td>\n",
       "      <td>17782.000000</td>\n",
       "      <td>0.724000</td>\n",
       "      <td>968.000000</td>\n",
       "    </tr>\n",
       "  </tbody>\n",
       "</table>\n",
       "</div>"
      ]
     },
     "execution_count": 61,
     "metadata": {},
     "output_type": "execute_result"
    }
   ],
   "execution_count": 61
  },
  {
   "cell_type": "code",
   "metadata": {
    "jupyter": {
     "outputs_hidden": false
    },
    "pycharm": {
     "name": "#%%\n"
    },
    "ExecuteTime": {
     "end_time": "2025-05-30T05:03:51.648085Z",
     "start_time": "2025-05-30T05:03:51.631110Z"
    }
   },
   "source": [
    "# access a column\n",
    "print(df['Petrol_tax'].head())\n",
    "print(df[['Average_income', 'Paved_Highways']].head())"
   ],
   "outputs": [
    {
     "name": "stdout",
     "output_type": "stream",
     "text": [
      "0    9.0\n",
      "1    9.0\n",
      "2    9.0\n",
      "3    7.5\n",
      "4    8.0\n",
      "Name: Petrol_tax, dtype: float64\n",
      "   Average_income  Paved_Highways\n",
      "0            3571            1976\n",
      "1            4092            1250\n",
      "2            3865            1586\n",
      "3            4870            2351\n",
      "4            4399             431\n"
     ]
    }
   ],
   "execution_count": 62
  },
  {
   "cell_type": "code",
   "metadata": {
    "pycharm": {
     "name": "#%%\n"
    },
    "ExecuteTime": {
     "end_time": "2025-05-30T05:04:26.113910Z",
     "start_time": "2025-05-30T05:04:26.100590Z"
    }
   },
   "source": [
    "# access a row\n",
    "df.iloc[[1, 2, 4]]"
   ],
   "outputs": [
    {
     "data": {
      "text/plain": [
       "   Petrol_tax  Average_income  Paved_Highways  Population_Driver_licence(%)  \\\n",
       "1         9.0            4092            1250                         0.572   \n",
       "2         9.0            3865            1586                         0.580   \n",
       "4         8.0            4399             431                         0.544   \n",
       "\n",
       "   Petrol_Consumption  \n",
       "1                 524  \n",
       "2                 561  \n",
       "4                 410  "
      ],
      "text/html": [
       "<div>\n",
       "<style scoped>\n",
       "    .dataframe tbody tr th:only-of-type {\n",
       "        vertical-align: middle;\n",
       "    }\n",
       "\n",
       "    .dataframe tbody tr th {\n",
       "        vertical-align: top;\n",
       "    }\n",
       "\n",
       "    .dataframe thead th {\n",
       "        text-align: right;\n",
       "    }\n",
       "</style>\n",
       "<table border=\"1\" class=\"dataframe\">\n",
       "  <thead>\n",
       "    <tr style=\"text-align: right;\">\n",
       "      <th></th>\n",
       "      <th>Petrol_tax</th>\n",
       "      <th>Average_income</th>\n",
       "      <th>Paved_Highways</th>\n",
       "      <th>Population_Driver_licence(%)</th>\n",
       "      <th>Petrol_Consumption</th>\n",
       "    </tr>\n",
       "  </thead>\n",
       "  <tbody>\n",
       "    <tr>\n",
       "      <th>1</th>\n",
       "      <td>9.0</td>\n",
       "      <td>4092</td>\n",
       "      <td>1250</td>\n",
       "      <td>0.572</td>\n",
       "      <td>524</td>\n",
       "    </tr>\n",
       "    <tr>\n",
       "      <th>2</th>\n",
       "      <td>9.0</td>\n",
       "      <td>3865</td>\n",
       "      <td>1586</td>\n",
       "      <td>0.580</td>\n",
       "      <td>561</td>\n",
       "    </tr>\n",
       "    <tr>\n",
       "      <th>4</th>\n",
       "      <td>8.0</td>\n",
       "      <td>4399</td>\n",
       "      <td>431</td>\n",
       "      <td>0.544</td>\n",
       "      <td>410</td>\n",
       "    </tr>\n",
       "  </tbody>\n",
       "</table>\n",
       "</div>"
      ]
     },
     "execution_count": 63,
     "metadata": {},
     "output_type": "execute_result"
    }
   ],
   "execution_count": 63
  },
  {
   "cell_type": "code",
   "metadata": {
    "jupyter": {
     "outputs_hidden": false
    },
    "pycharm": {
     "name": "#%%\n"
    },
    "ExecuteTime": {
     "end_time": "2025-05-30T05:05:26.634206Z",
     "start_time": "2025-05-30T05:05:26.617725Z"
    }
   },
   "source": [
    "# dropping a column\n",
    "new_df = df.drop(['Average_income', 'Paved_Highways'], axis=1)\n",
    "new_df.head()"
   ],
   "outputs": [
    {
     "data": {
      "text/plain": [
       "   Petrol_tax  Population_Driver_licence(%)  Petrol_Consumption\n",
       "0         9.0                         0.525                 541\n",
       "1         9.0                         0.572                 524\n",
       "2         9.0                         0.580                 561\n",
       "3         7.5                         0.529                 414\n",
       "4         8.0                         0.544                 410"
      ],
      "text/html": [
       "<div>\n",
       "<style scoped>\n",
       "    .dataframe tbody tr th:only-of-type {\n",
       "        vertical-align: middle;\n",
       "    }\n",
       "\n",
       "    .dataframe tbody tr th {\n",
       "        vertical-align: top;\n",
       "    }\n",
       "\n",
       "    .dataframe thead th {\n",
       "        text-align: right;\n",
       "    }\n",
       "</style>\n",
       "<table border=\"1\" class=\"dataframe\">\n",
       "  <thead>\n",
       "    <tr style=\"text-align: right;\">\n",
       "      <th></th>\n",
       "      <th>Petrol_tax</th>\n",
       "      <th>Population_Driver_licence(%)</th>\n",
       "      <th>Petrol_Consumption</th>\n",
       "    </tr>\n",
       "  </thead>\n",
       "  <tbody>\n",
       "    <tr>\n",
       "      <th>0</th>\n",
       "      <td>9.0</td>\n",
       "      <td>0.525</td>\n",
       "      <td>541</td>\n",
       "    </tr>\n",
       "    <tr>\n",
       "      <th>1</th>\n",
       "      <td>9.0</td>\n",
       "      <td>0.572</td>\n",
       "      <td>524</td>\n",
       "    </tr>\n",
       "    <tr>\n",
       "      <th>2</th>\n",
       "      <td>9.0</td>\n",
       "      <td>0.580</td>\n",
       "      <td>561</td>\n",
       "    </tr>\n",
       "    <tr>\n",
       "      <th>3</th>\n",
       "      <td>7.5</td>\n",
       "      <td>0.529</td>\n",
       "      <td>414</td>\n",
       "    </tr>\n",
       "    <tr>\n",
       "      <th>4</th>\n",
       "      <td>8.0</td>\n",
       "      <td>0.544</td>\n",
       "      <td>410</td>\n",
       "    </tr>\n",
       "  </tbody>\n",
       "</table>\n",
       "</div>"
      ]
     },
     "execution_count": 64,
     "metadata": {},
     "output_type": "execute_result"
    }
   ],
   "execution_count": 64
  },
  {
   "cell_type": "code",
   "metadata": {
    "pycharm": {
     "name": "#%%\n"
    },
    "ExecuteTime": {
     "end_time": "2025-05-30T05:06:25.212334Z",
     "start_time": "2025-05-30T05:06:25.196485Z"
    }
   },
   "source": [
    "# Drop a row by index\n",
    "new_df = df.drop([0, 1])\n",
    "new_df.head()"
   ],
   "outputs": [
    {
     "data": {
      "text/plain": [
       "   Petrol_tax  Average_income  Paved_Highways  Population_Driver_licence(%)  \\\n",
       "2         9.0            3865            1586                         0.580   \n",
       "3         7.5            4870            2351                         0.529   \n",
       "4         8.0            4399             431                         0.544   \n",
       "5        10.0            5342            1333                         0.571   \n",
       "6         8.0            5319           11868                         0.451   \n",
       "\n",
       "   Petrol_Consumption  \n",
       "2                 561  \n",
       "3                 414  \n",
       "4                 410  \n",
       "5                 457  \n",
       "6                 344  "
      ],
      "text/html": [
       "<div>\n",
       "<style scoped>\n",
       "    .dataframe tbody tr th:only-of-type {\n",
       "        vertical-align: middle;\n",
       "    }\n",
       "\n",
       "    .dataframe tbody tr th {\n",
       "        vertical-align: top;\n",
       "    }\n",
       "\n",
       "    .dataframe thead th {\n",
       "        text-align: right;\n",
       "    }\n",
       "</style>\n",
       "<table border=\"1\" class=\"dataframe\">\n",
       "  <thead>\n",
       "    <tr style=\"text-align: right;\">\n",
       "      <th></th>\n",
       "      <th>Petrol_tax</th>\n",
       "      <th>Average_income</th>\n",
       "      <th>Paved_Highways</th>\n",
       "      <th>Population_Driver_licence(%)</th>\n",
       "      <th>Petrol_Consumption</th>\n",
       "    </tr>\n",
       "  </thead>\n",
       "  <tbody>\n",
       "    <tr>\n",
       "      <th>2</th>\n",
       "      <td>9.0</td>\n",
       "      <td>3865</td>\n",
       "      <td>1586</td>\n",
       "      <td>0.580</td>\n",
       "      <td>561</td>\n",
       "    </tr>\n",
       "    <tr>\n",
       "      <th>3</th>\n",
       "      <td>7.5</td>\n",
       "      <td>4870</td>\n",
       "      <td>2351</td>\n",
       "      <td>0.529</td>\n",
       "      <td>414</td>\n",
       "    </tr>\n",
       "    <tr>\n",
       "      <th>4</th>\n",
       "      <td>8.0</td>\n",
       "      <td>4399</td>\n",
       "      <td>431</td>\n",
       "      <td>0.544</td>\n",
       "      <td>410</td>\n",
       "    </tr>\n",
       "    <tr>\n",
       "      <th>5</th>\n",
       "      <td>10.0</td>\n",
       "      <td>5342</td>\n",
       "      <td>1333</td>\n",
       "      <td>0.571</td>\n",
       "      <td>457</td>\n",
       "    </tr>\n",
       "    <tr>\n",
       "      <th>6</th>\n",
       "      <td>8.0</td>\n",
       "      <td>5319</td>\n",
       "      <td>11868</td>\n",
       "      <td>0.451</td>\n",
       "      <td>344</td>\n",
       "    </tr>\n",
       "  </tbody>\n",
       "</table>\n",
       "</div>"
      ]
     },
     "execution_count": 66,
     "metadata": {},
     "output_type": "execute_result"
    }
   ],
   "execution_count": 66
  },
  {
   "cell_type": "code",
   "metadata": {
    "jupyter": {
     "outputs_hidden": false
    },
    "pycharm": {
     "name": "#%%\n"
    },
    "ExecuteTime": {
     "end_time": "2025-05-30T05:07:56.152997Z",
     "start_time": "2025-05-30T05:07:56.141527Z"
    }
   },
   "source": [
    "# pandas support many operations similar to numpy\n",
    "print('Sum of columns\\n', df.sum(), '\\n')\n",
    "print('Sum of all the data frame\\n', df.sum().sum(), '\\n')\n",
    "print('Mean of columns\\n', df.mean(), '\\n')\n",
    "print('Converting dataframe to numpy array\\n', type(df.to_numpy()))"
   ],
   "outputs": [
    {
     "name": "stdout",
     "output_type": "stream",
     "text": [
      "Sum of columns\n",
      " Petrol_tax                         368.080\n",
      "Average_income                  203608.000\n",
      "Paved_Highways                  267140.000\n",
      "Population_Driver_licence(%)        27.376\n",
      "Petrol_Consumption               27685.000\n",
      "dtype: float64 \n",
      "\n",
      "Sum of all the data frame\n",
      " 498828.45599999995 \n",
      "\n",
      "Mean of columns\n",
      " Petrol_tax                         7.668333\n",
      "Average_income                  4241.833333\n",
      "Paved_Highways                  5565.416667\n",
      "Population_Driver_licence(%)       0.570333\n",
      "Petrol_Consumption               576.770833\n",
      "dtype: float64 \n",
      "\n",
      "Converting dataframe to numpy array\n",
      " <class 'numpy.ndarray'>\n"
     ]
    }
   ],
   "execution_count": 67
  },
  {
   "cell_type": "markdown",
   "metadata": {
    "pycharm": {
     "name": "#%% md\n"
    }
   },
   "source": [
    "---\n",
    "## Seaborn\n",
    "Seaborn is a Python data visualization library based on matplotlib. It provides\n",
    "a high-level interface for drawing attractive and informative statistical graphics.\n",
    "Usually used with pandas.\n",
    "\n",
    "[Reference](https://seaborn.pydata.org/examples/index.html)\n",
    "[Examples](https://www.geeksforgeeks.org/python-seaborn-tutorial/)"
   ]
  },
  {
   "cell_type": "code",
   "metadata": {
    "jupyter": {
     "outputs_hidden": false
    },
    "pycharm": {
     "name": "#%%\n"
    },
    "ExecuteTime": {
     "end_time": "2025-05-30T05:53:12.900396Z",
     "start_time": "2025-05-30T05:53:12.152116Z"
    }
   },
   "source": [
    "import seaborn as sns\n",
    "from pkg_resources import working_set\n",
    "# if \"ipython\" not in [pkg.key for pkg in working_set]:\n",
    "#     !pip install ipython\n",
    "if not package_is_installed(\"ipython\"):\n",
    "    !pip install ipython\n",
    "from IPython.display import display\n",
    "\n",
    "df = sns.load_dataset('tips')\n",
    "display(df.head())\n",
    "\n",
    "graph = sns.FacetGrid(df, col =\"sex\",  hue =\"day\")\n",
    "graph.map(plt.scatter, \"total_bill\", \"tip\", edgecolor =\"w\").add_legend()\n",
    "\n",
    "plt.show()"
   ],
   "outputs": [
    {
     "data": {
      "text/plain": [
       "   total_bill   tip     sex smoker  day    time  size\n",
       "0       16.99  1.01  Female     No  Sun  Dinner     2\n",
       "1       10.34  1.66    Male     No  Sun  Dinner     3\n",
       "2       21.01  3.50    Male     No  Sun  Dinner     3\n",
       "3       23.68  3.31    Male     No  Sun  Dinner     2\n",
       "4       24.59  3.61  Female     No  Sun  Dinner     4"
      ],
      "text/html": [
       "<div>\n",
       "<style scoped>\n",
       "    .dataframe tbody tr th:only-of-type {\n",
       "        vertical-align: middle;\n",
       "    }\n",
       "\n",
       "    .dataframe tbody tr th {\n",
       "        vertical-align: top;\n",
       "    }\n",
       "\n",
       "    .dataframe thead th {\n",
       "        text-align: right;\n",
       "    }\n",
       "</style>\n",
       "<table border=\"1\" class=\"dataframe\">\n",
       "  <thead>\n",
       "    <tr style=\"text-align: right;\">\n",
       "      <th></th>\n",
       "      <th>total_bill</th>\n",
       "      <th>tip</th>\n",
       "      <th>sex</th>\n",
       "      <th>smoker</th>\n",
       "      <th>day</th>\n",
       "      <th>time</th>\n",
       "      <th>size</th>\n",
       "    </tr>\n",
       "  </thead>\n",
       "  <tbody>\n",
       "    <tr>\n",
       "      <th>0</th>\n",
       "      <td>16.99</td>\n",
       "      <td>1.01</td>\n",
       "      <td>Female</td>\n",
       "      <td>No</td>\n",
       "      <td>Sun</td>\n",
       "      <td>Dinner</td>\n",
       "      <td>2</td>\n",
       "    </tr>\n",
       "    <tr>\n",
       "      <th>1</th>\n",
       "      <td>10.34</td>\n",
       "      <td>1.66</td>\n",
       "      <td>Male</td>\n",
       "      <td>No</td>\n",
       "      <td>Sun</td>\n",
       "      <td>Dinner</td>\n",
       "      <td>3</td>\n",
       "    </tr>\n",
       "    <tr>\n",
       "      <th>2</th>\n",
       "      <td>21.01</td>\n",
       "      <td>3.50</td>\n",
       "      <td>Male</td>\n",
       "      <td>No</td>\n",
       "      <td>Sun</td>\n",
       "      <td>Dinner</td>\n",
       "      <td>3</td>\n",
       "    </tr>\n",
       "    <tr>\n",
       "      <th>3</th>\n",
       "      <td>23.68</td>\n",
       "      <td>3.31</td>\n",
       "      <td>Male</td>\n",
       "      <td>No</td>\n",
       "      <td>Sun</td>\n",
       "      <td>Dinner</td>\n",
       "      <td>2</td>\n",
       "    </tr>\n",
       "    <tr>\n",
       "      <th>4</th>\n",
       "      <td>24.59</td>\n",
       "      <td>3.61</td>\n",
       "      <td>Female</td>\n",
       "      <td>No</td>\n",
       "      <td>Sun</td>\n",
       "      <td>Dinner</td>\n",
       "      <td>4</td>\n",
       "    </tr>\n",
       "  </tbody>\n",
       "</table>\n",
       "</div>"
      ]
     },
     "metadata": {},
     "output_type": "display_data"
    },
    {
     "data": {
      "text/plain": [
       "<Figure size 678.625x300 with 2 Axes>"
      ],
      "image/png": "[encoded data removed]"
     },
     "metadata": {},
     "output_type": "display_data"
    }
   ],
   "execution_count": 83
  },
  {
   "cell_type": "markdown",
   "metadata": {
    "pycharm": {
     "name": "#%% md\n"
    }
   },
   "source": [
    "---\n",
    "## SKLearn\n",
    "\n",
    "[SKLearn](https://scikit-learn.org/stable/modules/classes.html) is a simple\n",
    "and efficient tools for predictive data analysis.\n",
    "We will use it for classification, regression and clustering algorithms.\n",
    "\n",
    "Usually datasets have two parts, data(or features) and targets(or labels).\n",
    "We train our machine learning model to predict the target of a sample given\n",
    "its features."
   ]
  },
  {
   "cell_type": "code",
   "metadata": {
    "pycharm": {
     "name": "#%%\n"
    },
    "ExecuteTime": {
     "end_time": "2025-05-30T05:54:36.838527Z",
     "start_time": "2025-05-30T05:54:36.273959Z"
    }
   },
   "source": [
    "# sklearn has some datasets inside it to learn and test on them\n",
    "from sklearn import datasets\n",
    "iris = datasets.load_iris()\n",
    "print(f'Dataset shape: {iris.data.shape = }, {iris.target.shape = }')\n",
    "print(f'Example of a sample: features: {iris.data[0]}, classification: {iris.target[0]}')"
   ],
   "outputs": [
    {
     "name": "stdout",
     "output_type": "stream",
     "text": [
      "Dataset shape: iris.data.shape = (150, 4), iris.target.shape = (150,)\n",
      "Example of a sample: features: [5.1 3.5 1.4 0.2], classification: 0\n"
     ]
    }
   ],
   "execution_count": 84
  },
  {
   "cell_type": "markdown",
   "metadata": {},
   "source": [
    "SKLearn gives a simple API to build models. Mainly it consists of two steps:\n",
    "- Model creation: where we choose the model and set its parameters\n",
    "- Fitting the data: Where we give our model the training data to learn from\n",
    "- Prediction: where we can predict the label of a sample\n",
    "\n",
    "`svm` is a prediction model(we will study how it works later in the course).\n",
    "\n",
    "Here is an example on how to use an SKLearn model:"
   ]
  },
  {
   "cell_type": "code",
   "metadata": {
    "pycharm": {
     "name": "#%%\n"
    },
    "ExecuteTime": {
     "end_time": "2025-05-30T06:16:10.280840Z",
     "start_time": "2025-05-30T06:16:10.232778Z"
    }
   },
   "source": [
    "from sklearn import svm\n",
    "# setting the hyperparameters needed by the algorithm\n",
    "# γ (gamma) is a measure of curvature of the support vector boundary. It affects fitting.\n",
    "# C is a value for the number of errors we allow in the model fit. It affects the positioning\n",
    "# of the boundary relative to the training data points.\n",
    "clf = svm.SVC(gamma=0.001, C=100.)\n",
    "# Training on all the data except the last one\n",
    "clf.fit(iris.data[:-1], iris.target[:-1])\n",
    "# predicting the last sample\n",
    "print('Our prediction', clf.predict(iris.data[-1:]), 'True value:', iris.target[-1:])"
   ],
   "outputs": [
    {
     "name": "stdout",
     "output_type": "stream",
     "text": [
      "Our prediction [2] True value: [2]\n"
     ]
    }
   ],
   "execution_count": 86
  },
  {
   "metadata": {
    "ExecuteTime": {
     "end_time": "2025-05-30T07:09:36.837168Z",
     "start_time": "2025-05-30T07:09:36.817615Z"
    }
   },
   "cell_type": "code",
   "source": [
    "# select a colormap for the plots\n",
    "# (use one of these in the SVM plots)\n",
    "# see https://matplotlib.org/stable/users/explain/colors/colormaps.html\n",
    "from matplotlib import colormaps\n",
    "list(colormaps)"
   ],
   "outputs": [
    {
     "data": {
      "text/plain": [
       "['magma',\n",
       " 'inferno',\n",
       " 'plasma',\n",
       " 'viridis',\n",
       " 'cividis',\n",
       " 'twilight',\n",
       " 'twilight_shifted',\n",
       " 'turbo',\n",
       " 'berlin',\n",
       " 'managua',\n",
       " 'vanimo',\n",
       " 'Blues',\n",
       " 'BrBG',\n",
       " 'BuGn',\n",
       " 'BuPu',\n",
       " 'CMRmap',\n",
       " 'GnBu',\n",
       " 'Greens',\n",
       " 'Greys',\n",
       " 'OrRd',\n",
       " 'Oranges',\n",
       " 'PRGn',\n",
       " 'PiYG',\n",
       " 'PuBu',\n",
       " 'PuBuGn',\n",
       " 'PuOr',\n",
       " 'PuRd',\n",
       " 'Purples',\n",
       " 'RdBu',\n",
       " 'RdGy',\n",
       " 'RdPu',\n",
       " 'RdYlBu',\n",
       " 'RdYlGn',\n",
       " 'Reds',\n",
       " 'Spectral',\n",
       " 'Wistia',\n",
       " 'YlGn',\n",
       " 'YlGnBu',\n",
       " 'YlOrBr',\n",
       " 'YlOrRd',\n",
       " 'afmhot',\n",
       " 'autumn',\n",
       " 'binary',\n",
       " 'bone',\n",
       " 'brg',\n",
       " 'bwr',\n",
       " 'cool',\n",
       " 'coolwarm',\n",
       " 'copper',\n",
       " 'cubehelix',\n",
       " 'flag',\n",
       " 'gist_earth',\n",
       " 'gist_gray',\n",
       " 'gist_heat',\n",
       " 'gist_ncar',\n",
       " 'gist_rainbow',\n",
       " 'gist_stern',\n",
       " 'gist_yarg',\n",
       " 'gnuplot',\n",
       " 'gnuplot2',\n",
       " 'gray',\n",
       " 'hot',\n",
       " 'hsv',\n",
       " 'jet',\n",
       " 'nipy_spectral',\n",
       " 'ocean',\n",
       " 'pink',\n",
       " 'prism',\n",
       " 'rainbow',\n",
       " 'seismic',\n",
       " 'spring',\n",
       " 'summer',\n",
       " 'terrain',\n",
       " 'winter',\n",
       " 'Accent',\n",
       " 'Dark2',\n",
       " 'Paired',\n",
       " 'Pastel1',\n",
       " 'Pastel2',\n",
       " 'Set1',\n",
       " 'Set2',\n",
       " 'Set3',\n",
       " 'tab10',\n",
       " 'tab20',\n",
       " 'tab20b',\n",
       " 'tab20c',\n",
       " 'grey',\n",
       " 'gist_grey',\n",
       " 'gist_yerg',\n",
       " 'Grays',\n",
       " 'magma_r',\n",
       " 'inferno_r',\n",
       " 'plasma_r',\n",
       " 'viridis_r',\n",
       " 'cividis_r',\n",
       " 'twilight_r',\n",
       " 'twilight_shifted_r',\n",
       " 'turbo_r',\n",
       " 'berlin_r',\n",
       " 'managua_r',\n",
       " 'vanimo_r',\n",
       " 'Blues_r',\n",
       " 'BrBG_r',\n",
       " 'BuGn_r',\n",
       " 'BuPu_r',\n",
       " 'CMRmap_r',\n",
       " 'GnBu_r',\n",
       " 'Greens_r',\n",
       " 'Greys_r',\n",
       " 'OrRd_r',\n",
       " 'Oranges_r',\n",
       " 'PRGn_r',\n",
       " 'PiYG_r',\n",
       " 'PuBu_r',\n",
       " 'PuBuGn_r',\n",
       " 'PuOr_r',\n",
       " 'PuRd_r',\n",
       " 'Purples_r',\n",
       " 'RdBu_r',\n",
       " 'RdGy_r',\n",
       " 'RdPu_r',\n",
       " 'RdYlBu_r',\n",
       " 'RdYlGn_r',\n",
       " 'Reds_r',\n",
       " 'Spectral_r',\n",
       " 'Wistia_r',\n",
       " 'YlGn_r',\n",
       " 'YlGnBu_r',\n",
       " 'YlOrBr_r',\n",
       " 'YlOrRd_r',\n",
       " 'afmhot_r',\n",
       " 'autumn_r',\n",
       " 'binary_r',\n",
       " 'bone_r',\n",
       " 'brg_r',\n",
       " 'bwr_r',\n",
       " 'cool_r',\n",
       " 'coolwarm_r',\n",
       " 'copper_r',\n",
       " 'cubehelix_r',\n",
       " 'flag_r',\n",
       " 'gist_earth_r',\n",
       " 'gist_gray_r',\n",
       " 'gist_heat_r',\n",
       " 'gist_ncar_r',\n",
       " 'gist_rainbow_r',\n",
       " 'gist_stern_r',\n",
       " 'gist_yarg_r',\n",
       " 'gnuplot_r',\n",
       " 'gnuplot2_r',\n",
       " 'gray_r',\n",
       " 'hot_r',\n",
       " 'hsv_r',\n",
       " 'jet_r',\n",
       " 'nipy_spectral_r',\n",
       " 'ocean_r',\n",
       " 'pink_r',\n",
       " 'prism_r',\n",
       " 'rainbow_r',\n",
       " 'seismic_r',\n",
       " 'spring_r',\n",
       " 'summer_r',\n",
       " 'terrain_r',\n",
       " 'winter_r',\n",
       " 'Accent_r',\n",
       " 'Dark2_r',\n",
       " 'Paired_r',\n",
       " 'Pastel1_r',\n",
       " 'Pastel2_r',\n",
       " 'Set1_r',\n",
       " 'Set2_r',\n",
       " 'Set3_r',\n",
       " 'tab10_r',\n",
       " 'tab20_r',\n",
       " 'tab20b_r',\n",
       " 'tab20c_r',\n",
       " 'grey_r',\n",
       " 'gist_grey_r',\n",
       " 'gist_yerg_r',\n",
       " 'Grays_r',\n",
       " 'rocket',\n",
       " 'rocket_r',\n",
       " 'mako',\n",
       " 'mako_r',\n",
       " 'icefire',\n",
       " 'icefire_r',\n",
       " 'vlag',\n",
       " 'vlag_r',\n",
       " 'flare',\n",
       " 'flare_r',\n",
       " 'crest',\n",
       " 'crest_r']"
      ]
     },
     "execution_count": 97,
     "metadata": {},
     "output_type": "execute_result"
    }
   ],
   "execution_count": 97
  },
  {
   "metadata": {
    "ExecuteTime": {
     "end_time": "2025-05-30T07:44:09.363231Z",
     "start_time": "2025-05-30T07:44:08.956350Z"
    }
   },
   "cell_type": "code",
   "source": [
    "# adapted from https://scikit-learn.org/stable/auto_examples/svm/plot_iris_svc.html\n",
    "\n",
    "# Authors: The scikit-learn developers\n",
    "# SPDX-License-Identifier: BSD-3-Clause\n",
    "\n",
    "import matplotlib.pyplot as plt\n",
    "\n",
    "from sklearn import datasets, svm\n",
    "from sklearn.inspection import DecisionBoundaryDisplay\n",
    "\n",
    "# import some data to play with\n",
    "iris = datasets.load_iris()\n",
    "\n",
    "# display(iris)\n",
    "\n",
    "# The iris dataset contains values relating features of different iris (a type of flower) samples with the\n",
    "# subspecies of those samples.\n",
    "# features:\n",
    "# - sepal length in cm\n",
    "# - sepal width in cm\n",
    "# - petal length in cm\n",
    "# - petal width in cm\n",
    "# class (subspecies):\n",
    "# - Iris-Setosa\n",
    "# - Iris-Versicolour\n",
    "# - Iris-Virginica\n",
    "\n",
    "# The sepal and the petal are two structures making up the flower of the iris.\n",
    "# see UMD (n.d.) https://www.math.umd.edu/~petersd/666/html/iris_pca.html\n",
    "\n",
    "# Take the first two and last two features.\n",
    "X = iris.data[:, :2]\n",
    "M = iris.data[:, 2:]\n",
    "y = iris.target\n",
    "\n",
    "# we create an instance of SVM and fit out data. We do not scale our\n",
    "# data since we want to plot the support vectors\n",
    "C = 1.0  # SVM regularization parameter\n",
    "models_sepal = (\n",
    "    svm.SVC(kernel=\"linear\", C=C),\n",
    "    svm.LinearSVC(C=C, max_iter=10000),\n",
    "    svm.SVC(kernel=\"rbf\", gamma=0.7, C=C),\n",
    "    svm.SVC(kernel=\"poly\", degree=3, gamma=\"auto\", C=C),\n",
    ")\n",
    "models_sepal = (clf.fit(X, y) for clf in models_sepal)\n",
    "\n",
    "models_petal = (\n",
    "    svm.SVC(kernel=\"linear\", C=C),\n",
    "    svm.LinearSVC(C=C, max_iter=10000),\n",
    "    svm.SVC(kernel=\"rbf\", gamma=0.7, C=C),\n",
    "    svm.SVC(kernel=\"poly\", degree=3, gamma=\"auto\", C=C),\n",
    ")\n",
    "models_petal = (clf.fit(M, y) for clf in models_petal)\n",
    "\n",
    "# title for the plots\n",
    "titles = (\n",
    "    \"SVC with linear kernel\",\n",
    "    \"LinearSVC (linear kernel)\",\n",
    "    \"SVC with RBF kernel\",\n",
    "    \"SVC with polynomial (degree 3) kernel\",\n",
    ")\n",
    "\n",
    "colormap_for_classes = 'viridis'\n",
    "plt_wspace = 0.6\n",
    "plt_hspace = 0.4\n",
    "fig_width = 10\n",
    "fig_height = 8\n",
    "\n",
    "# sepal plots\n",
    "# Set-up 2x2 grid for plotting.\n",
    "fig, sub = plt.subplots(2, 2)\n",
    "plt.subplots_adjust(wspace=plt_wspace, hspace=plt_hspace)\n",
    "fig.set_size_inches(fig_width, fig_height)\n",
    "\n",
    "X0, X1 = X[:, 0], X[:, 1]\n",
    "\n",
    "for clf, title, ax in zip(models_sepal, titles, sub.flatten()):\n",
    "    disp = DecisionBoundaryDisplay.from_estimator(\n",
    "        clf,\n",
    "        X,\n",
    "        response_method=\"predict\",\n",
    "        cmap=plt.colormaps[colormap_for_classes],\n",
    "        alpha=0.8,\n",
    "        ax=ax,\n",
    "        xlabel=iris.feature_names[0],\n",
    "        ylabel=iris.feature_names[1],\n",
    "    )\n",
    "\n",
    "    scatter_sepal = ax.scatter(X0, X1, c=y, cmap=plt.colormaps[colormap_for_classes], s=20, edgecolors=\"k\")\n",
    "\n",
    "    # Add legend outside of the plot\n",
    "    # bbox_to_anchor=(1.05, 1) puts the legend's upper-left corner\n",
    "    # at position (1.05, 1) relative to the axes\n",
    "    legend1 = ax.legend(scatter_sepal.legend_elements()[0],\n",
    "                        iris.target_names,\n",
    "                        loc='center left',\n",
    "                        bbox_to_anchor=(1.05, 0.5),\n",
    "                        title=\"Classes\")\n",
    "\n",
    "    ax.add_artist(legend1)\n",
    "\n",
    "    ax.set_xticks(())\n",
    "    ax.set_yticks(())\n",
    "    ax.set_title(title)\n",
    "\n",
    "plt.show()\n",
    "\n",
    "# petal plots\n",
    "# Set-up 2x2 grid for plotting.\n",
    "fig2, sub2 = plt.subplots(2, 2)\n",
    "plt.subplots_adjust(wspace=plt_wspace, hspace=plt_hspace)\n",
    "fig2.set_size_inches(fig_width, fig_height)\n",
    "\n",
    "M0, M1 = M[:, 0], M[:, 1]\n",
    "\n",
    "\n",
    "for clf, title, ax in zip(models_petal, titles, sub2.flatten()):\n",
    "    disp = DecisionBoundaryDisplay.from_estimator(\n",
    "        clf,\n",
    "        M,\n",
    "        response_method=\"predict\",\n",
    "        cmap=plt.colormaps[colormap_for_classes],\n",
    "        alpha=0.8,\n",
    "        ax=ax,\n",
    "        xlabel=iris.feature_names[0],\n",
    "        ylabel=iris.feature_names[1],\n",
    "    )\n",
    "\n",
    "    scatter_petal = ax.scatter(M0, M1, c=y, cmap=plt.colormaps[colormap_for_classes], s=20, edgecolors=\"k\")\n",
    "\n",
    "    # Add legend outside of the plot\n",
    "    # bbox_to_anchor=(1.05, 1) puts the legend's upper-left corner\n",
    "    # at position (1.05, 1) relative to the axes\n",
    "    legend1 = ax.legend(scatter_petal.legend_elements()[0],\n",
    "                        iris.target_names,\n",
    "                        loc='center left',\n",
    "                        bbox_to_anchor=(1.05, 0.5),\n",
    "                        title=\"Classes\")\n",
    "\n",
    "    ax.add_artist(legend1)\n",
    "\n",
    "    ax.set_xticks(())\n",
    "    ax.set_yticks(())\n",
    "    ax.set_title(title)\n",
    "\n",
    "plt.show()\n"
   ],
   "outputs": [
    {
     "data": {
      "text/plain": [
       "<Figure size 1000x800 with 4 Axes>"
      ],
      "image/png": "[encoded data removed]"
     },
     "metadata": {},
     "output_type": "display_data"
    },
    {
     "data": {
      "text/plain": [
       "<Figure size 1000x800 with 4 Axes>"
      ],
      "image/png": "[encoded data removed]"
     },
     "metadata": {},
     "output_type": "display_data"
    }
   ],
   "execution_count": 113
  },
  {
   "metadata": {
    "ExecuteTime": {
     "end_time": "2025-05-30T07:59:15.309973Z",
     "start_time": "2025-05-30T07:59:15.123961Z"
    }
   },
   "cell_type": "code",
   "source": [
    "# correlation matrix\n",
    "# see https://www.geeksforgeeks.org/create-a-correlation-matrix-using-python/ but for god's sake use reader mode.\n",
    "# and https://seaborn.pydata.org/examples/many_pairwise_correlations.html\n",
    "from sklearn import datasets\n",
    "import pandas as pd\n",
    "dataset = datasets. load_iris()\n",
    "dataframe = pd.DataFrame(data = dataset.data,columns = dataset.feature_names)\n",
    "dataframe[\"target\"] = dataset.target\n",
    "matrix = dataframe.corr()\n",
    "print(matrix)\n",
    "\n",
    "# Generate a mask for the upper triangle\n",
    "mask = np.triu(np.ones_like(matrix, dtype=bool))\n",
    "\n",
    "# Set up the matplotlib figure\n",
    "f, ax = plt.subplots(figsize=(8, 8))\n",
    "\n",
    "# Generate a custom diverging colormap\n",
    "cmap = sns.diverging_palette(230, 20, as_cmap=True)\n",
    "\n",
    "# Draw the heatmap with the mask and correct aspect ratio\n",
    "# sns.heatmap(matrix, mask=mask, cmap=cmap, vmax=.3, center=0,\n",
    "#             square=True, linewidths=.5, cbar_kws={\"shrink\": .5})\n",
    "sns.heatmap(matrix, mask=mask, cmap=cmap, center=0,\n",
    "            square=True, linewidths=.5, cbar_kws={\"shrink\": .5})\n",
    "\n"
   ],
   "outputs": [
    {
     "name": "stdout",
     "output_type": "stream",
     "text": [
      "                   sepal length (cm)  sepal width (cm)  petal length (cm)  \\\n",
      "sepal length (cm)           1.000000         -0.117570           0.871754   \n",
      "sepal width (cm)           -0.117570          1.000000          -0.428440   \n",
      "petal length (cm)           0.871754         -0.428440           1.000000   \n",
      "petal width (cm)            0.817941         -0.366126           0.962865   \n",
      "target                      0.782561         -0.426658           0.949035   \n",
      "\n",
      "                   petal width (cm)    target  \n",
      "sepal length (cm)          0.817941  0.782561  \n",
      "sepal width (cm)          -0.366126 -0.426658  \n",
      "petal length (cm)          0.962865  0.949035  \n",
      "petal width (cm)           1.000000  0.956547  \n",
      "target                     0.956547  1.000000  \n"
     ]
    },
    {
     "data": {
      "text/plain": [
       "<Axes: >"
      ]
     },
     "execution_count": 117,
     "metadata": {},
     "output_type": "execute_result"
    },
    {
     "data": {
      "text/plain": [
       "<Figure size 800x800 with 2 Axes>"
      ],
      "image/png": "[encoded data removed]"
     },
     "metadata": {},
     "output_type": "display_data"
    }
   ],
   "execution_count": 117
  },
  {
   "metadata": {},
   "cell_type": "markdown",
   "source": [
    "# References\n",
    "\n",
    "UMD (n.d.) Example for Principal Component Analysis (PCA): Iris data\n",
    " https://www.math.umd.edu/~petersd/666/html/iris_pca.html"
   ]
  }
 ],
 "metadata": {
  "kernelspec": {
   "display_name": "Python 3",
   "language": "python",
   "name": "python3"
  },
  "language_info": {
   "codemirror_mode": {
    "name": "ipython",
    "version": 3
   },
   "file_extension": ".py",
   "mimetype": "text/x-python",
   "name": "python",
   "nbconvert_exporter": "python",
   "pygments_lexer": "ipython3",
   "version": "3.8.8"
  }
 },
 "nbformat": 4,
 "nbformat_minor": 4
}
